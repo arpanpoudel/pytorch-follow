{
 "cells": [
  {
   "cell_type": "code",
   "execution_count": 2,
   "id": "26444816",
   "metadata": {},
   "outputs": [],
   "source": [
    "#import pytorch\n",
    "import torch\n",
    "from torch import nn\n",
    "\n",
    "# import vision\n",
    "import torchvision\n",
    "from torchvision import datasets\n",
    "from torchvision import transforms\n",
    "from torchvision.transforms import ToTensor\n",
    "\n",
    "#import matplot lib\n",
    "import matplotlib.pyplot as plt"
   ]
  },
  {
   "cell_type": "code",
   "execution_count": 5,
   "id": "1b19ed36",
   "metadata": {},
   "outputs": [],
   "source": [
    "#getting a dataset (Fashion mnist)\n",
    "train_data=datasets.FashionMNIST(root=\"data\",\n",
    "                                train=True,\n",
    "                                download=True,\n",
    "                                transform=torchvision.transforms.ToTensor(),\n",
    "                                target_transform=None)\n",
    "test_data=datasets.FashionMNIST(root='data',\n",
    "                               train=False,\n",
    "                               download=True,\n",
    "                               transform=ToTensor(),\n",
    "                               target_transform=None)"
   ]
  },
  {
   "cell_type": "code",
   "execution_count": 6,
   "id": "4347cd4e",
   "metadata": {},
   "outputs": [
    {
     "data": {
      "text/plain": [
       "(60000, 10000)"
      ]
     },
     "execution_count": 6,
     "metadata": {},
     "output_type": "execute_result"
    }
   ],
   "source": [
    "len(train_data),len(test_data)"
   ]
  },
  {
   "cell_type": "code",
   "execution_count": 7,
   "id": "478283ed",
   "metadata": {},
   "outputs": [
    {
     "data": {
      "text/plain": [
       "(tensor([[[0.0000, 0.0000, 0.0000, 0.0000, 0.0000, 0.0000, 0.0000, 0.0000,\n",
       "           0.0000, 0.0000, 0.0000, 0.0000, 0.0000, 0.0000, 0.0000, 0.0000,\n",
       "           0.0000, 0.0000, 0.0000, 0.0000, 0.0000, 0.0000, 0.0000, 0.0000,\n",
       "           0.0000, 0.0000, 0.0000, 0.0000],\n",
       "          [0.0000, 0.0000, 0.0000, 0.0000, 0.0000, 0.0000, 0.0000, 0.0000,\n",
       "           0.0000, 0.0000, 0.0000, 0.0000, 0.0000, 0.0000, 0.0000, 0.0000,\n",
       "           0.0000, 0.0000, 0.0000, 0.0000, 0.0000, 0.0000, 0.0000, 0.0000,\n",
       "           0.0000, 0.0000, 0.0000, 0.0000],\n",
       "          [0.0000, 0.0000, 0.0000, 0.0000, 0.0000, 0.0000, 0.0000, 0.0000,\n",
       "           0.0000, 0.0000, 0.0000, 0.0000, 0.0000, 0.0000, 0.0000, 0.0000,\n",
       "           0.0000, 0.0000, 0.0000, 0.0000, 0.0000, 0.0000, 0.0000, 0.0000,\n",
       "           0.0000, 0.0000, 0.0000, 0.0000],\n",
       "          [0.0000, 0.0000, 0.0000, 0.0000, 0.0000, 0.0000, 0.0000, 0.0000,\n",
       "           0.0000, 0.0000, 0.0000, 0.0000, 0.0039, 0.0000, 0.0000, 0.0510,\n",
       "           0.2863, 0.0000, 0.0000, 0.0039, 0.0157, 0.0000, 0.0000, 0.0000,\n",
       "           0.0000, 0.0039, 0.0039, 0.0000],\n",
       "          [0.0000, 0.0000, 0.0000, 0.0000, 0.0000, 0.0000, 0.0000, 0.0000,\n",
       "           0.0000, 0.0000, 0.0000, 0.0000, 0.0118, 0.0000, 0.1412, 0.5333,\n",
       "           0.4980, 0.2431, 0.2118, 0.0000, 0.0000, 0.0000, 0.0039, 0.0118,\n",
       "           0.0157, 0.0000, 0.0000, 0.0118],\n",
       "          [0.0000, 0.0000, 0.0000, 0.0000, 0.0000, 0.0000, 0.0000, 0.0000,\n",
       "           0.0000, 0.0000, 0.0000, 0.0000, 0.0235, 0.0000, 0.4000, 0.8000,\n",
       "           0.6902, 0.5255, 0.5647, 0.4824, 0.0902, 0.0000, 0.0000, 0.0000,\n",
       "           0.0000, 0.0471, 0.0392, 0.0000],\n",
       "          [0.0000, 0.0000, 0.0000, 0.0000, 0.0000, 0.0000, 0.0000, 0.0000,\n",
       "           0.0000, 0.0000, 0.0000, 0.0000, 0.0000, 0.0000, 0.6078, 0.9255,\n",
       "           0.8118, 0.6980, 0.4196, 0.6118, 0.6314, 0.4275, 0.2510, 0.0902,\n",
       "           0.3020, 0.5098, 0.2824, 0.0588],\n",
       "          [0.0000, 0.0000, 0.0000, 0.0000, 0.0000, 0.0000, 0.0000, 0.0000,\n",
       "           0.0000, 0.0000, 0.0000, 0.0039, 0.0000, 0.2706, 0.8118, 0.8745,\n",
       "           0.8549, 0.8471, 0.8471, 0.6392, 0.4980, 0.4745, 0.4784, 0.5725,\n",
       "           0.5529, 0.3451, 0.6745, 0.2588],\n",
       "          [0.0000, 0.0000, 0.0000, 0.0000, 0.0000, 0.0000, 0.0000, 0.0000,\n",
       "           0.0000, 0.0039, 0.0039, 0.0039, 0.0000, 0.7843, 0.9098, 0.9098,\n",
       "           0.9137, 0.8980, 0.8745, 0.8745, 0.8431, 0.8353, 0.6431, 0.4980,\n",
       "           0.4824, 0.7686, 0.8980, 0.0000],\n",
       "          [0.0000, 0.0000, 0.0000, 0.0000, 0.0000, 0.0000, 0.0000, 0.0000,\n",
       "           0.0000, 0.0000, 0.0000, 0.0000, 0.0000, 0.7176, 0.8824, 0.8471,\n",
       "           0.8745, 0.8941, 0.9216, 0.8902, 0.8784, 0.8706, 0.8784, 0.8667,\n",
       "           0.8745, 0.9608, 0.6784, 0.0000],\n",
       "          [0.0000, 0.0000, 0.0000, 0.0000, 0.0000, 0.0000, 0.0000, 0.0000,\n",
       "           0.0000, 0.0000, 0.0000, 0.0000, 0.0000, 0.7569, 0.8941, 0.8549,\n",
       "           0.8353, 0.7765, 0.7059, 0.8314, 0.8235, 0.8275, 0.8353, 0.8745,\n",
       "           0.8627, 0.9529, 0.7922, 0.0000],\n",
       "          [0.0000, 0.0000, 0.0000, 0.0000, 0.0000, 0.0000, 0.0000, 0.0000,\n",
       "           0.0000, 0.0039, 0.0118, 0.0000, 0.0471, 0.8588, 0.8627, 0.8314,\n",
       "           0.8549, 0.7529, 0.6627, 0.8902, 0.8157, 0.8549, 0.8784, 0.8314,\n",
       "           0.8863, 0.7725, 0.8196, 0.2039],\n",
       "          [0.0000, 0.0000, 0.0000, 0.0000, 0.0000, 0.0000, 0.0000, 0.0000,\n",
       "           0.0000, 0.0000, 0.0235, 0.0000, 0.3882, 0.9569, 0.8706, 0.8627,\n",
       "           0.8549, 0.7961, 0.7765, 0.8667, 0.8431, 0.8353, 0.8706, 0.8627,\n",
       "           0.9608, 0.4667, 0.6549, 0.2196],\n",
       "          [0.0000, 0.0000, 0.0000, 0.0000, 0.0000, 0.0000, 0.0000, 0.0000,\n",
       "           0.0000, 0.0157, 0.0000, 0.0000, 0.2157, 0.9255, 0.8941, 0.9020,\n",
       "           0.8941, 0.9412, 0.9098, 0.8353, 0.8549, 0.8745, 0.9176, 0.8510,\n",
       "           0.8510, 0.8196, 0.3608, 0.0000],\n",
       "          [0.0000, 0.0000, 0.0039, 0.0157, 0.0235, 0.0275, 0.0078, 0.0000,\n",
       "           0.0000, 0.0000, 0.0000, 0.0000, 0.9294, 0.8863, 0.8510, 0.8745,\n",
       "           0.8706, 0.8588, 0.8706, 0.8667, 0.8471, 0.8745, 0.8980, 0.8431,\n",
       "           0.8549, 1.0000, 0.3020, 0.0000],\n",
       "          [0.0000, 0.0118, 0.0000, 0.0000, 0.0000, 0.0000, 0.0000, 0.0000,\n",
       "           0.0000, 0.2431, 0.5686, 0.8000, 0.8941, 0.8118, 0.8353, 0.8667,\n",
       "           0.8549, 0.8157, 0.8275, 0.8549, 0.8784, 0.8745, 0.8588, 0.8431,\n",
       "           0.8784, 0.9569, 0.6235, 0.0000],\n",
       "          [0.0000, 0.0000, 0.0000, 0.0000, 0.0706, 0.1725, 0.3216, 0.4196,\n",
       "           0.7412, 0.8941, 0.8627, 0.8706, 0.8510, 0.8863, 0.7843, 0.8039,\n",
       "           0.8275, 0.9020, 0.8784, 0.9176, 0.6902, 0.7373, 0.9804, 0.9725,\n",
       "           0.9137, 0.9333, 0.8431, 0.0000],\n",
       "          [0.0000, 0.2235, 0.7333, 0.8157, 0.8784, 0.8667, 0.8784, 0.8157,\n",
       "           0.8000, 0.8392, 0.8157, 0.8196, 0.7843, 0.6235, 0.9608, 0.7569,\n",
       "           0.8078, 0.8745, 1.0000, 1.0000, 0.8667, 0.9176, 0.8667, 0.8275,\n",
       "           0.8627, 0.9098, 0.9647, 0.0000],\n",
       "          [0.0118, 0.7922, 0.8941, 0.8784, 0.8667, 0.8275, 0.8275, 0.8392,\n",
       "           0.8039, 0.8039, 0.8039, 0.8627, 0.9412, 0.3137, 0.5882, 1.0000,\n",
       "           0.8980, 0.8667, 0.7373, 0.6039, 0.7490, 0.8235, 0.8000, 0.8196,\n",
       "           0.8706, 0.8941, 0.8824, 0.0000],\n",
       "          [0.3843, 0.9137, 0.7765, 0.8235, 0.8706, 0.8980, 0.8980, 0.9176,\n",
       "           0.9765, 0.8627, 0.7608, 0.8431, 0.8510, 0.9451, 0.2549, 0.2863,\n",
       "           0.4157, 0.4588, 0.6588, 0.8588, 0.8667, 0.8431, 0.8510, 0.8745,\n",
       "           0.8745, 0.8784, 0.8980, 0.1137],\n",
       "          [0.2941, 0.8000, 0.8314, 0.8000, 0.7569, 0.8039, 0.8275, 0.8824,\n",
       "           0.8471, 0.7255, 0.7725, 0.8078, 0.7765, 0.8353, 0.9412, 0.7647,\n",
       "           0.8902, 0.9608, 0.9373, 0.8745, 0.8549, 0.8314, 0.8196, 0.8706,\n",
       "           0.8627, 0.8667, 0.9020, 0.2627],\n",
       "          [0.1882, 0.7961, 0.7176, 0.7608, 0.8353, 0.7725, 0.7255, 0.7451,\n",
       "           0.7608, 0.7529, 0.7922, 0.8392, 0.8588, 0.8667, 0.8627, 0.9255,\n",
       "           0.8824, 0.8471, 0.7804, 0.8078, 0.7294, 0.7098, 0.6941, 0.6745,\n",
       "           0.7098, 0.8039, 0.8078, 0.4510],\n",
       "          [0.0000, 0.4784, 0.8588, 0.7569, 0.7020, 0.6706, 0.7176, 0.7686,\n",
       "           0.8000, 0.8235, 0.8353, 0.8118, 0.8275, 0.8235, 0.7843, 0.7686,\n",
       "           0.7608, 0.7490, 0.7647, 0.7490, 0.7765, 0.7529, 0.6902, 0.6118,\n",
       "           0.6549, 0.6941, 0.8235, 0.3608],\n",
       "          [0.0000, 0.0000, 0.2902, 0.7412, 0.8314, 0.7490, 0.6863, 0.6745,\n",
       "           0.6863, 0.7098, 0.7255, 0.7373, 0.7412, 0.7373, 0.7569, 0.7765,\n",
       "           0.8000, 0.8196, 0.8235, 0.8235, 0.8275, 0.7373, 0.7373, 0.7608,\n",
       "           0.7529, 0.8471, 0.6667, 0.0000],\n",
       "          [0.0078, 0.0000, 0.0000, 0.0000, 0.2588, 0.7843, 0.8706, 0.9294,\n",
       "           0.9373, 0.9490, 0.9647, 0.9529, 0.9569, 0.8667, 0.8627, 0.7569,\n",
       "           0.7490, 0.7020, 0.7137, 0.7137, 0.7098, 0.6902, 0.6510, 0.6588,\n",
       "           0.3882, 0.2275, 0.0000, 0.0000],\n",
       "          [0.0000, 0.0000, 0.0000, 0.0000, 0.0000, 0.0000, 0.0000, 0.1569,\n",
       "           0.2392, 0.1725, 0.2824, 0.1608, 0.1373, 0.0000, 0.0000, 0.0000,\n",
       "           0.0000, 0.0000, 0.0000, 0.0000, 0.0000, 0.0000, 0.0000, 0.0000,\n",
       "           0.0000, 0.0000, 0.0000, 0.0000],\n",
       "          [0.0000, 0.0000, 0.0000, 0.0000, 0.0000, 0.0000, 0.0000, 0.0000,\n",
       "           0.0000, 0.0000, 0.0000, 0.0000, 0.0000, 0.0000, 0.0000, 0.0000,\n",
       "           0.0000, 0.0000, 0.0000, 0.0000, 0.0000, 0.0000, 0.0000, 0.0000,\n",
       "           0.0000, 0.0000, 0.0000, 0.0000],\n",
       "          [0.0000, 0.0000, 0.0000, 0.0000, 0.0000, 0.0000, 0.0000, 0.0000,\n",
       "           0.0000, 0.0000, 0.0000, 0.0000, 0.0000, 0.0000, 0.0000, 0.0000,\n",
       "           0.0000, 0.0000, 0.0000, 0.0000, 0.0000, 0.0000, 0.0000, 0.0000,\n",
       "           0.0000, 0.0000, 0.0000, 0.0000]]]),\n",
       " 9)"
      ]
     },
     "execution_count": 7,
     "metadata": {},
     "output_type": "execute_result"
    }
   ],
   "source": [
    "#ecxample\n",
    "image,label=train_data[0]\n",
    "image,label"
   ]
  },
  {
   "cell_type": "code",
   "execution_count": 8,
   "id": "60b3e8d9",
   "metadata": {},
   "outputs": [
    {
     "data": {
      "text/plain": [
       "['T-shirt/top',\n",
       " 'Trouser',\n",
       " 'Pullover',\n",
       " 'Dress',\n",
       " 'Coat',\n",
       " 'Sandal',\n",
       " 'Shirt',\n",
       " 'Sneaker',\n",
       " 'Bag',\n",
       " 'Ankle boot']"
      ]
     },
     "execution_count": 8,
     "metadata": {},
     "output_type": "execute_result"
    }
   ],
   "source": [
    "class_names= train_data.classes\n",
    "class_names"
   ]
  },
  {
   "cell_type": "code",
   "execution_count": 7,
   "id": "0709f344",
   "metadata": {},
   "outputs": [
    {
     "data": {
      "text/plain": [
       "{'T-shirt/top': 0,\n",
       " 'Trouser': 1,\n",
       " 'Pullover': 2,\n",
       " 'Dress': 3,\n",
       " 'Coat': 4,\n",
       " 'Sandal': 5,\n",
       " 'Shirt': 6,\n",
       " 'Sneaker': 7,\n",
       " 'Bag': 8,\n",
       " 'Ankle boot': 9}"
      ]
     },
     "execution_count": 7,
     "metadata": {},
     "output_type": "execute_result"
    }
   ],
   "source": [
    "class_to_idx=train_data.class_to_idx\n",
    "class_to_idx"
   ]
  },
  {
   "cell_type": "code",
   "execution_count": 8,
   "id": "de8b8082",
   "metadata": {},
   "outputs": [
    {
     "data": {
      "text/plain": [
       "tensor([9, 0, 0,  ..., 3, 0, 5])"
      ]
     },
     "execution_count": 8,
     "metadata": {},
     "output_type": "execute_result"
    }
   ],
   "source": [
    "train_data.targets"
   ]
  },
  {
   "cell_type": "code",
   "execution_count": 9,
   "id": "64d8abd6",
   "metadata": {},
   "outputs": [
    {
     "data": {
      "text/plain": [
       "(torch.Size([1, 28, 28]), 9)"
      ]
     },
     "execution_count": 9,
     "metadata": {},
     "output_type": "execute_result"
    }
   ],
   "source": [
    "image.shape, label"
   ]
  },
  {
   "cell_type": "code",
   "execution_count": 10,
   "id": "cac0ff7f",
   "metadata": {},
   "outputs": [],
   "source": [
    "# visualize image"
   ]
  },
  {
   "cell_type": "code",
   "execution_count": 22,
   "id": "9f7cb344",
   "metadata": {},
   "outputs": [
    {
     "data": {
      "text/plain": [
       "(-0.5, 27.5, 27.5, -0.5)"
      ]
     },
     "execution_count": 22,
     "metadata": {},
     "output_type": "execute_result"
    },
    {
     "data": {
      "image/png": "[encoded data removed]",
      "text/plain": [
       "<Figure size 432x288 with 1 Axes>"
      ]
     },
     "metadata": {
      "needs_background": "light"
     },
     "output_type": "display_data"
    }
   ],
   "source": [
    "plt.imshow(image.squeeze(dim=0),cmap='gray')\n",
    "plt.axis(False)"
   ]
  },
  {
   "cell_type": "code",
   "execution_count": 20,
   "id": "725ed00e",
   "metadata": {},
   "outputs": [
    {
     "data": {
      "text/plain": [
       "<matplotlib.image.AxesImage at 0x26471448d60>"
      ]
     },
     "execution_count": 20,
     "metadata": {},
     "output_type": "execute_result"
    },
    {
     "data": {
      "image/png": "[encoded data removed]",
      "text/plain": [
       "<Figure size 432x288 with 1 Axes>"
      ]
     },
     "metadata": {
      "needs_background": "light"
     },
     "output_type": "display_data"
    }
   ],
   "source": [
    "plt.imshow(torch.permute(image,(2,1,0)))"
   ]
  },
  {
   "cell_type": "code",
   "execution_count": 34,
   "id": "a5553293",
   "metadata": {},
   "outputs": [
    {
     "data": {
      "image/png": "[encoded data removed]",
      "text/plain": [
       "<Figure size 648x648 with 16 Axes>"
      ]
     },
     "metadata": {
      "needs_background": "light"
     },
     "output_type": "display_data"
    }
   ],
   "source": [
    "#plot more images\n",
    "torch.manual_seed(42)\n",
    "fig=plt.figure(figsize=(9,9))\n",
    "rows,cols=4,4\n",
    "for i in range(1,rows*cols+1):\n",
    "    random_idx=torch.randint(0,len(train_data),size=[1]).item()\n",
    "    img,label=train_data[random_idx]\n",
    "    fig.add_subplot(rows,cols,i)\n",
    "    plt.imshow(img.squeeze(),cmap='gray')\n",
    "    plt.title(class_names[label])\n",
    "    plt.axis(False)\n",
    "    "
   ]
  },
  {
   "cell_type": "markdown",
   "id": "986677de",
   "metadata": {},
   "source": [
    "# dataloader\n",
    "#daloader turns dataset into python iterables\n",
    "# turns data into batches ( or mini-batches)\n",
    "#why?\n",
    "# computationally efficient, break 60000 images in 32 images batch sizes\n",
    "#neural network more chances to update gradients per epoch\n"
   ]
  },
  {
   "cell_type": "code",
   "execution_count": 9,
   "id": "05e56b78",
   "metadata": {},
   "outputs": [],
   "source": [
    "from torch.utils.data import DataLoader\n",
    "\n",
    "#setup batchsize\n",
    "BATCH_SIZE=32\n",
    "\n",
    "#turn datasets into iterables\n",
    "train_data_loader=DataLoader(train_data,batch_size=BATCH_SIZE,shuffle=True)\n",
    "test_data_loader=DataLoader(test_data,batch_size=BATCH_SIZE,shuffle=False)"
   ]
  },
  {
   "cell_type": "code",
   "execution_count": 10,
   "id": "fc682d43",
   "metadata": {},
   "outputs": [
    {
     "data": {
      "text/plain": [
       "(<torch.utils.data.dataloader.DataLoader at 0x1b6c357c8b0>,\n",
       " <torch.utils.data.dataloader.DataLoader at 0x1b6c357c310>)"
      ]
     },
     "execution_count": 10,
     "metadata": {},
     "output_type": "execute_result"
    }
   ],
   "source": [
    "train_data_loader,test_data_loader"
   ]
  },
  {
   "cell_type": "code",
   "execution_count": 11,
   "id": "e1e354b9",
   "metadata": {
    "scrolled": true
   },
   "outputs": [
    {
     "data": {
      "text/plain": [
       "32"
      ]
     },
     "execution_count": 11,
     "metadata": {},
     "output_type": "execute_result"
    }
   ],
   "source": [
    "#what is this?\n",
    "train_data_loader.batch_size"
   ]
  },
  {
   "cell_type": "code",
   "execution_count": 12,
   "id": "10c6062e",
   "metadata": {},
   "outputs": [
    {
     "data": {
      "text/plain": [
       "(torch.Size([32, 1, 28, 28]), torch.Size([32]))"
      ]
     },
     "execution_count": 12,
     "metadata": {},
     "output_type": "execute_result"
    }
   ],
   "source": [
    "#check what's inside the dataloader\n",
    "train_features_batch, train_labels_batch=next(iter(train_data_loader))\n",
    "train_features_batch.shape,train_labels_batch.shape"
   ]
  },
  {
   "cell_type": "code",
   "execution_count": 13,
   "id": "6c8f9136",
   "metadata": {},
   "outputs": [
    {
     "data": {
      "text/plain": [
       "(-0.5, 27.5, 27.5, -0.5)"
      ]
     },
     "execution_count": 13,
     "metadata": {},
     "output_type": "execute_result"
    },
    {
     "data": {
      "image/png": "[encoded data removed]",
      "text/plain": [
       "<Figure size 432x288 with 1 Axes>"
      ]
     },
     "metadata": {
      "needs_background": "light"
     },
     "output_type": "display_data"
    }
   ],
   "source": [
    "# show a sample from a data loader\n",
    "torch.manual_seed(43)\n",
    "random_idx=torch.randint(0,len(train_features_batch),size=[1]).item()\n",
    "img,label=train_features_batch[random_idx],train_labels_batch[random_idx]\n",
    "plt.imshow(torch.permute(img,(2,1,0)),cmap='gray')\n",
    "plt.title(class_names[label])\n",
    "plt.axis(False)"
   ]
  },
  {
   "cell_type": "code",
   "execution_count": 57,
   "id": "638b6d46",
   "metadata": {},
   "outputs": [],
   "source": [
    "# create a baseline model\n",
    "from torch import nn\n",
    "class Fashion(nn.Module):\n",
    "    def __init__(self,\n",
    "                intput_shape: int,\n",
    "                hidden_units:int,\n",
    "                output_shape:int):\n",
    "        super(Fashion,self).__init__()\n",
    "        self.layer_stack=nn.Sequential(nn.Flatten(),\n",
    "                                      nn.Linear(in_features=intput_shape,out_features=hidden_units),\n",
    "                                      nn.Linear(in_features=hidden_units,out_features=output_shape))\n",
    "    def forward(self,x):\n",
    "        return self.layer_stack(x)"
   ]
  },
  {
   "cell_type": "code",
   "execution_count": 128,
   "id": "854eeecf",
   "metadata": {},
   "outputs": [],
   "source": [
    "torch.manual_seed(42)\n",
    "model=Fashion(intput_shape=784,hidden_units=10, output_shape=len(class_names)).to(\"cpu\")"
   ]
  },
  {
   "cell_type": "code",
   "execution_count": 61,
   "id": "a7dc26b2",
   "metadata": {},
   "outputs": [
    {
     "data": {
      "text/plain": [
       "Fashion(\n",
       "  (layer_stack): Sequential(\n",
       "    (0): Flatten(start_dim=1, end_dim=-1)\n",
       "    (1): Linear(in_features=784, out_features=10, bias=True)\n",
       "    (2): Linear(in_features=10, out_features=10, bias=True)\n",
       "  )\n",
       ")"
      ]
     },
     "execution_count": 61,
     "metadata": {},
     "output_type": "execute_result"
    }
   ],
   "source": [
    "model"
   ]
  },
  {
   "cell_type": "code",
   "execution_count": 115,
   "id": "1ac4534e",
   "metadata": {},
   "outputs": [
    {
     "data": {
      "text/plain": [
       "tensor([8])"
      ]
     },
     "execution_count": 115,
     "metadata": {},
     "output_type": "execute_result"
    }
   ],
   "source": [
    "dummy_x=torch.rand((1,28,28))\n",
    "model(dummy_x).argmax(dim=1)"
   ]
  },
  {
   "cell_type": "code",
   "execution_count": 136,
   "id": "369837a9",
   "metadata": {},
   "outputs": [],
   "source": [
    "#training our model\n",
    "#loss function and optimizer\n",
    "loss_func=nn.CrossEntropyLoss()\n",
    "optimizer=torch.optim.SGD(model.parameters(),lr=0.01)\n",
    "#evaluation metrics\n",
    "from torchmetrics import Accuracy \n",
    "accuracy=Accuracy()"
   ]
  },
  {
   "cell_type": "markdown",
   "id": "af8656c8",
   "metadata": {},
   "source": [
    "# timer"
   ]
  },
  {
   "cell_type": "code",
   "execution_count": 100,
   "id": "ffac1ff4",
   "metadata": {},
   "outputs": [],
   "source": [
    "# creating a function to time the experiments\n",
    "from timeit import default_timer as timer\n",
    "\n",
    "def print_train_time(start:float,\n",
    "                    end:float,\n",
    "                    device: torch.device=None):\n",
    "    \"\"\"prints difference between start and end time\"\"\" \n",
    "    total_time=end-start\n",
    "    print(f\" train time on {device}: {total_time:.3f} seconds\")\n",
    "    return total_time"
   ]
  },
  {
   "cell_type": "code",
   "execution_count": 138,
   "id": "3a7ab425",
   "metadata": {},
   "outputs": [
    {
     "name": "stdout",
     "output_type": "stream",
     "text": [
      " train time on cpu: 0.387 seconds\n"
     ]
    },
    {
     "data": {
      "text/plain": [
       "0.3871777000022121"
      ]
     },
     "execution_count": 138,
     "metadata": {},
     "output_type": "execute_result"
    }
   ],
   "source": [
    "start_time=timer()\n",
    "#do something\n",
    "for i in range(10000000):pass\n",
    "end_time=timer()\n",
    "print_train_time(start_time,end_time,device=\"cpu\")"
   ]
  },
  {
   "cell_type": "markdown",
   "id": "6a986e6d",
   "metadata": {},
   "source": [
    "## training model\n",
    "1. Lopp through epochsx\n",
    "2. loop through training batches, perform training steps, calculate the train loss per batch\n",
    "3. loop through testing batches, perform testing steps, calculate the test loss per batch\n",
    "4. Display what happening\n",
    "5. time\n"
   ]
  },
  {
   "cell_type": "code",
   "execution_count": 139,
   "id": "e4ec9745",
   "metadata": {},
   "outputs": [
    {
     "data": {
      "application/vnd.jupyter.widget-view+json": {
       "model_id": "94edddfbbbdc4c6394570624489e4e7c",
       "version_major": 2,
       "version_minor": 0
      },
      "text/plain": [
       "  0%|          | 0/3 [00:00<?, ?it/s]"
      ]
     },
     "metadata": {},
     "output_type": "display_data"
    },
    {
     "name": "stdout",
     "output_type": "stream",
     "text": [
      "Epoch: 0\n",
      "-------\n",
      "Looked at 0/60000 samples\n",
      "Looked at 12800/60000 samples\n",
      "Looked at 25600/60000 samples\n",
      "Looked at 38400/60000 samples\n",
      "Looked at 51200/60000 samples\n",
      "\n",
      "Train loss: 0.90961 | Test loss: 0.62902, Test acc: 0.79%\n",
      "\n",
      "Epoch: 1\n",
      "-------\n",
      "Looked at 0/60000 samples\n",
      "Looked at 12800/60000 samples\n",
      "Looked at 25600/60000 samples\n",
      "Looked at 38400/60000 samples\n",
      "Looked at 51200/60000 samples\n",
      "\n",
      "Train loss: 0.55733 | Test loss: 0.54409, Test acc: 0.81%\n",
      "\n",
      "Epoch: 2\n",
      "-------\n",
      "Looked at 0/60000 samples\n",
      "Looked at 12800/60000 samples\n",
      "Looked at 25600/60000 samples\n",
      "Looked at 38400/60000 samples\n",
      "Looked at 51200/60000 samples\n",
      "\n",
      "Train loss: 0.50266 | Test loss: 0.51368, Test acc: 0.82%\n",
      "\n",
      " train time on cpu: 18.831 seconds\n"
     ]
    }
   ],
   "source": [
    "# Import tqdm for progress bar\n",
    "from tqdm.auto import tqdm\n",
    "\n",
    "# Set the seed and start the timer\n",
    "torch.manual_seed(42)\n",
    "train_time_start_on_cpu = timer()\n",
    "\n",
    "# Set the number of epochs (we'll keep this small for faster training times)\n",
    "epochs = 3\n",
    "\n",
    "# Create training and testing loop\n",
    "for epoch in tqdm(range(epochs)):\n",
    "    print(f\"Epoch: {epoch}\\n-------\")\n",
    "    ### Training\n",
    "    train_loss = 0\n",
    "    # Add a loop to loop through training batches\n",
    "    for batch, (X, y) in enumerate(train_data_loader):\n",
    "        model.train() \n",
    "        # 1. Forward pass\n",
    "        y_pred = model(X)\n",
    "\n",
    "        # 2. Calculate loss (per batch)\n",
    "        loss = loss_func(y_pred, y)\n",
    "        train_loss += loss # accumulatively add up the loss per epoch \n",
    "\n",
    "        # 3. Optimizer zero grad\n",
    "        optimizer.zero_grad()\n",
    "\n",
    "        # 4. Loss backward\n",
    "        loss.backward()\n",
    "\n",
    "        # 5. Optimizer step\n",
    "        optimizer.step()\n",
    "\n",
    "        # Print out how many samples have been seen\n",
    "        if batch % 400 == 0:\n",
    "            print(f\"Looked at {batch * len(X)}/{len(train_data_loader.dataset)} samples\")\n",
    "\n",
    "    # Divide total train loss by length of train dataloader (average loss per batch per epoch)\n",
    "    train_loss /= len(train_data_loader)\n",
    "    \n",
    "    ### Testing\n",
    "    # Setup variables for accumulatively adding up loss and accuracy \n",
    "    test_loss, test_acc = 0, 0 \n",
    "    model.eval()\n",
    "    with torch.inference_mode():\n",
    "        for X, y in test_data_loader:\n",
    "            # 1. Forward pass\n",
    "            test_pred = model(X)\n",
    "           \n",
    "            # 2. Calculate loss (accumatively)\n",
    "            test_loss += loss_func(test_pred, y) # accumulatively add up the loss per epoch\n",
    "\n",
    "            # 3. Calculate accuracy (preds need to be same as y_true)\n",
    "            test_acc += accuracy(y, test_pred.argmax(dim=1))\n",
    "        \n",
    "        # Calculations on test metrics need to happen inside torch.inference_mode()\n",
    "        # Divide total test loss by length of test dataloader (per batch)\n",
    "        test_loss /= len(test_data_loader)\n",
    "\n",
    "        # Divide total accuracy by length of test dataloader (per batch)\n",
    "        test_acc /= len(test_data_loader)\n",
    "\n",
    "    ## Print out what's happening\n",
    "    print(f\"\\nTrain loss: {train_loss:.5f} | Test loss: {test_loss:.5f}, Test acc: {test_acc:.2f}%\\n\")\n",
    "\n",
    "# Calculate training time      \n",
    "train_time_end_on_cpu = timer()\n",
    "total_train_time_model_0 = print_train_time(start=train_time_start_on_cpu, \n",
    "                                           end=train_time_end_on_cpu,\n",
    "                                           device=str(next(model.parameters()).device))"
   ]
  },
  {
   "cell_type": "code",
   "execution_count": 140,
   "id": "4a837839",
   "metadata": {},
   "outputs": [],
   "source": [
    "# make predicts"
   ]
  },
  {
   "cell_type": "markdown",
   "id": "4d571dfa",
   "metadata": {},
   "source": [
    "# function to evaluate the model"
   ]
  },
  {
   "cell_type": "code",
   "execution_count": 496,
   "id": "5ddb6383",
   "metadata": {},
   "outputs": [],
   "source": [
    "torch.manual_seed(42)\n",
    "def eval_model(model: torch.nn.Module,\n",
    "              data_loader: torch.utils.data.DataLoader,\n",
    "              loss_func: torch.nn.Module,\n",
    "              accuracy_function):\n",
    "    ''' Returns a dictionary containing the results of model predicting on dataloader'''\n",
    "    loss,acc=0,0\n",
    "    model.eval()\n",
    "    with torch.inference_mode():\n",
    "        for X, y in data_loader:\n",
    "            y_pred= model(X)\n",
    "            #accumulate the loss and acc per batch\n",
    "            loss+=loss_func(y_pred,y)\n",
    "            acc+=accuracy_function(y,y_pred.argmax(dim=1))\n",
    "            \n",
    "        #scale loss and acc to find the average loss/accuracy per batch\n",
    "        loss/=len(data_loader)\n",
    "        acc/=len(data_loader)\n",
    "        \n",
    "    return {\"model\": model.__class__.__name__,\n",
    "           \"model_loss\":loss.item(),\n",
    "           \"model_acc\":torch.round(acc*100,decimals=2).item()}"
   ]
  },
  {
   "cell_type": "code",
   "execution_count": 497,
   "id": "badf66f0",
   "metadata": {},
   "outputs": [],
   "source": [
    "#calcalate model 0 results on test data set\n",
    "model_0_results=eval_model(model=model,data_loader=test_data_loader,loss_func=loss_func,accuracy_function=accuracy)"
   ]
  },
  {
   "cell_type": "code",
   "execution_count": 498,
   "id": "113424e9",
   "metadata": {},
   "outputs": [
    {
     "data": {
      "text/plain": [
       "tensor([83.2200])"
      ]
     },
     "execution_count": 498,
     "metadata": {},
     "output_type": "execute_result"
    }
   ],
   "source": [
    "torch.round(torch.tensor([0.832223232312123*100]),decimals=2)"
   ]
  },
  {
   "cell_type": "code",
   "execution_count": 509,
   "id": "fd481b44",
   "metadata": {},
   "outputs": [
    {
     "data": {
      "text/plain": [
       "{'model': 'Fashion', 'model_loss': 0.5136751532554626, 'model_acc': 82.0}"
      ]
     },
     "execution_count": 509,
     "metadata": {},
     "output_type": "execute_result"
    }
   ],
   "source": [
    "model_0_results"
   ]
  },
  {
   "cell_type": "code",
   "execution_count": 500,
   "id": "a64ea4d8",
   "metadata": {},
   "outputs": [],
   "source": [
    "# device agnostic code\n",
    "device=\"cuda\" if torch.cuda.is_available() else \"cpu\""
   ]
  },
  {
   "cell_type": "markdown",
   "id": "8ba44d67",
   "metadata": {},
   "source": [
    "# non -linearity"
   ]
  },
  {
   "cell_type": "code",
   "execution_count": 401,
   "id": "94a4b9b3",
   "metadata": {},
   "outputs": [],
   "source": [
    "class Fashion2(nn.Module):\n",
    "    def __init__(self, input_shape: int,\n",
    "                hidden_units: int,\n",
    "                output_shape: int):\n",
    "        super(Fashion2,self).__init__()\n",
    "        self.layer_stack=nn.Sequential(nn.Flatten(),\n",
    "                                      nn.Linear(in_features=input_shape,out_features=hidden_units),\n",
    "                                      nn.ReLU(),\n",
    "                                      nn.Linear(in_features=hidden_units,out_features=output_shape),\n",
    "                                      nn.ReLU())\n",
    "    def forward(self,x: torch.Tensor):\n",
    "        return self.layer_stack(x)"
   ]
  },
  {
   "cell_type": "code",
   "execution_count": 402,
   "id": "db5aebdf",
   "metadata": {},
   "outputs": [],
   "source": [
    "torch.manual_seed(42)\n",
    "model_1=Fashion2(input_shape=28*28, hidden_units=32, output_shape=10).to(device)"
   ]
  },
  {
   "cell_type": "code",
   "execution_count": 403,
   "id": "c2b1a519",
   "metadata": {},
   "outputs": [],
   "source": [
    "#loss function \n",
    "loss_func=torch.nn.CrossEntropyLoss()\n",
    "#accuracy\n",
    "from torchmetrics import Accuracy\n",
    "accuracy=Accuracy()\n",
    "#optimizer\n",
    "optimizer=torch.optim.SGD(model_1.parameters(),lr=0.01)"
   ]
  },
  {
   "cell_type": "code",
   "execution_count": 104,
   "id": "24f8b037",
   "metadata": {},
   "outputs": [],
   "source": [
    "# functioon for training and evaluation\n",
    "# training loop\n",
    "def train_step(model: torch.nn.Module,\n",
    "               data_loader: torch.utils.data.DataLoader,\n",
    "               loss_func: torch.nn.CrossEntropyLoss,\n",
    "               optimizer: torch.optim.Optimizer,\n",
    "              accuracy,\n",
    "              device: torch.device=device):\n",
    "    \n",
    "    \n",
    "    train_loss,train_acc=0,0\n",
    "    model.train()\n",
    "    for batch, (X , y) in enumerate(data_loader):\n",
    "        X,y=X.to(device),y.to(device)\n",
    "        y_pred=model(X)\n",
    "        loss=loss_func(y_pred,y)\n",
    "        train_loss+=loss\n",
    "        train_acc+=accuracy(y_pred.argmax(dim=1),y)\n",
    "        optimizer.zero_grad()\n",
    "        loss.backward()\n",
    "        optimizer.step()\n",
    "        \n",
    "        if batch % 400 ==0:\n",
    "            print(f\"Looked at {batch*len(X)} / {len(data_loader.dataset)} samples\")\n",
    "    \n",
    "    train_loss/=len(data_loader)\n",
    "    train_acc/=len(data_loader)\n",
    "    print(f\"Train Loss: {train_loss:.5f} | Train acc: {train_acc:.2f}% \")\n",
    "                            "
   ]
  },
  {
   "cell_type": "code",
   "execution_count": 105,
   "id": "49bcfb79",
   "metadata": {},
   "outputs": [],
   "source": [
    "# testing loop\n",
    "def test_step(model: torch.nn.Module,\n",
    "               data_loader: torch.utils.data.DataLoader,\n",
    "               loss_func: torch.nn.Module,\n",
    "              accuracy,\n",
    "              device: torch.device=device):\n",
    "    test_loss,test_acc=0,0\n",
    "    model.eval()\n",
    "    with torch.inference_mode():\n",
    "        for  X , y in data_loader:\n",
    "            X,y=X.to(device),y.to(device)\n",
    "            y_pred=model(X)\n",
    "            loss=loss_func(y_pred,y)\n",
    "            test_loss+=loss\n",
    "            test_acc+=accuracy(y_pred.argmax(dim=1),y)\n",
    "            \n",
    "\n",
    "        test_loss/=len(data_loader)\n",
    "        test_acc/=len(data_loader)\n",
    "        print(f\"Test Loss: {test_loss:.5f} | Test acc: {test_acc:.2f}% \\n\")"
   ]
  },
  {
   "cell_type": "code",
   "execution_count": 406,
   "id": "b977195c",
   "metadata": {},
   "outputs": [
    {
     "data": {
      "application/vnd.jupyter.widget-view+json": {
       "model_id": "7c209e23e5d5470181e33b75305e6a68",
       "version_major": 2,
       "version_minor": 0
      },
      "text/plain": [
       "  0%|          | 0/5 [00:00<?, ?it/s]"
      ]
     },
     "metadata": {},
     "output_type": "display_data"
    },
    {
     "name": "stdout",
     "output_type": "stream",
     "text": [
      "Looked at 0 / 60000 samples\n",
      "Looked at 12800 / 60000 samples\n",
      "Looked at 25600 / 60000 samples\n",
      "Looked at 38400 / 60000 samples\n",
      "Looked at 51200 / 60000 samples\n",
      "Train Loss: 1.12438 | Train acc: 0.63% \n",
      "Test Loss: 0.67763 | Test acc: 0.76% \n",
      "\n",
      "Looked at 0 / 60000 samples\n",
      "Looked at 12800 / 60000 samples\n",
      "Looked at 25600 / 60000 samples\n",
      "Looked at 38400 / 60000 samples\n",
      "Looked at 51200 / 60000 samples\n",
      "Train Loss: 0.59288 | Train acc: 0.80% \n",
      "Test Loss: 0.56371 | Test acc: 0.80% \n",
      "\n",
      "Looked at 0 / 60000 samples\n",
      "Looked at 12800 / 60000 samples\n",
      "Looked at 25600 / 60000 samples\n",
      "Looked at 38400 / 60000 samples\n",
      "Looked at 51200 / 60000 samples\n",
      "Train Loss: 0.51763 | Train acc: 0.82% \n",
      "Test Loss: 0.52325 | Test acc: 0.82% \n",
      "\n",
      "Looked at 0 / 60000 samples\n",
      "Looked at 12800 / 60000 samples\n",
      "Looked at 25600 / 60000 samples\n",
      "Looked at 38400 / 60000 samples\n",
      "Looked at 51200 / 60000 samples\n",
      "Train Loss: 0.48267 | Train acc: 0.83% \n",
      "Test Loss: 0.49650 | Test acc: 0.83% \n",
      "\n",
      "Looked at 0 / 60000 samples\n",
      "Looked at 12800 / 60000 samples\n",
      "Looked at 25600 / 60000 samples\n",
      "Looked at 38400 / 60000 samples\n",
      "Looked at 51200 / 60000 samples\n",
      "Train Loss: 0.46205 | Train acc: 0.84% \n",
      "Test Loss: 0.48334 | Test acc: 0.83% \n",
      "\n",
      " train time on cpu: 45.529 seconds\n"
     ]
    }
   ],
   "source": [
    "torch.manual_seed(42)\n",
    "\n",
    "#measure time\n",
    "from timeit import default_timer as timer\n",
    "start_time=timer()\n",
    "\n",
    "epoches =5\n",
    "for epoch in tqdm(range(epoches)):\n",
    "    train_step(model=model_1,\n",
    "              data_loader=train_data_loader,\n",
    "               loss_func=loss_func,\n",
    "              optimizer=optimizer,\n",
    "              accuracy=accuracy,\n",
    "              device=device)\n",
    "    \n",
    "    test_step(model=model_1,\n",
    "              data_loader=test_data_loader,\n",
    "               loss_func=loss_func,\n",
    "              accuracy=accuracy,\n",
    "              device=device)\n",
    "    \n",
    "stop_time=timer()\n",
    "train_time=print_train_time(start=start_time,end=stop_time,device=device)"
   ]
  },
  {
   "cell_type": "code",
   "execution_count": 501,
   "id": "65fd234f",
   "metadata": {},
   "outputs": [],
   "source": [
    "model_1_results=eval_model(model_1,\n",
    "                          data_loader=test_data_loader,\n",
    "                          loss_func=loss_func,\n",
    "                          accuracy_function=accuracy)"
   ]
  },
  {
   "cell_type": "code",
   "execution_count": 502,
   "id": "d9c51b5d",
   "metadata": {},
   "outputs": [
    {
     "data": {
      "text/plain": [
       "{'model': 'Fashion2',\n",
       " 'model_loss': 0.48334094882011414,\n",
       " 'model_acc': 83.12000274658203}"
      ]
     },
     "execution_count": 502,
     "metadata": {},
     "output_type": "execute_result"
    }
   ],
   "source": [
    "model_1_results"
   ]
  },
  {
   "cell_type": "code",
   "execution_count": 503,
   "id": "41afc81b",
   "metadata": {},
   "outputs": [
    {
     "data": {
      "text/plain": [
       "{'model': 'Fashion', 'model_loss': 0.5136751532554626, 'model_acc': 82.0}"
      ]
     },
     "execution_count": 503,
     "metadata": {},
     "output_type": "execute_result"
    }
   ],
   "source": [
    "model_0_results"
   ]
  },
  {
   "cell_type": "markdown",
   "id": "3df04163",
   "metadata": {},
   "source": [
    "# CNN"
   ]
  },
  {
   "cell_type": "code",
   "execution_count": 81,
   "id": "57044ff2",
   "metadata": {},
   "outputs": [],
   "source": [
    "class Fashion3(nn.Module):\n",
    "    def __init__(self, \n",
    "                 input_shape: int,\n",
    "                 hidden_units: int,\n",
    "                 output_shape: int):\n",
    "        super(Fashion3,self).__init__()\n",
    "        \n",
    "        self.conv_block_1=nn.Sequential(nn.Conv2d(in_channels=input_shape, out_channels=hidden_units, kernel_size=(3,3),stride=(1,1),padding=(1,1)),\n",
    "                                       nn.ReLU(),\n",
    "                                       nn.Conv2d(in_channels=hidden_units, out_channels=hidden_units, kernel_size=3, stride=1,padding=1),\n",
    "                                       nn.ReLU(),\n",
    "                                       nn.MaxPool2d(kernel_size=2))\n",
    "        self.conv_block_2=nn.Sequential(nn.Conv2d(in_channels=hidden_units, out_channels=hidden_units, kernel_size=3,stride=1,padding=1),\n",
    "                                       nn.ReLU(),\n",
    "                                       nn.Conv2d(in_channels=hidden_units,out_channels=hidden_units,kernel_size=3, stride=1,padding=1),\n",
    "                                       nn.ReLU(),\n",
    "                                       nn.MaxPool2d(kernel_size=2))\n",
    "        self.classifier=nn.Sequential(nn.Flatten(start_dim=1, end_dim=-1),\n",
    "                                     nn.Linear(in_features=hidden_units*7*7,out_features=output_shape))\n",
    "        \n",
    "    def forward(self,x: torch.Tensor):\n",
    "        x=self.conv_block_1(x)\n",
    "        #print(x.shape)\n",
    "        x=self.conv_block_2(x)\n",
    "        #print(x.shape)\n",
    "        x=self.classifier(x)\n",
    "        #print(x.shape)\n",
    "        return x"
   ]
  },
  {
   "cell_type": "code",
   "execution_count": 82,
   "id": "d289d6e3",
   "metadata": {},
   "outputs": [],
   "source": [
    "torch.manual_seed(42)\n",
    "model_2=Fashion3(input_shape=1, output_shape=len(class_names),hidden_units=10).to(device)"
   ]
  },
  {
   "cell_type": "code",
   "execution_count": 83,
   "id": "8264b81f",
   "metadata": {},
   "outputs": [
    {
     "data": {
      "text/plain": [
       "Fashion3(\n",
       "  (conv_block_1): Sequential(\n",
       "    (0): Conv2d(1, 10, kernel_size=(3, 3), stride=(1, 1), padding=(1, 1))\n",
       "    (1): ReLU()\n",
       "    (2): Conv2d(10, 10, kernel_size=(3, 3), stride=(1, 1), padding=(1, 1))\n",
       "    (3): ReLU()\n",
       "    (4): MaxPool2d(kernel_size=2, stride=2, padding=0, dilation=1, ceil_mode=False)\n",
       "  )\n",
       "  (conv_block_2): Sequential(\n",
       "    (0): Conv2d(10, 10, kernel_size=(3, 3), stride=(1, 1), padding=(1, 1))\n",
       "    (1): ReLU()\n",
       "    (2): Conv2d(10, 10, kernel_size=(3, 3), stride=(1, 1), padding=(1, 1))\n",
       "    (3): ReLU()\n",
       "    (4): MaxPool2d(kernel_size=2, stride=2, padding=0, dilation=1, ceil_mode=False)\n",
       "  )\n",
       "  (classifier): Sequential(\n",
       "    (0): Flatten(start_dim=1, end_dim=-1)\n",
       "    (1): Linear(in_features=490, out_features=10, bias=True)\n",
       "  )\n",
       ")"
      ]
     },
     "execution_count": 83,
     "metadata": {},
     "output_type": "execute_result"
    }
   ],
   "source": [
    "model_2"
   ]
  },
  {
   "cell_type": "code",
   "execution_count": 84,
   "id": "f8fac127",
   "metadata": {
    "scrolled": true
   },
   "outputs": [
    {
     "data": {
      "text/plain": [
       "device(type='cpu')"
      ]
     },
     "execution_count": 84,
     "metadata": {},
     "output_type": "execute_result"
    }
   ],
   "source": [
    "next(model_2.parameters()).device"
   ]
  },
  {
   "cell_type": "code",
   "execution_count": 85,
   "id": "2c7e79f2",
   "metadata": {
    "scrolled": true
   },
   "outputs": [
    {
     "name": "stdout",
     "output_type": "stream",
     "text": [
      "torch.Size([1, 28, 28])\n"
     ]
    },
    {
     "data": {
      "text/plain": [
       "<matplotlib.image.AxesImage at 0x1b6ccc6aa00>"
      ]
     },
     "execution_count": 85,
     "metadata": {},
     "output_type": "execute_result"
    },
    {
     "data": {
      "image/png": "[encoded data removed]",
      "text/plain": [
       "<Figure size 432x288 with 1 Axes>"
      ]
     },
     "metadata": {
      "needs_background": "light"
     },
     "output_type": "display_data"
    }
   ],
   "source": [
    "print(img.shape)\n",
    "plt.imshow(img.squeeze(),cmap='gray')"
   ]
  },
  {
   "cell_type": "code",
   "execution_count": 86,
   "id": "01528f24",
   "metadata": {},
   "outputs": [
    {
     "data": {
      "text/plain": [
       "tensor([[ 0.0372, -0.0650,  0.0433, -0.0317, -0.0012,  0.0186,  0.0010, -0.0156,\n",
       "          0.0295,  0.0047]], grad_fn=<AddmmBackward0>)"
      ]
     },
     "execution_count": 86,
     "metadata": {},
     "output_type": "execute_result"
    }
   ],
   "source": [
    "model_2(img.unsqueeze(dim=0))"
   ]
  },
  {
   "cell_type": "code",
   "execution_count": 87,
   "id": "2ba20a7f",
   "metadata": {
    "scrolled": true
   },
   "outputs": [
    {
     "data": {
      "text/plain": [
       "'Pullover'"
      ]
     },
     "execution_count": 87,
     "metadata": {},
     "output_type": "execute_result"
    }
   ],
   "source": [
    "class_names[model_2(img.unsqueeze(dim=1)).argmax()]"
   ]
  },
  {
   "cell_type": "markdown",
   "id": "8f2f5f12",
   "metadata": {},
   "source": [
    "## example of nn.Conv2d"
   ]
  },
  {
   "cell_type": "code",
   "execution_count": 88,
   "id": "abf08cee",
   "metadata": {},
   "outputs": [],
   "source": [
    "torch.manual_seed(42)\n",
    "# create a bactch of image\n",
    "image=torch.randn(size=(32,3,64,64))\n",
    "test_image=image[0]"
   ]
  },
  {
   "cell_type": "code",
   "execution_count": 89,
   "id": "54aa98c0",
   "metadata": {},
   "outputs": [
    {
     "name": "stdout",
     "output_type": "stream",
     "text": [
      "Image batch shape: torch.Size([32, 3, 64, 64])\n",
      "Single image shape:torch.Size([3, 64, 64])\n",
      "Test image: \n",
      "tensor([[[ 1.9269,  1.4873,  0.9007,  ...,  1.8446, -1.1845,  1.3835],\n",
      "         [ 1.4451,  0.8564,  2.2181,  ...,  0.3399,  0.7200,  0.4114],\n",
      "         [ 1.9312,  1.0119, -1.4364,  ..., -0.5558,  0.7043,  0.7099],\n",
      "         ...,\n",
      "         [-0.5610, -0.4830,  0.4770,  ..., -0.2713, -0.9537, -0.6737],\n",
      "         [ 0.3076, -0.1277,  0.0366,  ..., -2.0060,  0.2824, -0.8111],\n",
      "         [-1.5486,  0.0485, -0.7712,  ..., -0.1403,  0.9416, -0.0118]],\n",
      "\n",
      "        [[-0.5197,  1.8524,  1.8365,  ...,  0.8935, -1.5114, -0.8515],\n",
      "         [ 2.0818,  1.0677, -1.4277,  ...,  1.6612, -2.6223, -0.4319],\n",
      "         [-0.1010, -0.4388, -1.9775,  ...,  0.2106,  0.2536, -0.7318],\n",
      "         ...,\n",
      "         [ 0.2779,  0.7342, -0.3736,  ..., -0.4601,  0.1815,  0.1850],\n",
      "         [ 0.7205, -0.2833,  0.0937,  ..., -0.1002, -2.3609,  2.2465],\n",
      "         [-1.3242, -0.1973,  0.2920,  ...,  0.5409,  0.6940,  1.8563]],\n",
      "\n",
      "        [[-0.7978,  1.0261,  1.1465,  ...,  1.2134,  0.9354, -0.0780],\n",
      "         [-1.4647, -1.9571,  0.1017,  ..., -1.9986, -0.7409,  0.7011],\n",
      "         [-1.3938,  0.8466, -1.7191,  ..., -1.1867,  0.1320,  0.3407],\n",
      "         ...,\n",
      "         [ 0.8206, -0.3745,  1.2499,  ..., -0.0676,  0.0385,  0.6335],\n",
      "         [-0.5589, -0.3393,  0.2347,  ...,  2.1181,  2.4569,  1.3083],\n",
      "         [-0.4092,  1.5199,  0.2401,  ..., -0.2558,  0.7870,  0.9924]]])\n"
     ]
    }
   ],
   "source": [
    "print(f\"Image batch shape: {image.shape}\")\n",
    "print(f\"Single image shape:{test_image.shape}\")\n",
    "print(f\"Test image: \\n{test_image}\")"
   ]
  },
  {
   "cell_type": "code",
   "execution_count": 90,
   "id": "557f9028",
   "metadata": {},
   "outputs": [],
   "source": [
    "#single conv2D layer\n",
    "conv_layer=nn.Conv2d(in_channels=3, out_channels=10, kernel_size=3,stride=1, padding=0)\n",
    "\n",
    "#pass the data to conv layer\n",
    "conv_out=conv_layer(test_image)"
   ]
  },
  {
   "cell_type": "code",
   "execution_count": 91,
   "id": "28fbdbf8",
   "metadata": {},
   "outputs": [
    {
     "data": {
      "text/plain": [
       "torch.Size([10, 62, 62])"
      ]
     },
     "execution_count": 91,
     "metadata": {},
     "output_type": "execute_result"
    }
   ],
   "source": [
    "conv_out.shape"
   ]
  },
  {
   "cell_type": "markdown",
   "id": "c4c77e3d",
   "metadata": {},
   "source": [
    "## example of nn.Maxpool2d"
   ]
  },
  {
   "cell_type": "code",
   "execution_count": 92,
   "id": "5da10e96",
   "metadata": {},
   "outputs": [
    {
     "data": {
      "text/plain": [
       "torch.Size([3, 64, 64])"
      ]
     },
     "execution_count": 92,
     "metadata": {},
     "output_type": "execute_result"
    }
   ],
   "source": [
    "test_image.shape"
   ]
  },
  {
   "cell_type": "code",
   "execution_count": 93,
   "id": "941a8b07",
   "metadata": {},
   "outputs": [],
   "source": [
    "# sample nn.Maxpool layer\n",
    "max_pool=nn.MaxPool2d(kernel_size=2)"
   ]
  },
  {
   "cell_type": "code",
   "execution_count": 94,
   "id": "1f5dc22b",
   "metadata": {},
   "outputs": [
    {
     "name": "stdout",
     "output_type": "stream",
     "text": [
      " convshape out torch.Size([10, 62, 62])\n"
     ]
    }
   ],
   "source": [
    "test_conv=conv_layer(test_image)\n",
    "print(F\" convshape out {test_conv.shape}\")"
   ]
  },
  {
   "cell_type": "code",
   "execution_count": 95,
   "id": "20700957",
   "metadata": {},
   "outputs": [
    {
     "name": "stdout",
     "output_type": "stream",
     "text": [
      " max pool out torch.Size([10, 31, 31])\n"
     ]
    }
   ],
   "source": [
    "test_max_pool=max_pool(test_conv)\n",
    "print(F\" max pool out {test_max_pool.shape}\")"
   ]
  },
  {
   "cell_type": "markdown",
   "id": "23089f09",
   "metadata": {},
   "source": [
    "## trick for finding the shape of the linear layer input"
   ]
  },
  {
   "cell_type": "markdown",
   "id": "8d45c14d",
   "metadata": {},
   "source": [
    "use the multiplication"
   ]
  },
  {
   "cell_type": "markdown",
   "id": "a150c7c0",
   "metadata": {},
   "source": [
    "training model_2 with loss function and optimizer"
   ]
  },
  {
   "cell_type": "code",
   "execution_count": 101,
   "id": "f337d160",
   "metadata": {},
   "outputs": [],
   "source": [
    "torch.manual_seed(42)\n",
    "model_2=Fashion3(input_shape=1, output_shape=len(class_names),hidden_units=10).to(device)"
   ]
  },
  {
   "cell_type": "code",
   "execution_count": 102,
   "id": "994ed9ae",
   "metadata": {},
   "outputs": [],
   "source": [
    "loss_func=nn.CrossEntropyLoss()\n",
    "optimizer=torch.optim.SGD(model_2.parameters(),lr=0.1)\n",
    "from torchmetrics import Accuracy\n",
    "accuracy=Accuracy()"
   ]
  },
  {
   "cell_type": "code",
   "execution_count": 106,
   "id": "638fb77a",
   "metadata": {
    "scrolled": true
   },
   "outputs": [
    {
     "data": {
      "application/vnd.jupyter.widget-view+json": {
       "model_id": "0f42c21de5194046bee484d71b104ff6",
       "version_major": 2,
       "version_minor": 0
      },
      "text/plain": [
       "  0%|          | 0/5 [00:00<?, ?it/s]"
      ]
     },
     "metadata": {},
     "output_type": "display_data"
    },
    {
     "name": "stdout",
     "output_type": "stream",
     "text": [
      "Epoch : 0 ---------- \n",
      "\n",
      "Looked at 0 / 60000 samples\n",
      "Looked at 12800 / 60000 samples\n",
      "Looked at 25600 / 60000 samples\n",
      "Looked at 38400 / 60000 samples\n",
      "Looked at 51200 / 60000 samples\n",
      "Train Loss: 0.59141 | Train acc: 0.79% \n",
      "Test Loss: 0.39140 | Test acc: 0.86% \n",
      "\n",
      "Epoch : 1 ---------- \n",
      "\n",
      "Looked at 0 / 60000 samples\n",
      "Looked at 12800 / 60000 samples\n",
      "Looked at 25600 / 60000 samples\n",
      "Looked at 38400 / 60000 samples\n",
      "Looked at 51200 / 60000 samples\n",
      "Train Loss: 0.36051 | Train acc: 0.87% \n",
      "Test Loss: 0.34918 | Test acc: 0.87% \n",
      "\n",
      "Epoch : 2 ---------- \n",
      "\n",
      "Looked at 0 / 60000 samples\n",
      "Looked at 12800 / 60000 samples\n",
      "Looked at 25600 / 60000 samples\n",
      "Looked at 38400 / 60000 samples\n",
      "Looked at 51200 / 60000 samples\n",
      "Train Loss: 0.32266 | Train acc: 0.88% \n",
      "Test Loss: 0.32057 | Test acc: 0.88% \n",
      "\n",
      "Epoch : 3 ---------- \n",
      "\n",
      "Looked at 0 / 60000 samples\n",
      "Looked at 12800 / 60000 samples\n",
      "Looked at 25600 / 60000 samples\n",
      "Looked at 38400 / 60000 samples\n",
      "Looked at 51200 / 60000 samples\n",
      "Train Loss: 0.30041 | Train acc: 0.89% \n",
      "Test Loss: 0.32195 | Test acc: 0.88% \n",
      "\n",
      "Epoch : 4 ---------- \n",
      "\n",
      "Looked at 0 / 60000 samples\n",
      "Looked at 12800 / 60000 samples\n",
      "Looked at 25600 / 60000 samples\n",
      "Looked at 38400 / 60000 samples\n",
      "Looked at 51200 / 60000 samples\n",
      "Train Loss: 0.28700 | Train acc: 0.90% \n",
      "Test Loss: 0.30968 | Test acc: 0.89% \n",
      "\n",
      " train time on cpu: 151.976 seconds\n"
     ]
    },
    {
     "data": {
      "text/plain": [
       "151.97555809999994"
      ]
     },
     "execution_count": 106,
     "metadata": {},
     "output_type": "execute_result"
    }
   ],
   "source": [
    "torch.manual_seed(42)\n",
    "from timeit import default_timer as timer\n",
    "from tqdm.auto import tqdm\n",
    "start_time_model_2= timer()\n",
    "epoches=5\n",
    "for epoch in tqdm(range(epoches)):\n",
    "    print(f\"Epoch : {epoch} ---------- \\n\")\n",
    "    train_step(model=model_2,data_loader=train_data_loader,loss_func=loss_func,device=device,optimizer=optimizer,accuracy=accuracy)\n",
    "    test_step(model=model_2,data_loader=test_data_loader,loss_func=loss_func,accuracy=accuracy,device=device)\n",
    "\n",
    "end_time_model_2=timer()\n",
    "print_train_time(start=start_time_model_2,end=end_time_model_2,device=device)"
   ]
  },
  {
   "cell_type": "code",
   "execution_count": 421,
   "id": "d2ebb1a0",
   "metadata": {},
   "outputs": [
    {
     "data": {
      "text/plain": [
       "'Fashion3'"
      ]
     },
     "execution_count": 421,
     "metadata": {},
     "output_type": "execute_result"
    }
   ],
   "source": [
    "model_2.__class__.__name__"
   ]
  },
  {
   "cell_type": "code",
   "execution_count": 507,
   "id": "9f4bf35a",
   "metadata": {},
   "outputs": [],
   "source": [
    "model_2_results=eval_model(model_2,data_loader=test_data_loader,accuracy_function=accuracy,loss_func=loss_func)"
   ]
  },
  {
   "cell_type": "code",
   "execution_count": 515,
   "id": "80283104",
   "metadata": {},
   "outputs": [
    {
     "data": {
      "text/plain": [
       "{'model': 'Fashion3',\n",
       " 'model_loss': 0.3096836805343628,\n",
       " 'model_acc': 89.08999633789062}"
      ]
     },
     "execution_count": 515,
     "metadata": {},
     "output_type": "execute_result"
    }
   ],
   "source": [
    "model_2_results"
   ]
  },
  {
   "cell_type": "code",
   "execution_count": 513,
   "id": "8ad13eda",
   "metadata": {},
   "outputs": [
    {
     "data": {
      "text/plain": [
       "{'model': 'Fashion', 'model_loss': 0.5136751532554626, 'model_acc': 82.0}"
      ]
     },
     "execution_count": 513,
     "metadata": {},
     "output_type": "execute_result"
    }
   ],
   "source": [
    "model_0_results"
   ]
  },
  {
   "cell_type": "code",
   "execution_count": 512,
   "id": "3397459b",
   "metadata": {},
   "outputs": [
    {
     "data": {
      "text/plain": [
       "{'model': 'Fashion2',\n",
       " 'model_loss': 0.48334094882011414,\n",
       " 'model_acc': 83.12000274658203}"
      ]
     },
     "execution_count": 512,
     "metadata": {},
     "output_type": "execute_result"
    }
   ],
   "source": [
    "model_1_results"
   ]
  },
  {
   "cell_type": "markdown",
   "id": "b5b986bc",
   "metadata": {},
   "source": [
    "#  comparison results of different models"
   ]
  },
  {
   "cell_type": "code",
   "execution_count": 429,
   "id": "4afcff4e",
   "metadata": {},
   "outputs": [],
   "source": [
    "import pandas as pd\n"
   ]
  },
  {
   "cell_type": "code",
   "execution_count": 510,
   "id": "f7a94315",
   "metadata": {},
   "outputs": [],
   "source": [
    "compare_results=pd.DataFrame([model_0_results,\n",
    "                             model_1_results,\n",
    "                             model_2_results])"
   ]
  },
  {
   "cell_type": "code",
   "execution_count": 511,
   "id": "5e3e5256",
   "metadata": {},
   "outputs": [
    {
     "data": {
      "text/html": [
       "<div>\n",
       "<style scoped>\n",
       "    .dataframe tbody tr th:only-of-type {\n",
       "        vertical-align: middle;\n",
       "    }\n",
       "\n",
       "    .dataframe tbody tr th {\n",
       "        vertical-align: top;\n",
       "    }\n",
       "\n",
       "    .dataframe thead th {\n",
       "        text-align: right;\n",
       "    }\n",
       "</style>\n",
       "<table border=\"1\" class=\"dataframe\">\n",
       "  <thead>\n",
       "    <tr style=\"text-align: right;\">\n",
       "      <th></th>\n",
       "      <th>model</th>\n",
       "      <th>model_loss</th>\n",
       "      <th>model_acc</th>\n",
       "    </tr>\n",
       "  </thead>\n",
       "  <tbody>\n",
       "    <tr>\n",
       "      <th>0</th>\n",
       "      <td>Fashion</td>\n",
       "      <td>0.513675</td>\n",
       "      <td>82.000000</td>\n",
       "    </tr>\n",
       "    <tr>\n",
       "      <th>1</th>\n",
       "      <td>Fashion2</td>\n",
       "      <td>0.483341</td>\n",
       "      <td>83.120003</td>\n",
       "    </tr>\n",
       "    <tr>\n",
       "      <th>2</th>\n",
       "      <td>Fashion3</td>\n",
       "      <td>0.309684</td>\n",
       "      <td>89.089996</td>\n",
       "    </tr>\n",
       "  </tbody>\n",
       "</table>\n",
       "</div>"
      ],
      "text/plain": [
       "      model  model_loss  model_acc\n",
       "0   Fashion    0.513675  82.000000\n",
       "1  Fashion2    0.483341  83.120003\n",
       "2  Fashion3    0.309684  89.089996"
      ]
     },
     "execution_count": 511,
     "metadata": {},
     "output_type": "execute_result"
    }
   ],
   "source": [
    "compare_results"
   ]
  },
  {
   "cell_type": "markdown",
   "id": "0d77a8b0",
   "metadata": {},
   "source": [
    "#  model prediction "
   ]
  },
  {
   "cell_type": "code",
   "execution_count": 565,
   "id": "c18d3aa5",
   "metadata": {},
   "outputs": [],
   "source": [
    "def make_predictions(model: torch.nn.Module,\n",
    "                    data: list,\n",
    "                    device: torch.device=device):\n",
    "    pred_probs=[]\n",
    "    model.to(device)\n",
    "    model.eval()\n",
    "    with torch.inference_mode():\n",
    "        for sample in data:\n",
    "            #prepare the sample\n",
    "            sample=torch.unsqueeze(sample,dim=0).to(device)\n",
    "            pred_logit=model(sample)\n",
    "            #print(pred_logit.squeeze())\n",
    "            pred_prob=torch.softmax(pred_logit.squeeze(),dim=0)\n",
    "            # to cpu\n",
    "            pred_probs.append(pred_prob.cpu())\n",
    "    # stack the pred_prob to turn list in tensor\n",
    "        return torch.stack(pred_probs)"
   ]
  },
  {
   "cell_type": "code",
   "execution_count": 566,
   "id": "7d585cf6",
   "metadata": {},
   "outputs": [
    {
     "data": {
      "text/plain": [
       "10000"
      ]
     },
     "execution_count": 566,
     "metadata": {},
     "output_type": "execute_result"
    }
   ],
   "source": [
    "len(list(test_data))"
   ]
  },
  {
   "cell_type": "markdown",
   "id": "5dd72d03",
   "metadata": {},
   "source": [
    "# random sampling ffrom the test data"
   ]
  },
  {
   "cell_type": "code",
   "execution_count": 592,
   "id": "b76d87ad",
   "metadata": {},
   "outputs": [
    {
     "data": {
      "text/plain": [
       "torch.Size([1, 28, 28])"
      ]
     },
     "execution_count": 592,
     "metadata": {},
     "output_type": "execute_result"
    }
   ],
   "source": [
    "import random\n",
    "\n",
    "test_samples=[]\n",
    "test_labels=[]\n",
    "\n",
    "for sample,label in random.sample(list(test_data),k=9):\n",
    "        test_samples.append(sample)\n",
    "        test_labels.append(label)\n",
    "test_samples[0].shape"
   ]
  },
  {
   "cell_type": "code",
   "execution_count": 593,
   "id": "2ff9d892",
   "metadata": {},
   "outputs": [
    {
     "data": {
      "text/plain": [
       "Text(0.5, 1.0, 'Ankle boot')"
      ]
     },
     "execution_count": 593,
     "metadata": {},
     "output_type": "execute_result"
    },
    {
     "data": {
      "image/png": "[encoded data removed]",
      "text/plain": [
       "<Figure size 432x288 with 1 Axes>"
      ]
     },
     "metadata": {
      "needs_background": "light"
     },
     "output_type": "display_data"
    }
   ],
   "source": [
    "plt.imshow(test_samples[0].squeeze(dim=0),cmap='gray')\n",
    "plt.axis(False)\n",
    "plt.title(class_names[test_labels[0]])"
   ]
  },
  {
   "cell_type": "code",
   "execution_count": 594,
   "id": "71310261",
   "metadata": {},
   "outputs": [
    {
     "data": {
      "text/plain": [
       "tensor([[3.6943e-06, 7.4368e-08, 9.1827e-07, 1.1513e-05, 2.6157e-07, 1.3169e-02,\n",
       "         5.9600e-07, 2.3839e-02, 1.5858e-03, 9.6139e-01],\n",
       "        [7.0975e-05, 6.9106e-07, 2.3124e-05, 2.7764e-06, 4.2070e-07, 4.9076e-04,\n",
       "         5.1754e-06, 9.3794e-01, 3.7439e-04, 6.1095e-02]])"
      ]
     },
     "execution_count": 594,
     "metadata": {},
     "output_type": "execute_result"
    }
   ],
   "source": [
    "# make prediction\n",
    "pred_probs= make_predictions(model=model_2,data=test_samples)\n",
    "pred_probs[:2]"
   ]
  },
  {
   "cell_type": "code",
   "execution_count": 595,
   "id": "e8086b49",
   "metadata": {},
   "outputs": [],
   "source": [
    "#predicition prob to labes\n",
    "pred_classes=pred_probs.argmax(dim=1)"
   ]
  },
  {
   "cell_type": "code",
   "execution_count": 596,
   "id": "c25c8d2a",
   "metadata": {},
   "outputs": [
    {
     "data": {
      "text/plain": [
       "tensor([9, 7, 2, 0, 1, 0, 3, 5, 4])"
      ]
     },
     "execution_count": 596,
     "metadata": {},
     "output_type": "execute_result"
    }
   ],
   "source": [
    "pred_classes"
   ]
  },
  {
   "cell_type": "code",
   "execution_count": 597,
   "id": "fb06d7fc",
   "metadata": {},
   "outputs": [
    {
     "data": {
      "text/plain": [
       "[9, 7, 2, 0, 1, 0, 4, 5, 4]"
      ]
     },
     "execution_count": 597,
     "metadata": {},
     "output_type": "execute_result"
    }
   ],
   "source": [
    "test_labels"
   ]
  },
  {
   "cell_type": "markdown",
   "id": "316eac11",
   "metadata": {},
   "source": [
    "# plot the sample prediction and ground truth"
   ]
  },
  {
   "cell_type": "code",
   "execution_count": 602,
   "id": "53596c7e",
   "metadata": {},
   "outputs": [
    {
     "data": {
      "image/png": "[encoded data removed]",
      "text/plain": [
       "<Figure size 648x648 with 9 Axes>"
      ]
     },
     "metadata": {
      "needs_background": "light"
     },
     "output_type": "display_data"
    }
   ],
   "source": [
    "#plot predictions\n",
    "plt.figure(figsize=(9,9))\n",
    "nrows=3\n",
    "ncols=3\n",
    "for i, sample in enumerate(test_samples):\n",
    "    # create a subplot\n",
    "    plt.subplot(nrows,ncols,i+1)\n",
    "    \n",
    "    #plot the target image\n",
    "    plt.imshow(sample.squeeze(), cmap='gray')\n",
    "    \n",
    "    #find the predicton\n",
    "    pred_label=class_names[pred_classes[i]]\n",
    "    #get the truth label\n",
    "    truth_label=class_names[test_labels[i]]\n",
    "    \n",
    "    # create a title\n",
    "    title_text=f\"Pred: {pred_label} | Truth:{truth_label}\"\n",
    "    \n",
    "    #check for quality \n",
    "    if pred_label== truth_label:\n",
    "        plt.title(title_text, fontsize=10, c='g')\n",
    "    else:\n",
    "        plt.title(title_text, fontsize=12, c='r')\n",
    "    plt.axis(False)"
   ]
  },
  {
   "cell_type": "markdown",
   "id": "f1ccc04f",
   "metadata": {},
   "source": [
    "## making a confusion matrix for further classification matrix"
   ]
  },
  {
   "cell_type": "code",
   "execution_count": 604,
   "id": "d670acdf",
   "metadata": {},
   "outputs": [],
   "source": [
    "from torchmetrics import ConfusionMatrix"
   ]
  },
  {
   "cell_type": "code",
   "execution_count": 605,
   "id": "6bc83402",
   "metadata": {},
   "outputs": [],
   "source": [
    "# mltextend for confusion matrix"
   ]
  },
  {
   "cell_type": "code",
   "execution_count": 609,
   "id": "e7a2b0c3",
   "metadata": {},
   "outputs": [],
   "source": [
    "from mlxtend.plotting import plot_confusion_matrix"
   ]
  },
  {
   "cell_type": "code",
   "execution_count": 610,
   "id": "ae2c18ce",
   "metadata": {},
   "outputs": [],
   "source": [
    "from tqdm.auto import tqdm"
   ]
  },
  {
   "cell_type": "code",
   "execution_count": 626,
   "id": "76229000",
   "metadata": {},
   "outputs": [
    {
     "data": {
      "application/vnd.jupyter.widget-view+json": {
       "model_id": "eec99f1a330a451ba086d2802eb64048",
       "version_major": 2,
       "version_minor": 0
      },
      "text/plain": [
       "Making predections.....:   0%|          | 0/313 [00:00<?, ?it/s]"
      ]
     },
     "metadata": {},
     "output_type": "display_data"
    },
    {
     "data": {
      "text/plain": [
       "tensor([9, 2, 1, 1, 6, 1, 4, 6, 5, 7])"
      ]
     },
     "execution_count": 626,
     "metadata": {},
     "output_type": "execute_result"
    }
   ],
   "source": [
    "y_preds=[]\n",
    "model_2.eval()\n",
    "with torch.inference_mode():\n",
    "    for X,y in tqdm(test_data_loader, desc=\"Making predections.....\"):\n",
    "        # send data to the device\n",
    "        X,y= X.to(device),y.to(device)\n",
    "        # calculating the logits\n",
    "        y_pred_logits=model_2(X)\n",
    "        # turn logits to prrob and to labesl\n",
    "        #print(y_pred_logits)\n",
    "        y_pred=torch.softmax(y_pred_logits.squeeze(),dim=0).argmax(dim=1)\n",
    "        # put on cpu\n",
    "        #print(y_pred.shape)\n",
    "        y_preds.append(y_pred.cpu())\n",
    "# concatinate list of predictions into a tensor\n",
    "#print(y_preds)\n",
    "y_pred_tensor=torch.cat(y_preds)\n",
    "y_pred_tensor[:10]"
   ]
  },
  {
   "cell_type": "markdown",
   "id": "00c107ff",
   "metadata": {},
   "source": [
    "# handling the libraries"
   ]
  },
  {
   "cell_type": "code",
   "execution_count": 640,
   "id": "aae808d7",
   "metadata": {},
   "outputs": [
    {
     "name": "stdout",
     "output_type": "stream",
     "text": [
      "mlxtend verison: 0.21.0\n"
     ]
    }
   ],
   "source": [
    "# handling the libraries\n",
    "try:\n",
    "    import torchmetrics,mlxtend\n",
    "    print(f\"mlxtend verison: {mlxtend.__version__}\")\n",
    "    assert int(mlxtend.__version__.split(\".\")[1])>=19, \"mlxtend should be greater than 0.19\"           \n",
    "except:\n",
    "    !pip install torchmetrics mlxtend"
   ]
  },
  {
   "cell_type": "code",
   "execution_count": 643,
   "id": "3c0a3441",
   "metadata": {},
   "outputs": [
    {
     "data": {
      "image/png": "[encoded data removed]",
      "text/plain": [
       "<Figure size 720x504 with 1 Axes>"
      ]
     },
     "metadata": {
      "needs_background": "light"
     },
     "output_type": "display_data"
    }
   ],
   "source": [
    "# confusion matrix instance and compare predictions to targegest\n",
    "conf_mat=ConfusionMatrix(num_classes=len(class_names))\n",
    "conf_mat_tensor=conf_mat(preds=y_pred_tensor,target=test_data.targets)\n",
    "# plot the mlxtend\n",
    "fig,ax=plot_confusion_matrix(conf_mat=conf_mat_tensor.numpy(),class_names=class_names,figsize=(10,7))"
   ]
  },
  {
   "cell_type": "code",
   "execution_count": 642,
   "id": "e9e58f4d",
   "metadata": {},
   "outputs": [
    {
     "data": {
      "text/plain": [
       "tensor([[596,   5,  35,  53,  11,   0, 297,   0,   3,   0],\n",
       "        [  8, 816,   3, 130,  28,   2,  10,   1,   2,   0],\n",
       "        [  9,   1, 799,  14, 123,   0,  49,   0,   5,   0],\n",
       "        [ 32,   8,  14, 846,  35,   0,  64,   0,   1,   0],\n",
       "        [  8,   3, 119,  42, 770,   0,  54,   0,   4,   0],\n",
       "        [ 10,   1,   3,   3,   1, 795,   4,  70,  91,  22],\n",
       "        [ 66,   6, 131,  42, 136,   1, 612,   0,   6,   0],\n",
       "        [  1,   0,   0,   0,   0,  26,   0, 920,  14,  39],\n",
       "        [ 18,   3,  17,  12,  16,   4,  39,   7, 882,   2],\n",
       "        [  0,   0,   1,   4,   0,  22,   3, 104,  12, 854]])"
      ]
     },
     "execution_count": 642,
     "metadata": {},
     "output_type": "execute_result"
    }
   ],
   "source": [
    "conf_mat_tensor"
   ]
  },
  {
   "cell_type": "markdown",
   "id": "ee7240e7",
   "metadata": {},
   "source": [
    "# saving and loading the best model"
   ]
  },
  {
   "cell_type": "code",
   "execution_count": 16,
   "id": "5f0538cf",
   "metadata": {},
   "outputs": [
    {
     "data": {
      "text/plain": [
       "WindowsPath('models/vision_model.pth')"
      ]
     },
     "execution_count": 16,
     "metadata": {},
     "output_type": "execute_result"
    }
   ],
   "source": [
    "from pathlib import Path\n",
    "# create model directory path\n",
    "MODEL_PATH=Path(\"models\")\n",
    "MODEL_PATH.mkdir(parents=True,\n",
    "                exist_ok=True)\n",
    "\n",
    "#create model save\n",
    "MODEL_NAME=\"vision_model.pth\"\n",
    "MODEL_SAVE_PATH=MODEL_PATH/MODEL_NAME\n",
    "MODEL_SAVE_PATH"
   ]
  },
  {
   "cell_type": "code",
   "execution_count": 645,
   "id": "19f7a8bb",
   "metadata": {},
   "outputs": [
    {
     "name": "stdout",
     "output_type": "stream",
     "text": [
      "Saving the model to  models\\vision_model.pth\n"
     ]
    }
   ],
   "source": [
    "# save the model state dict\n",
    "print(f\"Saving the model to  {MODEL_SAVE_PATH}\")\n",
    "torch.save(obj=model_2.state_dict(),f=MODEL_SAVE_PATH)"
   ]
  },
  {
   "cell_type": "code",
   "execution_count": 107,
   "id": "0e5b726a",
   "metadata": {},
   "outputs": [],
   "source": [
    "# loading the pth model\n",
    "#create a instance of the fashion\n",
    "torch.manual_seed(42)\n",
    "model=Fashion3(input_shape=1,hidden_units=10, output_shape=len(class_names))"
   ]
  },
  {
   "cell_type": "code",
   "execution_count": 108,
   "id": "10c11ce1",
   "metadata": {},
   "outputs": [
    {
     "data": {
      "text/plain": [
       "Fashion3(\n",
       "  (conv_block_1): Sequential(\n",
       "    (0): Conv2d(1, 10, kernel_size=(3, 3), stride=(1, 1), padding=(1, 1))\n",
       "    (1): ReLU()\n",
       "    (2): Conv2d(10, 10, kernel_size=(3, 3), stride=(1, 1), padding=(1, 1))\n",
       "    (3): ReLU()\n",
       "    (4): MaxPool2d(kernel_size=2, stride=2, padding=0, dilation=1, ceil_mode=False)\n",
       "  )\n",
       "  (conv_block_2): Sequential(\n",
       "    (0): Conv2d(10, 10, kernel_size=(3, 3), stride=(1, 1), padding=(1, 1))\n",
       "    (1): ReLU()\n",
       "    (2): Conv2d(10, 10, kernel_size=(3, 3), stride=(1, 1), padding=(1, 1))\n",
       "    (3): ReLU()\n",
       "    (4): MaxPool2d(kernel_size=2, stride=2, padding=0, dilation=1, ceil_mode=False)\n",
       "  )\n",
       "  (classifier): Sequential(\n",
       "    (0): Flatten(start_dim=1, end_dim=-1)\n",
       "    (1): Linear(in_features=490, out_features=10, bias=True)\n",
       "  )\n",
       ")"
      ]
     },
     "execution_count": 108,
     "metadata": {},
     "output_type": "execute_result"
    }
   ],
   "source": [
    "#load model\n",
    "model.load_state_dict(torch.load(f=str(MODEL_SAVE_PATH)))\n",
    "#send model to device\n",
    "device=\"cuda\" if torch.cuda.is_available() else \"cpu\"\n",
    "model.to(device)"
   ]
  },
  {
   "cell_type": "code",
   "execution_count": 109,
   "id": "a9be8d16",
   "metadata": {},
   "outputs": [],
   "source": [
    "# evaluate the loaded model\n",
    "import random\n",
    "random.seed(42)\n",
    "test_samples=[]\n",
    "test_labels=[]\n",
    "for sample, label in random.sample(list(test_data),k=9):\n",
    "    test_samples.append(sample)\n",
    "    test_labels.append(label)"
   ]
  },
  {
   "cell_type": "code",
   "execution_count": 110,
   "id": "da695785",
   "metadata": {},
   "outputs": [],
   "source": [
    "# repeated make prediction function\n",
    "def make_prediction(model: torch.nn.Module,data: list, device: torch.device=device):\n",
    "    pred_probs=[]\n",
    "    model.eval()\n",
    "    with torch.inference_mode():\n",
    "        for sample in data:\n",
    "            # prepare sample:\n",
    "            #print(sample.shape)\n",
    "            sample=torch.unsqueeze(sample, dim=0).to(device)\n",
    "            #print(sample.shape)\n",
    "            # forward pass\n",
    "            pred_logits=model(sample)\n",
    "            #print(\"logits\",pred_logits)\n",
    "            # get the prediction prob \n",
    "            pred_prob=torch.softmax(pred_logits.squeeze(),dim=0)\n",
    "            #get pred prob off the gpu\n",
    "            pred_probs.append(pred_prob.cpu())\n",
    "            #print(\"prob\",pred_prob)\n",
    "    \n",
    "    # stacked pred to turn into tensor\n",
    "    return torch.stack(pred_probs)"
   ]
  },
  {
   "cell_type": "code",
   "execution_count": 111,
   "id": "8a45e245",
   "metadata": {},
   "outputs": [],
   "source": [
    "data_samp=torch.rand(size=(1,1,28,28))"
   ]
  },
  {
   "cell_type": "code",
   "execution_count": 112,
   "id": "11879344",
   "metadata": {},
   "outputs": [
    {
     "data": {
      "text/plain": [
       "torch.Size([1, 1, 28, 28])"
      ]
     },
     "execution_count": 112,
     "metadata": {},
     "output_type": "execute_result"
    }
   ],
   "source": [
    "data_samp.shape"
   ]
  },
  {
   "cell_type": "code",
   "execution_count": 113,
   "id": "30f5d43d",
   "metadata": {},
   "outputs": [
    {
     "data": {
      "text/plain": [
       "tensor([[6.5957e-03, 1.5047e-02, 1.9150e-02, 6.6112e-03, 1.2294e-03, 1.1258e-04,\n",
       "         8.0184e-02, 8.6653e-04, 8.6905e-01, 1.1518e-03]])"
      ]
     },
     "execution_count": 113,
     "metadata": {},
     "output_type": "execute_result"
    }
   ],
   "source": [
    "make_prediction(model=model,data=data_samp,device=device)"
   ]
  },
  {
   "cell_type": "code",
   "execution_count": 129,
   "id": "ce88f1e2",
   "metadata": {},
   "outputs": [],
   "source": [
    "# repeated evaluation fuction of model\n",
    "torch.manual_seed(42)\n",
    "def eval_model(model:torch.nn.Module,\n",
    "              data_loader: torch.utils.data.DataLoader,\n",
    "              loss_func: torch.nn.Module,\n",
    "              accuracy,\n",
    "              device: torch.device=device):\n",
    "    loss,acc=0,0\n",
    "    model.eval()\n",
    "    with torch.inference_mode():\n",
    "        for X,y in data_loader:\n",
    "            # send data to targets\n",
    "            X,y=X.to(device),y.to(device)\n",
    "            y_pred=model(X)\n",
    "            loss+=loss_func(y_pred,y)\n",
    "            acc+=accuracy(y_pred,y)\n",
    "            #print(acc)\n",
    "        #scale loss and accuracy per batch\n",
    "        loss/=len(data_loader)\n",
    "        acc/=len(data_loader)\n",
    "        #print(acc)\n",
    "    return {\n",
    "        \"model\": model.__class__.__name__,\n",
    "        \"model_loss\": loss.item(),\n",
    "        \"model_accuracy\": torch.round(acc*100,decimals=2).item()\n",
    "    }"
   ]
  },
  {
   "cell_type": "code",
   "execution_count": 130,
   "id": "e2ad0561",
   "metadata": {},
   "outputs": [],
   "source": [
    "loss_func=torch.nn.CrossEntropyLoss()\n",
    "from torchmetrics import Accuracy\n",
    "accuracy=Accuracy()"
   ]
  },
  {
   "cell_type": "code",
   "execution_count": 131,
   "id": "f1449f29",
   "metadata": {},
   "outputs": [
    {
     "name": "stdout",
     "output_type": "stream",
     "text": [
      "{'model': 'Fashion3', 'model_loss': 0.3096836805343628, 'model_accuracy': 89.08999633789062}\n"
     ]
    }
   ],
   "source": [
    "loade_model_result=eval_model(model=model,data_loader=test_data_loader,loss_func=loss_func,accuracy=accuracy,device=device)\n",
    "print(loade_model_result)"
   ]
  },
  {
   "cell_type": "code",
   "execution_count": null,
   "id": "f30b3530",
   "metadata": {},
   "outputs": [],
   "source": []
  }
 ],
 "metadata": {
  "kernelspec": {
   "display_name": "Python 3 (ipykernel)",
   "language": "python",
   "name": "python3"
  },
  "language_info": {
   "codemirror_mode": {
    "name": "ipython",
    "version": 3
   },
   "file_extension": ".py",
   "mimetype": "text/x-python",
   "name": "python",
   "nbconvert_exporter": "python",
   "pygments_lexer": "ipython3",
   "version": "3.9.7"
  }
 },
 "nbformat": 4,
 "nbformat_minor": 5
}
