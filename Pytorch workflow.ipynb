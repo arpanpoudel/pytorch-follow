{
 "cells": [
  {
   "cell_type": "markdown",
   "id": "e1b44223",
   "metadata": {},
   "source": [
    "- Data (prepare and load)\n",
    "- build model\n",
    "- fitting the model to data (training)\n",
    "- making prediction (inference)\n",
    "- saving and loading a model\n",
    "- putting things all together"
   ]
  },
  {
   "cell_type": "code",
   "execution_count": 1,
   "id": "3ec01678",
   "metadata": {},
   "outputs": [
    {
     "data": {
      "text/plain": [
       "'1.12.1+cpu'"
      ]
     },
     "execution_count": 1,
     "metadata": {},
     "output_type": "execute_result"
    }
   ],
   "source": [
    "import torch\n",
    "from torch import nn # nn contains all pytorch building blocks for neural network\n",
    "import matplotlib.pyplot as plt\n",
    "#check version\n",
    "torch.__version__"
   ]
  },
  {
   "cell_type": "markdown",
   "id": "4d9366f6",
   "metadata": {},
   "source": [
    "# Preparing and loading data\n",
    "#use of linear regresssion"
   ]
  },
  {
   "cell_type": "code",
   "execution_count": 4,
   "id": "9ff64fed",
   "metadata": {},
   "outputs": [],
   "source": [
    "#create known parameters\n",
    "weight= 0.7\n",
    "bias=0.3"
   ]
  },
  {
   "cell_type": "code",
   "execution_count": 11,
   "id": "f719e280",
   "metadata": {},
   "outputs": [],
   "source": [
    "#create data\n",
    "start=0\n",
    "end=1\n",
    "step=0.02\n",
    "X= torch.arange(start,end,step).unsqueeze(dim=1)\n",
    "y= bias + X* weight"
   ]
  },
  {
   "cell_type": "code",
   "execution_count": 15,
   "id": "4b2c4be8",
   "metadata": {},
   "outputs": [
    {
     "data": {
      "text/plain": [
       "(tensor([[0.0000],\n",
       "         [0.0200],\n",
       "         [0.0400],\n",
       "         [0.0600],\n",
       "         [0.0800],\n",
       "         [0.1000],\n",
       "         [0.1200],\n",
       "         [0.1400],\n",
       "         [0.1600],\n",
       "         [0.1800]]),\n",
       " tensor([[0.3000],\n",
       "         [0.3140],\n",
       "         [0.3280],\n",
       "         [0.3420],\n",
       "         [0.3560],\n",
       "         [0.3700],\n",
       "         [0.3840],\n",
       "         [0.3980],\n",
       "         [0.4120],\n",
       "         [0.4260]]))"
      ]
     },
     "execution_count": 15,
     "metadata": {},
     "output_type": "execute_result"
    }
   ],
   "source": [
    "X[:10,:],y[:10,:]"
   ]
  },
  {
   "cell_type": "code",
   "execution_count": 16,
   "id": "fb0ede75",
   "metadata": {},
   "outputs": [],
   "source": [
    "#spliting into training and test sets"
   ]
  },
  {
   "cell_type": "code",
   "execution_count": 19,
   "id": "da463b5f",
   "metadata": {},
   "outputs": [],
   "source": [
    "X_train,y_train=X[:40],y[:40]\n",
    "X_test,y_test=X[40:],y[40:]"
   ]
  },
  {
   "cell_type": "code",
   "execution_count": 21,
   "id": "4dc88452",
   "metadata": {},
   "outputs": [],
   "source": [
    "#visualize the data\n",
    "def plot_prediction(train_data=X_train, \n",
    "                    train_label=y_train,\n",
    "                    test_data=X_test,\n",
    "                    test_label=y_test,\n",
    "                   predictions=None):\n",
    "    ''' plot training data, test data and compares predictions'''\n",
    "    plt.figure(figsize=(10,7))\n",
    "    # plot training in blue\n",
    "    plt.scatter(train_data,train_label,c=\"b\",s=4,label=\"training data\")\n",
    "    # plot training in blue\n",
    "    plt.scatter(test_data,test_label,c=\"g\",s=4,label=\"testing data\")\n",
    "    \n",
    "    #checking predictin\n",
    "    if predictions is not None:\n",
    "        plt.scatter(test_data,predictions,c=\"r\",s=4,label=\"prediction data\")\n",
    "    #show the legeng\n",
    "    plt.legend(prop={\"size\":14})"
   ]
  },
  {
   "cell_type": "code",
   "execution_count": 22,
   "id": "fb00da35",
   "metadata": {},
   "outputs": [
    {
     "data": {
      "image/png": "[encoded data removed]",
      "text/plain": [
       "<Figure size 720x504 with 1 Axes>"
      ]
     },
     "metadata": {
      "needs_background": "light"
     },
     "output_type": "display_data"
    }
   ],
   "source": [
    "plot_prediction()"
   ]
  },
  {
   "cell_type": "code",
   "execution_count": 26,
   "id": "62c575ce",
   "metadata": {},
   "outputs": [],
   "source": [
    "#building the model\n",
    "#create linear regression model class\n",
    "class LinearRegression(nn.Module):\n",
    "    def __init__(self):\n",
    "        super().__init__()\n",
    "        self.weights=nn.Parameter(torch.randn(1,requires_grad=True, dtype=torch.float))\n",
    "        self.bias=nn.Parameter(torch.randn(1,\n",
    "                                          requires_grad=True,\n",
    "                                          dtype=torch.float\n",
    "                                          ))\n",
    "        #forward method to define computation\n",
    "    def forward(self, x: torch.Tensor) ->torch.Tensor:\n",
    "        return self.weights*x +self.bias"
   ]
  },
  {
   "cell_type": "markdown",
   "id": "5298e054",
   "metadata": {},
   "source": [
    "# pytorch model building essentials\n",
    "\n",
    "- torch.nn for graphs\n",
    "- torch.nn.Parameter - parameter that module will learn\n",
    "- torch.nn.Module -the base class for all the neural network model, if you sub class it, you should overwrite forward\n",
    "- torch.optim- this will help in gradient discent to update weights\n",
    "- def forward() - nn.Module should override\n",
    "- torch.utils.data.Dataset represents a map between key(label) and sample (features) pairs of the data\n",
    "- torch.utils.data.Dataloader creates a python iterable over a torch Dataset ( allows you to iterate over your data)"
   ]
  },
  {
   "cell_type": "code",
   "execution_count": 77,
   "id": "9051a8d6",
   "metadata": {},
   "outputs": [
    {
     "data": {
      "text/plain": [
       "[Parameter containing:\n",
       " tensor([0.3367], requires_grad=True),\n",
       " Parameter containing:\n",
       " tensor([0.1288], requires_grad=True)]"
      ]
     },
     "execution_count": 77,
     "metadata": {},
     "output_type": "execute_result"
    }
   ],
   "source": [
    "#checking the content of the model\n",
    "torch.manual_seed(42)\n",
    "#instance of the model\n",
    "model_0=LinearRegression()\n",
    "list(model_0.parameters())"
   ]
  },
  {
   "cell_type": "code",
   "execution_count": 78,
   "id": "cdeb9315",
   "metadata": {},
   "outputs": [
    {
     "data": {
      "text/plain": [
       "OrderedDict([('weights', tensor([0.3367])), ('bias', tensor([0.1288]))])"
      ]
     },
     "execution_count": 78,
     "metadata": {},
     "output_type": "execute_result"
    }
   ],
   "source": [
    "#list named parameters\n",
    "model_0.state_dict()"
   ]
  },
  {
   "cell_type": "markdown",
   "id": "e3ad5d13",
   "metadata": {},
   "source": [
    "# making prediction using torch.inference_model() analogous to torch.no_grad()"
   ]
  },
  {
   "cell_type": "code",
   "execution_count": 79,
   "id": "1dd831d1",
   "metadata": {},
   "outputs": [
    {
     "data": {
      "text/plain": [
       "tensor([[0.3982],\n",
       "        [0.4049],\n",
       "        [0.4116],\n",
       "        [0.4184],\n",
       "        [0.4251],\n",
       "        [0.4318],\n",
       "        [0.4386],\n",
       "        [0.4453],\n",
       "        [0.4520],\n",
       "        [0.4588]])"
      ]
     },
     "execution_count": 79,
     "metadata": {},
     "output_type": "execute_result"
    }
   ],
   "source": [
    "#making prediction using torch.inference_model()\n",
    "with torch.inference_mode():\n",
    "    y_preds=model_0(X_test)\n",
    "y_preds"
   ]
  },
  {
   "cell_type": "code",
   "execution_count": 80,
   "id": "ed7585a1",
   "metadata": {},
   "outputs": [
    {
     "data": {
      "image/png": "[encoded data removed]",
      "text/plain": [
       "<Figure size 720x504 with 1 Axes>"
      ]
     },
     "metadata": {
      "needs_background": "light"
     },
     "output_type": "display_data"
    }
   ],
   "source": [
    "plot_prediction(predictions=y_preds)"
   ]
  },
  {
   "cell_type": "markdown",
   "id": "358c50f9",
   "metadata": {},
   "source": [
    "## training a model with pytorch"
   ]
  },
  {
   "cell_type": "code",
   "execution_count": 81,
   "id": "2369c65e",
   "metadata": {},
   "outputs": [],
   "source": [
    "#setup a loss function\n",
    "loss_fn=nn.L1Loss()\n",
    "\n",
    "#setup an optimizer\n",
    "optimizer=torch.optim.SGD(params=model_0.parameters(), lr=0.01,momentum=0.9)"
   ]
  },
  {
   "cell_type": "markdown",
   "id": "d30cd780",
   "metadata": {},
   "source": [
    "# building a training loop and testing loop\n",
    "- lopp through the data\n",
    "- forward pass ( data moving through our forward function)\n",
    "- Calculate the loss ( compare forward pass pred to ground truths)\n",
    "-  optimizer zero grad\n",
    "- loss backward - move backwards to calculate the gradients with respect to the loss ( ** back propagation ** )\n",
    "- optimizer step - use the optimizer to adjust the model parameter's to reduce the loss ( ** gradient descent ** )"
   ]
  },
  {
   "cell_type": "code",
   "execution_count": 82,
   "id": "d4ee1467",
   "metadata": {},
   "outputs": [],
   "source": [
    "import logging\n",
    "logging.basicConfig(filename=\"torch.log\",level=logging.INFO,format=\"%(asctime)s %(levelname)s %(message)s\")"
   ]
  },
  {
   "cell_type": "code",
   "execution_count": 83,
   "id": "5eab44c4",
   "metadata": {},
   "outputs": [
    {
     "name": "stdout",
     "output_type": "stream",
     "text": [
      "Epoch : 0 | Loss : 0.31288138031959534 | Test loss : 0.48106518387794495\n",
      "Epoch : 10 | Loss : 0.10313145816326141 | Test loss : 0.026505161076784134\n",
      "Epoch : 20 | Loss : 0.06960087269544601 | Test loss : 0.1943041831254959\n",
      "Epoch : 30 | Loss : 0.04656733572483063 | Test loss : 0.027078520506620407\n",
      "Epoch : 40 | Loss : 0.021285563707351685 | Test loss : 0.001966828014701605\n",
      "Epoch : 50 | Loss : 0.015717655420303345 | Test loss : 0.0101406155154109\n",
      "Epoch : 60 | Loss : 0.009445302188396454 | Test loss : 0.0240285936743021\n",
      "Epoch : 70 | Loss : 0.00741451233625412 | Test loss : 0.007351106498390436\n",
      "Epoch : 80 | Loss : 0.0018297791248187423 | Test loss : 0.00930970348417759\n",
      "Epoch : 90 | Loss : 0.004054549150168896 | Test loss : 0.004079192876815796\n",
      "Epoch : 100 | Loss : 0.005789103917777538 | Test loss : 0.011751502752304077\n",
      "Epoch : 110 | Loss : 0.004738835152238607 | Test loss : 0.0048580230213701725\n",
      "Epoch : 120 | Loss : 0.005505512002855539 | Test loss : 0.010634821839630604\n",
      "Epoch : 130 | Loss : 0.0063748410902917385 | Test loss : 0.004038226790726185\n",
      "Epoch : 140 | Loss : 0.004935048520565033 | Test loss : 0.010920649394392967\n",
      "Epoch : 150 | Loss : 0.006573714315891266 | Test loss : 0.0039386870339512825\n",
      "Epoch : 160 | Loss : 0.004865697119385004 | Test loss : 0.010955387726426125\n",
      "Epoch : 170 | Loss : 0.006597835570573807 | Test loss : 0.003926664590835571\n",
      "Epoch : 180 | Loss : 0.004857355263084173 | Test loss : 0.010959500446915627\n",
      "Epoch : 190 | Loss : 0.0066006975248456 | Test loss : 0.003925305791199207\n"
     ]
    }
   ],
   "source": [
    "# set the epoch\n",
    "epochs=200\n",
    "#tracking  the values\n",
    "epoch_count=[]\n",
    "loss_values=[]\n",
    "test_loss_values=[]\n",
    "#training \n",
    "# loop throufh the data\n",
    "for epoch in range(epochs):\n",
    "        # set the model to training mode\n",
    "        model_0.train() # train mode in pytorch set all the paramaters that requires gradients to require gradients\n",
    "        \n",
    "        #1. forward pass\n",
    "        y_pred=model_0(X_train)\n",
    "        # 2. calculate the loss\n",
    "        loss=loss_fn(y_pred,y_train) \n",
    "        #3. optimizer zero grad\n",
    "        optimizer.zero_grad() #if removed the optimizer accumulates the update step\n",
    "        \n",
    "        #4. perform back propagation on the loss with respect to the parameters of the model\n",
    "        loss.backward()\n",
    "        \n",
    "        #5. step the optimizer( perform the gradien descent)\n",
    "        optimizer.step()\n",
    "        \n",
    "        \n",
    "        #model_0.eval() # turns off the gradient tracking\n",
    "        model_0.eval()\n",
    "        with torch.inference_mode():\n",
    "            # 1. forward pass in testing mode\n",
    "            test_pred=model_0(X_test)\n",
    "            # 2. Calculate the test loss\n",
    "            test_loss=loss_fn(test_pred,y_test)\n",
    "        if epoch%10==0:\n",
    "            epoch_count.append(epoch)\n",
    "            loss_values.append(loss)\n",
    "            test_loss_values.append(test_loss)\n",
    "            logging.info(f\"Model ran in epoch {epoch} with loss of {loss}  and test loss of {test_loss} \")\n",
    "            print(f\"Epoch : {epoch} | Loss : {loss} | Test loss : {test_loss}\")\n",
    "else:\n",
    "    logging.shutdown()"
   ]
  },
  {
   "cell_type": "code",
   "execution_count": 84,
   "id": "ac76e306",
   "metadata": {},
   "outputs": [
    {
     "data": {
      "text/plain": [
       "OrderedDict([('weights', tensor([0.7034])), ('bias', tensor([0.2938]))])"
      ]
     },
     "execution_count": 84,
     "metadata": {},
     "output_type": "execute_result"
    }
   ],
   "source": [
    "model_0.state_dict()"
   ]
  },
  {
   "cell_type": "code",
   "execution_count": 85,
   "id": "91d8ddf1",
   "metadata": {},
   "outputs": [
    {
     "data": {
      "text/plain": [
       "(tensor([[0.8565],\n",
       "         [0.8706],\n",
       "         [0.8847],\n",
       "         [0.8987],\n",
       "         [0.9128],\n",
       "         [0.9269],\n",
       "         [0.9409],\n",
       "         [0.9550],\n",
       "         [0.9691],\n",
       "         [0.9831]]),\n",
       " tensor([[0.8600],\n",
       "         [0.8740],\n",
       "         [0.8880],\n",
       "         [0.9020],\n",
       "         [0.9160],\n",
       "         [0.9300],\n",
       "         [0.9440],\n",
       "         [0.9580],\n",
       "         [0.9720],\n",
       "         [0.9860]]))"
      ]
     },
     "execution_count": 85,
     "metadata": {},
     "output_type": "execute_result"
    }
   ],
   "source": [
    "with torch.inference_mode():\n",
    "    y_preds=model_0(X_test)\n",
    "y_preds,y_test"
   ]
  },
  {
   "cell_type": "code",
   "execution_count": 89,
   "id": "492a1637",
   "metadata": {},
   "outputs": [],
   "source": [
    "loss_values=torch.tensor(loss_values).numpy()\n",
    "test_loss_values=torch.tensor(test_loss_values).numpy()\n"
   ]
  },
  {
   "cell_type": "code",
   "execution_count": 91,
   "id": "06dc0289",
   "metadata": {},
   "outputs": [
    {
     "data": {
      "text/plain": [
       "<matplotlib.legend.Legend at 0x1f76d246280>"
      ]
     },
     "execution_count": 91,
     "metadata": {},
     "output_type": "execute_result"
    },
    {
     "data": {
      "image/png": "[encoded data removed]",
      "text/plain": [
       "<Figure size 432x288 with 1 Axes>"
      ]
     },
     "metadata": {
      "needs_background": "light"
     },
     "output_type": "display_data"
    }
   ],
   "source": [
    "#plot\n",
    "plt.plot(epoch_count,loss_values,label=\"Train loss\")\n",
    "plt.plot(epoch_count,test_loss_values,label=\"Test loss\")\n",
    "plt.title(\"training and test loss curve\")\n",
    "plt.xlabel(\"Epochs\")\n",
    "plt.ylabel(\"Loss\")\n",
    "plt.legend()"
   ]
  },
  {
   "cell_type": "markdown",
   "id": "fe74c1cc",
   "metadata": {},
   "source": [
    "# saving the model\n"
   ]
  },
  {
   "cell_type": "markdown",
   "id": "eb9bce3a",
   "metadata": {},
   "source": [
    "### three methods\n",
    "- torch.save()\n",
    "- torch.load()\n",
    "- torch.nn.Module.load_state_dict()"
   ]
  },
  {
   "cell_type": "code",
   "execution_count": 108,
   "id": "cb6eea44",
   "metadata": {},
   "outputs": [
    {
     "data": {
      "text/plain": [
       "'C:\\\\Users\\\\arpan\\\\Desktop\\\\Full stack data science\\\\model_0.pth'"
      ]
     },
     "execution_count": 108,
     "metadata": {},
     "output_type": "execute_result"
    }
   ],
   "source": [
    "#saving our pytorch modl\n",
    "from pathlib import Path\n",
    "import os\n",
    "#1.create a model directory\n",
    "model_path=Path(\"models\")\n",
    "model_path.mkdir(parents=True,exist_ok=True)\n",
    "#2. model save path\n",
    "model_name=\"model_0.pth\"\n",
    "model_save_path=os.path.join(os.path.abspath(os.getcwd()),model_name)\n",
    "model_save_path"
   ]
  },
  {
   "cell_type": "code",
   "execution_count": 111,
   "id": "ef20b7dd",
   "metadata": {},
   "outputs": [],
   "source": [
    "#3. save the model state dict\n",
    "torch.save(obj=model_0.state_dict(),f=model_save_path)"
   ]
  },
  {
   "cell_type": "code",
   "execution_count": 113,
   "id": "691c10d0",
   "metadata": {},
   "outputs": [],
   "source": [
    "model=LinearRegression()"
   ]
  },
  {
   "cell_type": "code",
   "execution_count": 114,
   "id": "368259df",
   "metadata": {},
   "outputs": [
    {
     "data": {
      "text/plain": [
       "<All keys matched successfully>"
      ]
     },
     "execution_count": 114,
     "metadata": {},
     "output_type": "execute_result"
    }
   ],
   "source": [
    "model.load_state_dict(torch.load(\"model_0.pth\"))"
   ]
  },
  {
   "cell_type": "code",
   "execution_count": 115,
   "id": "340adabe",
   "metadata": {},
   "outputs": [
    {
     "data": {
      "text/plain": [
       "OrderedDict([('weights', tensor([0.7034])), ('bias', tensor([0.2938]))])"
      ]
     },
     "execution_count": 115,
     "metadata": {},
     "output_type": "execute_result"
    }
   ],
   "source": [
    "model.state_dict()"
   ]
  },
  {
   "cell_type": "code",
   "execution_count": 116,
   "id": "b5dc1140",
   "metadata": {},
   "outputs": [],
   "source": [
    "#make some prediction"
   ]
  },
  {
   "cell_type": "code",
   "execution_count": 125,
   "id": "108137d6",
   "metadata": {},
   "outputs": [
    {
     "name": "stdout",
     "output_type": "stream",
     "text": [
      "tensor([2.4039])\n"
     ]
    }
   ],
   "source": [
    "model.eval()\n",
    "with torch.inference_mode():\n",
    "    print(model(torch.tensor(3)))"
   ]
  },
  {
   "cell_type": "code",
   "execution_count": 135,
   "id": "60b0534b",
   "metadata": {},
   "outputs": [],
   "source": [
    "#alll things together\n",
    "import torch \n",
    "from torch import nn as nn\n",
    "import matplotlib.pyplot as plt\n",
    "import numpy as np\n",
    "from sklearn.model_selection import train_test_split"
   ]
  },
  {
   "cell_type": "code",
   "execution_count": 128,
   "id": "7afa8f6b",
   "metadata": {},
   "outputs": [],
   "source": [
    "#create  device agnostic code:\n",
    "device=\"cuda\" if torch.cuda.is_available() else \"cpu\""
   ]
  },
  {
   "cell_type": "code",
   "execution_count": 132,
   "id": "daf59afe",
   "metadata": {},
   "outputs": [],
   "source": [
    "#data\n",
    "weight =0.4\n",
    "bias = 9\n",
    "start=1\n",
    "end= 100\n",
    "step=2\n",
    "X=torch.arange(start,end,step,dtype=torch.float32).unsqueeze(dim=1)\n",
    "y=bias+weight*X"
   ]
  },
  {
   "cell_type": "code",
   "execution_count": 139,
   "id": "58d2c8fa",
   "metadata": {},
   "outputs": [],
   "source": [
    "X_train,X_test,y_train,y_test=train_test_split(X,y,test_size=0.2,random_state=2)"
   ]
  },
  {
   "cell_type": "code",
   "execution_count": 162,
   "id": "7bc24d6f",
   "metadata": {},
   "outputs": [],
   "source": [
    "def plot(X_train=X_train,X_test=X_test,\n",
    "        y_train=y_train,y_test=y_test,\n",
    "        prediction=None):\n",
    "    ''' plot the data'''\n",
    "    plt.figure(figsize=(10,7))\n",
    "    plt.scatter(X_train,y_train,c=\"b\",label=\"Training\")\n",
    "    plt.scatter(X_test,y_test,c=\"r\",label=\"Test\")\n",
    "    plt.xlabel(\"X\")\n",
    "    plt.ylabel(\"y\")\n",
    "    if prediction is not None:\n",
    "        plt.scatter(X_test,prediction,c=\"g\",label=\"Prediction\")\n",
    "    plt.legend(prop={\"size\":14})\n",
    "    \n",
    "\n"
   ]
  },
  {
   "cell_type": "code",
   "execution_count": 163,
   "id": "37273de9",
   "metadata": {},
   "outputs": [],
   "source": [
    "class LinerReg(nn.Module):\n",
    "    def __init__(self):\n",
    "        super(LinerReg,self).__init__()\n",
    "        self.weights=nn.Parameter(torch.rand(1,requires_grad=True,dtype=torch.float32))\n",
    "        self.bias=nn.Parameter(torch.rand(1,requires_grad=True,dtype=torch.float32))\n",
    "        \n",
    "    def forward(self,x:torch.Tensor)->torch.Tensor:\n",
    "        return self.weights*x +self.bias"
   ]
  },
  {
   "cell_type": "code",
   "execution_count": 180,
   "id": "6e549339",
   "metadata": {},
   "outputs": [
    {
     "data": {
      "text/plain": [
       "OrderedDict([('weights', tensor([0.8757])), ('bias', tensor([0.2721]))])"
      ]
     },
     "execution_count": 180,
     "metadata": {},
     "output_type": "execute_result"
    }
   ],
   "source": [
    "torch.manual_seed(32)\n",
    "model=LinerReg()\n",
    "model.state_dict()"
   ]
  },
  {
   "cell_type": "code",
   "execution_count": 181,
   "id": "3dd5c304",
   "metadata": {},
   "outputs": [
    {
     "data": {
      "image/png": "[encoded data removed]",
      "text/plain": [
       "<Figure size 720x504 with 1 Axes>"
      ]
     },
     "metadata": {
      "needs_background": "light"
     },
     "output_type": "display_data"
    }
   ],
   "source": [
    "with torch.inference_mode():\n",
    "    y_pred=model(X_test)\n",
    "plot(prediction=y_pred)"
   ]
  },
  {
   "cell_type": "code",
   "execution_count": 182,
   "id": "189fef25",
   "metadata": {},
   "outputs": [],
   "source": [
    "#setiing loss and opt\n",
    "loss_func=nn.MSELoss()\n",
    "optimizer=torch.optim.Adam(params=model.parameters(),lr=0.01)"
   ]
  },
  {
   "cell_type": "code",
   "execution_count": 183,
   "id": "5b7e7e64",
   "metadata": {},
   "outputs": [
    {
     "name": "stdout",
     "output_type": "stream",
     "text": [
      "Epoch: 0 train loss 15.69 test loss 552.23\n",
      "Epoch: 10 train loss 11.29 test loss 288.03\n",
      "Epoch: 20 train loss 7.28 test loss 115.37\n",
      "Epoch: 30 train loss 4.41 test loss 32.63\n",
      "Epoch: 40 train loss 3.88 test loss 18.80\n",
      "Epoch: 50 train loss 3.84 test loss 18.35\n",
      "Epoch: 60 train loss 3.70 test loss 20.45\n",
      "Epoch: 70 train loss 3.66 test loss 19.49\n",
      "Epoch: 80 train loss 3.61 test loss 17.89\n",
      "Epoch: 90 train loss 3.57 test loss 17.83\n",
      "Epoch: 100 train loss 3.53 test loss 17.75\n",
      "Epoch: 110 train loss 3.49 test loss 17.14\n",
      "Epoch: 120 train loss 3.45 test loss 16.67\n",
      "Epoch: 130 train loss 3.41 test loss 16.28\n",
      "Epoch: 140 train loss 3.38 test loss 15.87\n",
      "Epoch: 150 train loss 3.34 test loss 15.52\n",
      "Epoch: 160 train loss 3.30 test loss 15.18\n",
      "Epoch: 170 train loss 3.26 test loss 14.80\n",
      "Epoch: 180 train loss 3.22 test loss 14.45\n",
      "Epoch: 190 train loss 3.18 test loss 14.09\n",
      "Epoch: 200 train loss 3.14 test loss 13.74\n",
      "Epoch: 210 train loss 3.10 test loss 13.37\n",
      "Epoch: 220 train loss 3.06 test loss 13.03\n",
      "Epoch: 230 train loss 3.02 test loss 12.71\n",
      "Epoch: 240 train loss 2.98 test loss 12.35\n",
      "Epoch: 250 train loss 2.94 test loss 12.03\n",
      "Epoch: 260 train loss 2.89 test loss 11.70\n",
      "Epoch: 270 train loss 2.85 test loss 11.40\n",
      "Epoch: 280 train loss 2.81 test loss 11.10\n",
      "Epoch: 290 train loss 2.77 test loss 10.77\n",
      "Epoch: 300 train loss 2.73 test loss 10.43\n",
      "Epoch: 310 train loss 2.69 test loss 10.09\n",
      "Epoch: 320 train loss 2.65 test loss 9.81\n",
      "Epoch: 330 train loss 2.61 test loss 9.50\n",
      "Epoch: 340 train loss 2.57 test loss 9.21\n",
      "Epoch: 350 train loss 2.53 test loss 8.91\n",
      "Epoch: 360 train loss 2.49 test loss 8.65\n",
      "Epoch: 370 train loss 2.45 test loss 8.36\n",
      "Epoch: 380 train loss 2.41 test loss 8.05\n",
      "Epoch: 390 train loss 2.37 test loss 7.79\n",
      "Epoch: 400 train loss 2.32 test loss 7.53\n",
      "Epoch: 410 train loss 2.28 test loss 7.26\n",
      "Epoch: 420 train loss 2.24 test loss 7.03\n",
      "Epoch: 430 train loss 2.20 test loss 6.78\n",
      "Epoch: 440 train loss 2.16 test loss 6.55\n",
      "Epoch: 450 train loss 2.12 test loss 6.30\n",
      "Epoch: 460 train loss 2.08 test loss 6.07\n",
      "Epoch: 470 train loss 2.04 test loss 5.82\n",
      "Epoch: 480 train loss 2.00 test loss 5.61\n",
      "Epoch: 490 train loss 1.96 test loss 5.32\n",
      "Epoch: 500 train loss 1.91 test loss 5.10\n",
      "Epoch: 510 train loss 1.87 test loss 4.86\n",
      "Epoch: 520 train loss 1.83 test loss 4.65\n",
      "Epoch: 530 train loss 1.79 test loss 4.46\n",
      "Epoch: 540 train loss 1.75 test loss 4.29\n",
      "Epoch: 550 train loss 1.71 test loss 4.05\n",
      "Epoch: 560 train loss 1.67 test loss 3.89\n",
      "Epoch: 570 train loss 1.63 test loss 3.68\n",
      "Epoch: 580 train loss 1.58 test loss 3.49\n",
      "Epoch: 590 train loss 1.54 test loss 3.30\n",
      "Epoch: 600 train loss 1.50 test loss 3.13\n",
      "Epoch: 610 train loss 1.46 test loss 2.97\n",
      "Epoch: 620 train loss 1.42 test loss 2.80\n",
      "Epoch: 630 train loss 1.38 test loss 2.67\n",
      "Epoch: 640 train loss 1.34 test loss 2.49\n",
      "Epoch: 650 train loss 1.30 test loss 2.35\n",
      "Epoch: 660 train loss 1.25 test loss 2.20\n",
      "Epoch: 670 train loss 1.21 test loss 2.09\n",
      "Epoch: 680 train loss 1.17 test loss 1.94\n",
      "Epoch: 690 train loss 1.13 test loss 1.81\n",
      "Epoch: 700 train loss 1.09 test loss 1.69\n",
      "Epoch: 710 train loss 1.05 test loss 1.53\n",
      "Epoch: 720 train loss 1.01 test loss 1.42\n",
      "Epoch: 730 train loss 0.97 test loss 1.29\n",
      "Epoch: 740 train loss 0.92 test loss 1.20\n",
      "Epoch: 750 train loss 0.88 test loss 1.08\n",
      "Epoch: 760 train loss 0.84 test loss 0.97\n",
      "Epoch: 770 train loss 0.80 test loss 0.89\n",
      "Epoch: 780 train loss 0.76 test loss 0.79\n",
      "Epoch: 790 train loss 0.72 test loss 0.73\n",
      "Epoch: 800 train loss 0.68 test loss 0.63\n",
      "Epoch: 810 train loss 0.64 test loss 0.55\n",
      "Epoch: 820 train loss 0.59 test loss 0.50\n",
      "Epoch: 830 train loss 0.55 test loss 0.42\n",
      "Epoch: 840 train loss 0.51 test loss 0.35\n",
      "Epoch: 850 train loss 0.47 test loss 0.31\n",
      "Epoch: 860 train loss 0.43 test loss 0.26\n",
      "Epoch: 870 train loss 0.39 test loss 0.22\n",
      "Epoch: 880 train loss 0.35 test loss 0.18\n",
      "Epoch: 890 train loss 0.31 test loss 0.13\n",
      "Epoch: 900 train loss 0.26 test loss 0.09\n",
      "Epoch: 910 train loss 0.22 test loss 0.07\n",
      "Epoch: 920 train loss 0.18 test loss 0.04\n",
      "Epoch: 930 train loss 0.18 test loss 0.08\n",
      "Epoch: 940 train loss 0.11 test loss 0.05\n",
      "Epoch: 950 train loss 0.27 test loss 0.02\n",
      "Epoch: 960 train loss 0.52 test loss 0.27\n",
      "Epoch: 970 train loss 0.75 test loss 0.58\n",
      "Epoch: 980 train loss 0.57 test loss 0.30\n",
      "Epoch: 990 train loss 0.44 test loss 0.15\n"
     ]
    }
   ],
   "source": [
    "torch.manual_seed(42)\n",
    "epochs=1000\n",
    "epoch_count=[]\n",
    "train_loss_values=[]\n",
    "test_loss_values=[]\n",
    "\n",
    "for epoch in range(epochs):\n",
    "    model.train()\n",
    "    y_pred=model(X_train)\n",
    "    loss=loss_fn(y_pred,y_train)\n",
    "    optimizer.zero_grad()\n",
    "    loss.backward()\n",
    "    optimizer.step()\n",
    "    \n",
    "    model.eval()\n",
    "    with torch.inference_mode():\n",
    "        test_pred=model(X_test)\n",
    "        loss_pred=loss_func(test_pred,y_test.type(torch.float))\n",
    "        \n",
    "        if epoch %10==0:\n",
    "            print(f\"Epoch: {epoch} train loss {loss:.2f} test loss {loss_pred:.2f}\")\n",
    "            epoch_count.append(epoch)\n",
    "            train_loss_values.append(loss)\n",
    "            test_loss_values.append(loss_pred)"
   ]
  },
  {
   "cell_type": "code",
   "execution_count": 184,
   "id": "e8ea99b3",
   "metadata": {},
   "outputs": [
    {
     "data": {
      "image/png": "[encoded data removed]",
      "text/plain": [
       "<Figure size 432x288 with 1 Axes>"
      ]
     },
     "metadata": {
      "needs_background": "light"
     },
     "output_type": "display_data"
    }
   ],
   "source": [
    "plt.plot(epoch_count,torch.tensor(train_loss_values).detach().numpy(),label=\"train loss\")\n",
    "plt.plot(epoch_count,torch.tensor(test_loss_values).detach().numpy(),label=\"Test loss\")\n",
    "plt.title(\"Loss plot\")\n",
    "plt.xlabel(\"epoch\")\n",
    "plt.ylabel(\"loss\")\n",
    "plt.legend()\n",
    "plt.show()"
   ]
  },
  {
   "cell_type": "code",
   "execution_count": 185,
   "id": "5aefa7a6",
   "metadata": {},
   "outputs": [
    {
     "data": {
      "image/png": "[encoded data removed]",
      "text/plain": [
       "<Figure size 720x504 with 1 Axes>"
      ]
     },
     "metadata": {
      "needs_background": "light"
     },
     "output_type": "display_data"
    }
   ],
   "source": [
    "model.eval()\n",
    "with torch.inference_mode():\n",
    "    y_pred=model(X_test)\n",
    "plot(prediction=y_pred)"
   ]
  },
  {
   "cell_type": "code",
   "execution_count": 187,
   "id": "0988ff5d",
   "metadata": {},
   "outputs": [
    {
     "data": {
      "text/plain": [
       "WindowsPath('models/model.pth')"
      ]
     },
     "execution_count": 187,
     "metadata": {},
     "output_type": "execute_result"
    }
   ],
   "source": [
    "from pathlib import Path\n",
    "model_path=Path(\"models\")\n",
    "model_path.mkdir(parents=True,exist_ok=True)\n",
    "model_name=\"model.pth\"\n",
    "model_path_save=model_path/model_name\n"
   ]
  },
  {
   "cell_type": "code",
   "execution_count": 189,
   "id": "ebf7f2ba",
   "metadata": {},
   "outputs": [],
   "source": [
    "torch.save(obj=model.state_dict(),f=\"model1.pth\")"
   ]
  },
  {
   "cell_type": "code",
   "execution_count": 190,
   "id": "38bce0bb",
   "metadata": {},
   "outputs": [
    {
     "data": {
      "text/plain": [
       "<All keys matched successfully>"
      ]
     },
     "execution_count": 190,
     "metadata": {},
     "output_type": "execute_result"
    }
   ],
   "source": [
    "model2=LinerReg()\n",
    "model.load_state_dict(torch.load(\"model1.pth\"))"
   ]
  },
  {
   "cell_type": "code",
   "execution_count": null,
   "id": "dcc38690",
   "metadata": {},
   "outputs": [],
   "source": []
  }
 ],
 "metadata": {
  "kernelspec": {
   "display_name": "Python 3 (ipykernel)",
   "language": "python",
   "name": "python3"
  },
  "language_info": {
   "codemirror_mode": {
    "name": "ipython",
    "version": 3
   },
   "file_extension": ".py",
   "mimetype": "text/x-python",
   "name": "python",
   "nbconvert_exporter": "python",
   "pygments_lexer": "ipython3",
   "version": "3.9.7"
  }
 },
 "nbformat": 4,
 "nbformat_minor": 5
}
