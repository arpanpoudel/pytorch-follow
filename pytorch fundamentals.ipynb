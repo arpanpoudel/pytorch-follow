{
 "cells": [
  {
   "cell_type": "code",
   "execution_count": 1,
   "id": "0df869c1",
   "metadata": {},
   "outputs": [],
   "source": [
    "import torch"
   ]
  },
  {
   "cell_type": "code",
   "execution_count": 2,
   "id": "9cc3c621",
   "metadata": {},
   "outputs": [],
   "source": [
    "#intro to tensor"
   ]
  },
  {
   "cell_type": "code",
   "execution_count": 3,
   "id": "38176836",
   "metadata": {},
   "outputs": [],
   "source": [
    "#create a tensor"
   ]
  },
  {
   "cell_type": "code",
   "execution_count": 4,
   "id": "1e2b7f2e",
   "metadata": {},
   "outputs": [
    {
     "data": {
      "text/plain": [
       "tensor(7)"
      ]
     },
     "execution_count": 4,
     "metadata": {},
     "output_type": "execute_result"
    }
   ],
   "source": [
    "#scalar\n",
    "scalar=torch.tensor(7)\n",
    "scalar"
   ]
  },
  {
   "cell_type": "code",
   "execution_count": 5,
   "id": "520fe07a",
   "metadata": {},
   "outputs": [
    {
     "data": {
      "text/plain": [
       "0"
      ]
     },
     "execution_count": 5,
     "metadata": {},
     "output_type": "execute_result"
    }
   ],
   "source": [
    "scalar.ndim"
   ]
  },
  {
   "cell_type": "code",
   "execution_count": 6,
   "id": "f34e7335",
   "metadata": {},
   "outputs": [
    {
     "data": {
      "text/plain": [
       "7"
      ]
     },
     "execution_count": 6,
     "metadata": {},
     "output_type": "execute_result"
    }
   ],
   "source": [
    "#get as python int\n",
    "scalar.item()"
   ]
  },
  {
   "cell_type": "code",
   "execution_count": 7,
   "id": "162c0eb7",
   "metadata": {},
   "outputs": [],
   "source": [
    "#vector\n",
    "vector=torch.tensor([7,7])"
   ]
  },
  {
   "cell_type": "code",
   "execution_count": 8,
   "id": "67f0e103",
   "metadata": {},
   "outputs": [
    {
     "data": {
      "text/plain": [
       "tensor([7, 7])"
      ]
     },
     "execution_count": 8,
     "metadata": {},
     "output_type": "execute_result"
    }
   ],
   "source": [
    "vector"
   ]
  },
  {
   "cell_type": "code",
   "execution_count": 9,
   "id": "3cce75a4",
   "metadata": {},
   "outputs": [
    {
     "data": {
      "text/plain": [
       "1"
      ]
     },
     "execution_count": 9,
     "metadata": {},
     "output_type": "execute_result"
    }
   ],
   "source": [
    "vector.ndim"
   ]
  },
  {
   "cell_type": "code",
   "execution_count": 10,
   "id": "ce884e71",
   "metadata": {},
   "outputs": [
    {
     "data": {
      "text/plain": [
       "torch.Size([2])"
      ]
     },
     "execution_count": 10,
     "metadata": {},
     "output_type": "execute_result"
    }
   ],
   "source": [
    "vector.shape"
   ]
  },
  {
   "cell_type": "code",
   "execution_count": 11,
   "id": "11b2add2",
   "metadata": {},
   "outputs": [],
   "source": [
    "#matrix"
   ]
  },
  {
   "cell_type": "code",
   "execution_count": 12,
   "id": "e14aa8ab",
   "metadata": {},
   "outputs": [],
   "source": [
    "matrix=torch.tensor([[7,8],[4,3]])"
   ]
  },
  {
   "cell_type": "code",
   "execution_count": 13,
   "id": "0ad1507c",
   "metadata": {},
   "outputs": [
    {
     "data": {
      "text/plain": [
       "tensor([[7, 8],\n",
       "        [4, 3]])"
      ]
     },
     "execution_count": 13,
     "metadata": {},
     "output_type": "execute_result"
    }
   ],
   "source": [
    "matrix"
   ]
  },
  {
   "cell_type": "code",
   "execution_count": 14,
   "id": "05a7601e",
   "metadata": {},
   "outputs": [
    {
     "data": {
      "text/plain": [
       "2"
      ]
     },
     "execution_count": 14,
     "metadata": {},
     "output_type": "execute_result"
    }
   ],
   "source": [
    "matrix.ndim"
   ]
  },
  {
   "cell_type": "code",
   "execution_count": 15,
   "id": "c5067a83",
   "metadata": {},
   "outputs": [
    {
     "data": {
      "text/plain": [
       "tensor([7, 8])"
      ]
     },
     "execution_count": 15,
     "metadata": {},
     "output_type": "execute_result"
    }
   ],
   "source": [
    "matrix[0]"
   ]
  },
  {
   "cell_type": "code",
   "execution_count": 16,
   "id": "360be728",
   "metadata": {},
   "outputs": [
    {
     "data": {
      "text/plain": [
       "torch.Size([2, 2])"
      ]
     },
     "execution_count": 16,
     "metadata": {},
     "output_type": "execute_result"
    }
   ],
   "source": [
    "matrix.shape"
   ]
  },
  {
   "cell_type": "code",
   "execution_count": 17,
   "id": "0fd058d2",
   "metadata": {},
   "outputs": [],
   "source": [
    "#tensor\n",
    "tensor=torch.tensor([[[1,2,3],\n",
    "                     [3,6,9],\n",
    "                     [2,4,5],\n",
    "                     [4,5,6]],\n",
    "                    [[1,221,23],\n",
    "                     [32,2322,44],\n",
    "                     [23,23,222],\n",
    "                     [2,3,22]]])"
   ]
  },
  {
   "cell_type": "code",
   "execution_count": 18,
   "id": "12186b44",
   "metadata": {},
   "outputs": [
    {
     "data": {
      "text/plain": [
       "tensor([[[   1,    2,    3],\n",
       "         [   3,    6,    9],\n",
       "         [   2,    4,    5],\n",
       "         [   4,    5,    6]],\n",
       "\n",
       "        [[   1,  221,   23],\n",
       "         [  32, 2322,   44],\n",
       "         [  23,   23,  222],\n",
       "         [   2,    3,   22]]])"
      ]
     },
     "execution_count": 18,
     "metadata": {},
     "output_type": "execute_result"
    }
   ],
   "source": [
    "tensor"
   ]
  },
  {
   "cell_type": "code",
   "execution_count": 19,
   "id": "a1e1f648",
   "metadata": {},
   "outputs": [
    {
     "data": {
      "text/plain": [
       "3"
      ]
     },
     "execution_count": 19,
     "metadata": {},
     "output_type": "execute_result"
    }
   ],
   "source": [
    "tensor.ndim"
   ]
  },
  {
   "cell_type": "code",
   "execution_count": 20,
   "id": "c8192751",
   "metadata": {},
   "outputs": [
    {
     "data": {
      "text/plain": [
       "torch.Size([2, 4, 3])"
      ]
     },
     "execution_count": 20,
     "metadata": {},
     "output_type": "execute_result"
    }
   ],
   "source": [
    "tensor.shape"
   ]
  },
  {
   "cell_type": "code",
   "execution_count": 21,
   "id": "7f28bc11",
   "metadata": {},
   "outputs": [
    {
     "data": {
      "text/plain": [
       "tensor([[   1,  221,   23],\n",
       "        [  32, 2322,   44],\n",
       "        [  23,   23,  222],\n",
       "        [   2,    3,   22]])"
      ]
     },
     "execution_count": 21,
     "metadata": {},
     "output_type": "execute_result"
    }
   ],
   "source": [
    "tensor[1]"
   ]
  },
  {
   "cell_type": "code",
   "execution_count": 22,
   "id": "71b4f2b4",
   "metadata": {},
   "outputs": [],
   "source": [
    "#random tensor\n"
   ]
  },
  {
   "cell_type": "code",
   "execution_count": 23,
   "id": "c199745c",
   "metadata": {},
   "outputs": [],
   "source": [
    "random_tensor=torch.rand(2,2,3,4)"
   ]
  },
  {
   "cell_type": "code",
   "execution_count": 24,
   "id": "0045538d",
   "metadata": {},
   "outputs": [
    {
     "data": {
      "text/plain": [
       "tensor([[[[0.7460, 0.1380, 0.4306, 0.7364],\n",
       "          [0.7910, 0.4441, 0.7886, 0.7517],\n",
       "          [0.2867, 0.5210, 0.8567, 0.2525]],\n",
       "\n",
       "         [[0.7218, 0.0659, 0.2691, 0.2589],\n",
       "          [0.0263, 0.0877, 0.8960, 0.3650],\n",
       "          [0.6293, 0.2099, 0.5924, 0.1264]]],\n",
       "\n",
       "\n",
       "        [[[0.7363, 0.4275, 0.8864, 0.2374],\n",
       "          [0.0859, 0.0636, 0.2867, 0.5545],\n",
       "          [0.5147, 0.0348, 0.3591, 0.8066]],\n",
       "\n",
       "         [[0.3730, 0.7728, 0.0252, 0.3860],\n",
       "          [0.9130, 0.1087, 0.2291, 0.2671],\n",
       "          [0.0076, 0.0551, 0.7483, 0.7672]]]])"
      ]
     },
     "execution_count": 24,
     "metadata": {},
     "output_type": "execute_result"
    }
   ],
   "source": [
    "random_tensor"
   ]
  },
  {
   "cell_type": "code",
   "execution_count": 25,
   "id": "eac04034",
   "metadata": {},
   "outputs": [],
   "source": [
    "random_image_size_tensor=torch.rand(size=(3,6,6))"
   ]
  },
  {
   "cell_type": "code",
   "execution_count": 26,
   "id": "efba5bf7",
   "metadata": {},
   "outputs": [
    {
     "data": {
      "text/plain": [
       "(torch.Size([3, 6, 6]), 3)"
      ]
     },
     "execution_count": 26,
     "metadata": {},
     "output_type": "execute_result"
    }
   ],
   "source": [
    "random_image_size_tensor.shape,random_image_size_tensor.ndim"
   ]
  },
  {
   "cell_type": "code",
   "execution_count": 27,
   "id": "bb85a4b0",
   "metadata": {},
   "outputs": [
    {
     "data": {
      "text/plain": [
       "tensor([[[0.5979, 0.8157, 0.4393, 0.4015, 0.6881, 0.3143],\n",
       "         [0.9156, 0.5655, 0.1718, 0.8961, 0.9079, 0.2587],\n",
       "         [0.9961, 0.6607, 0.3615, 0.3244, 0.7575, 0.4312],\n",
       "         [0.2514, 0.0245, 0.3941, 0.1436, 0.0698, 0.6570],\n",
       "         [0.5249, 0.3342, 0.9820, 0.0919, 0.3479, 0.5890],\n",
       "         [0.3280, 0.5975, 0.7618, 0.3004, 0.7640, 0.7977]],\n",
       "\n",
       "        [[0.6636, 0.8581, 0.4345, 0.6653, 0.5445, 0.5726],\n",
       "         [0.9387, 0.9084, 0.0240, 0.3970, 0.4653, 0.3271],\n",
       "         [0.9273, 0.6238, 0.4098, 0.3347, 0.1042, 0.7141],\n",
       "         [0.4801, 0.5270, 0.3568, 0.5773, 0.7714, 0.9978],\n",
       "         [0.3869, 0.7121, 0.5014, 0.7612, 0.5969, 0.0029],\n",
       "         [0.2810, 0.6287, 0.5946, 0.6491, 0.4883, 0.4451]],\n",
       "\n",
       "        [[0.1170, 0.5492, 0.6822, 0.1933, 0.6687, 0.6137],\n",
       "         [0.3616, 0.2080, 0.7957, 0.7269, 0.5472, 0.4559],\n",
       "         [0.8466, 0.3267, 0.6021, 0.7378, 0.3987, 0.3333],\n",
       "         [0.5989, 0.8523, 0.0783, 0.8674, 0.2068, 0.3307],\n",
       "         [0.8414, 0.0039, 0.3840, 0.3227, 0.0051, 0.1304],\n",
       "         [0.0452, 0.6792, 0.4199, 0.6853, 0.1661, 0.8536]]])"
      ]
     },
     "execution_count": 27,
     "metadata": {},
     "output_type": "execute_result"
    }
   ],
   "source": [
    "random_image_size_tensor"
   ]
  },
  {
   "cell_type": "code",
   "execution_count": 28,
   "id": "6d626596",
   "metadata": {},
   "outputs": [],
   "source": [
    "#zeros and ones"
   ]
  },
  {
   "cell_type": "code",
   "execution_count": 29,
   "id": "6bec30bd",
   "metadata": {},
   "outputs": [],
   "source": [
    "zeros=torch.zeros(size=(3,6,6))"
   ]
  },
  {
   "cell_type": "code",
   "execution_count": 30,
   "id": "b94d56c6",
   "metadata": {},
   "outputs": [
    {
     "data": {
      "text/plain": [
       "torch.Size([3, 6, 6])"
      ]
     },
     "execution_count": 30,
     "metadata": {},
     "output_type": "execute_result"
    }
   ],
   "source": [
    "zeros.shape"
   ]
  },
  {
   "cell_type": "code",
   "execution_count": 31,
   "id": "2968ead4",
   "metadata": {},
   "outputs": [
    {
     "data": {
      "text/plain": [
       "tensor([[[0., 0., 0., 0., 0., 0.],\n",
       "         [0., 0., 0., 0., 0., 0.],\n",
       "         [0., 0., 0., 0., 0., 0.],\n",
       "         [0., 0., 0., 0., 0., 0.],\n",
       "         [0., 0., 0., 0., 0., 0.],\n",
       "         [0., 0., 0., 0., 0., 0.]],\n",
       "\n",
       "        [[0., 0., 0., 0., 0., 0.],\n",
       "         [0., 0., 0., 0., 0., 0.],\n",
       "         [0., 0., 0., 0., 0., 0.],\n",
       "         [0., 0., 0., 0., 0., 0.],\n",
       "         [0., 0., 0., 0., 0., 0.],\n",
       "         [0., 0., 0., 0., 0., 0.]],\n",
       "\n",
       "        [[0., 0., 0., 0., 0., 0.],\n",
       "         [0., 0., 0., 0., 0., 0.],\n",
       "         [0., 0., 0., 0., 0., 0.],\n",
       "         [0., 0., 0., 0., 0., 0.],\n",
       "         [0., 0., 0., 0., 0., 0.],\n",
       "         [0., 0., 0., 0., 0., 0.]]])"
      ]
     },
     "execution_count": 31,
     "metadata": {},
     "output_type": "execute_result"
    }
   ],
   "source": [
    "zeros*random_image_size_tensor"
   ]
  },
  {
   "cell_type": "code",
   "execution_count": 32,
   "id": "a1b34f54",
   "metadata": {},
   "outputs": [
    {
     "data": {
      "text/plain": [
       "torch.float32"
      ]
     },
     "execution_count": 32,
     "metadata": {},
     "output_type": "execute_result"
    }
   ],
   "source": [
    "zeros.dtype"
   ]
  },
  {
   "cell_type": "code",
   "execution_count": 33,
   "id": "cde563e0",
   "metadata": {},
   "outputs": [],
   "source": [
    "#create a range of tensor"
   ]
  },
  {
   "cell_type": "code",
   "execution_count": 34,
   "id": "740a371c",
   "metadata": {},
   "outputs": [
    {
     "data": {
      "text/plain": [
       "tensor([0, 1, 2, 3, 4, 5, 6, 7, 8, 9])"
      ]
     },
     "execution_count": 34,
     "metadata": {},
     "output_type": "execute_result"
    }
   ],
   "source": [
    "torch.arange(0,10)"
   ]
  },
  {
   "cell_type": "code",
   "execution_count": 35,
   "id": "53953168",
   "metadata": {},
   "outputs": [],
   "source": [
    "one_to_hundred=torch.arange(start=1,end=100,step=10)"
   ]
  },
  {
   "cell_type": "code",
   "execution_count": 36,
   "id": "51d8c6de",
   "metadata": {},
   "outputs": [
    {
     "data": {
      "text/plain": [
       "tensor([ 1, 11, 21, 31, 41, 51, 61, 71, 81, 91])"
      ]
     },
     "execution_count": 36,
     "metadata": {},
     "output_type": "execute_result"
    }
   ],
   "source": [
    "one_to_hundred"
   ]
  },
  {
   "cell_type": "code",
   "execution_count": 37,
   "id": "991e15c3",
   "metadata": {},
   "outputs": [
    {
     "data": {
      "text/plain": [
       "torch.Size([10])"
      ]
     },
     "execution_count": 37,
     "metadata": {},
     "output_type": "execute_result"
    }
   ],
   "source": [
    "one_to_hundred.shape"
   ]
  },
  {
   "cell_type": "code",
   "execution_count": 38,
   "id": "050cbd9d",
   "metadata": {},
   "outputs": [],
   "source": [
    "ten_zeros=torch.zeros_like(one_to_hundred)"
   ]
  },
  {
   "cell_type": "code",
   "execution_count": 39,
   "id": "71fb1fe1",
   "metadata": {},
   "outputs": [
    {
     "data": {
      "text/plain": [
       "tensor([0, 0, 0, 0, 0, 0, 0, 0, 0, 0])"
      ]
     },
     "execution_count": 39,
     "metadata": {},
     "output_type": "execute_result"
    }
   ],
   "source": [
    "ten_zeros"
   ]
  },
  {
   "cell_type": "code",
   "execution_count": 40,
   "id": "a39bd86c",
   "metadata": {},
   "outputs": [],
   "source": [
    "#tensor datatype"
   ]
  },
  {
   "cell_type": "code",
   "execution_count": 41,
   "id": "132d6661",
   "metadata": {},
   "outputs": [],
   "source": [
    "float_32=torch.tensor([2.0,2.3,2.32],dtype=torch.float32,device=None,requires_grad=False)"
   ]
  },
  {
   "cell_type": "code",
   "execution_count": 42,
   "id": "248e0938",
   "metadata": {},
   "outputs": [
    {
     "data": {
      "text/plain": [
       "tensor([2.0000, 2.3000, 2.3200])"
      ]
     },
     "execution_count": 42,
     "metadata": {},
     "output_type": "execute_result"
    }
   ],
   "source": [
    "float_32"
   ]
  },
  {
   "cell_type": "code",
   "execution_count": 43,
   "id": "9a7bcbfb",
   "metadata": {},
   "outputs": [
    {
     "data": {
      "text/plain": [
       "torch.float32"
      ]
     },
     "execution_count": 43,
     "metadata": {},
     "output_type": "execute_result"
    }
   ],
   "source": [
    "float_32.dtype"
   ]
  },
  {
   "cell_type": "code",
   "execution_count": 44,
   "id": "1434a375",
   "metadata": {},
   "outputs": [],
   "source": [
    "float_16=float_32.type(torch.float16)"
   ]
  },
  {
   "cell_type": "code",
   "execution_count": 45,
   "id": "7932fd99",
   "metadata": {},
   "outputs": [
    {
     "data": {
      "text/plain": [
       "tensor([2.0000, 2.3008, 2.3203], dtype=torch.float16)"
      ]
     },
     "execution_count": 45,
     "metadata": {},
     "output_type": "execute_result"
    }
   ],
   "source": [
    "float_16"
   ]
  },
  {
   "cell_type": "code",
   "execution_count": 46,
   "id": "548368b3",
   "metadata": {},
   "outputs": [
    {
     "data": {
      "text/plain": [
       "tensor([4.0000, 5.2918, 5.3831])"
      ]
     },
     "execution_count": 46,
     "metadata": {},
     "output_type": "execute_result"
    }
   ],
   "source": [
    "float_16*float_32"
   ]
  },
  {
   "cell_type": "code",
   "execution_count": 47,
   "id": "4861cd52",
   "metadata": {},
   "outputs": [],
   "source": [
    "#getting info from tensor"
   ]
  },
  {
   "cell_type": "code",
   "execution_count": 48,
   "id": "f81e800f",
   "metadata": {},
   "outputs": [
    {
     "data": {
      "text/plain": [
       "torch.Size([3])"
      ]
     },
     "execution_count": 48,
     "metadata": {},
     "output_type": "execute_result"
    }
   ],
   "source": [
    "float_32.shape"
   ]
  },
  {
   "cell_type": "code",
   "execution_count": 49,
   "id": "07a8a649",
   "metadata": {},
   "outputs": [
    {
     "data": {
      "text/plain": [
       "torch.float32"
      ]
     },
     "execution_count": 49,
     "metadata": {},
     "output_type": "execute_result"
    }
   ],
   "source": [
    "float_32.dtype"
   ]
  },
  {
   "cell_type": "code",
   "execution_count": 50,
   "id": "02f999e4",
   "metadata": {},
   "outputs": [
    {
     "data": {
      "text/plain": [
       "device(type='cpu')"
      ]
     },
     "execution_count": 50,
     "metadata": {},
     "output_type": "execute_result"
    }
   ],
   "source": [
    "float_32.device"
   ]
  },
  {
   "cell_type": "code",
   "execution_count": 51,
   "id": "6e0d3dd1",
   "metadata": {},
   "outputs": [],
   "source": [
    "#manipulating tensor (tensor operations)"
   ]
  },
  {
   "cell_type": "markdown",
   "id": "127f6a42",
   "metadata": {},
   "source": [
    "- Addition\n",
    "- substaction\n",
    "- multiplicatiopn elementwise\n",
    "- division\n",
    "- matrix multiplication"
   ]
  },
  {
   "cell_type": "code",
   "execution_count": 52,
   "id": "99538fa6",
   "metadata": {},
   "outputs": [
    {
     "data": {
      "text/plain": [
       "tensor([11])"
      ]
     },
     "execution_count": 52,
     "metadata": {},
     "output_type": "execute_result"
    }
   ],
   "source": [
    "#create tensor\n",
    "tensor=torch.tensor([1])\n",
    "tensor+10"
   ]
  },
  {
   "cell_type": "code",
   "execution_count": 53,
   "id": "dfed25bc",
   "metadata": {},
   "outputs": [],
   "source": [
    "tensor2=torch.rand((2,1))"
   ]
  },
  {
   "cell_type": "code",
   "execution_count": 54,
   "id": "5dbc7a90",
   "metadata": {},
   "outputs": [
    {
     "data": {
      "text/plain": [
       "tensor([[0.5930],\n",
       "        [0.5550]])"
      ]
     },
     "execution_count": 54,
     "metadata": {},
     "output_type": "execute_result"
    }
   ],
   "source": [
    "tensor2"
   ]
  },
  {
   "cell_type": "code",
   "execution_count": 55,
   "id": "02925885",
   "metadata": {},
   "outputs": [
    {
     "data": {
      "text/plain": [
       "tensor([[10.5930],\n",
       "        [10.5550]])"
      ]
     },
     "execution_count": 55,
     "metadata": {},
     "output_type": "execute_result"
    }
   ],
   "source": [
    "tensor2+10"
   ]
  },
  {
   "cell_type": "code",
   "execution_count": 56,
   "id": "58fb2a19",
   "metadata": {},
   "outputs": [
    {
     "data": {
      "text/plain": [
       "tensor([1])"
      ]
     },
     "execution_count": 56,
     "metadata": {},
     "output_type": "execute_result"
    }
   ],
   "source": [
    "tensor"
   ]
  },
  {
   "cell_type": "code",
   "execution_count": 57,
   "id": "b1cc010a",
   "metadata": {},
   "outputs": [
    {
     "data": {
      "text/plain": [
       "tensor([[1.5930],\n",
       "        [1.5550]])"
      ]
     },
     "execution_count": 57,
     "metadata": {},
     "output_type": "execute_result"
    }
   ],
   "source": [
    "tensor+tensor2"
   ]
  },
  {
   "cell_type": "code",
   "execution_count": 58,
   "id": "a9f66c6e",
   "metadata": {},
   "outputs": [],
   "source": [
    "#matrix multipliaction"
   ]
  },
  {
   "cell_type": "code",
   "execution_count": 59,
   "id": "affe5c5a",
   "metadata": {},
   "outputs": [
    {
     "ename": "RuntimeError",
     "evalue": "mat1 and mat2 shapes cannot be multiplied (2x1 and 2x1)",
     "output_type": "error",
     "traceback": [
      "\u001b[1;31m---------------------------------------------------------------------------\u001b[0m",
      "\u001b[1;31mRuntimeError\u001b[0m                              Traceback (most recent call last)",
      "\u001b[1;32m~\\AppData\\Local\\Temp/ipykernel_1612/3627138920.py\u001b[0m in \u001b[0;36m<module>\u001b[1;34m\u001b[0m\n\u001b[1;32m----> 1\u001b[1;33m \u001b[0mtorch\u001b[0m\u001b[1;33m.\u001b[0m\u001b[0mmatmul\u001b[0m\u001b[1;33m(\u001b[0m\u001b[0mtensor2\u001b[0m\u001b[1;33m,\u001b[0m\u001b[0mtensor2\u001b[0m\u001b[1;33m)\u001b[0m\u001b[1;33m\u001b[0m\u001b[1;33m\u001b[0m\u001b[0m\n\u001b[0m",
      "\u001b[1;31mRuntimeError\u001b[0m: mat1 and mat2 shapes cannot be multiplied (2x1 and 2x1)"
     ]
    }
   ],
   "source": [
    "torch.matmul(tensor2,tensor2)"
   ]
  },
  {
   "cell_type": "code",
   "execution_count": 60,
   "id": "c329dadb",
   "metadata": {},
   "outputs": [],
   "source": [
    "#dimension must match"
   ]
  },
  {
   "cell_type": "code",
   "execution_count": 61,
   "id": "eae0d935",
   "metadata": {},
   "outputs": [],
   "source": [
    "#errors"
   ]
  },
  {
   "cell_type": "code",
   "execution_count": 62,
   "id": "e9c676f4",
   "metadata": {},
   "outputs": [],
   "source": [
    "tensor_A=torch.tensor([[1,2],\n",
    "                      [3,4],\n",
    "                      [1,6]])"
   ]
  },
  {
   "cell_type": "code",
   "execution_count": 63,
   "id": "e3030dbe",
   "metadata": {},
   "outputs": [],
   "source": [
    "tensor_B=torch.tensor([[7,10],\n",
    "                      [8,11],\n",
    "                      [9,12]])"
   ]
  },
  {
   "cell_type": "code",
   "execution_count": 64,
   "id": "57d86ac4",
   "metadata": {},
   "outputs": [
    {
     "data": {
      "text/plain": [
       "tensor([[ 7,  8,  9],\n",
       "        [10, 11, 12]])"
      ]
     },
     "execution_count": 64,
     "metadata": {},
     "output_type": "execute_result"
    }
   ],
   "source": [
    "#TRANSPOSE OF TENSOR\n",
    "tensor_B.T"
   ]
  },
  {
   "cell_type": "code",
   "execution_count": 65,
   "id": "5aa95eb6",
   "metadata": {},
   "outputs": [
    {
     "data": {
      "text/plain": [
       "tensor([[27, 30, 33],\n",
       "        [61, 68, 75],\n",
       "        [67, 74, 81]])"
      ]
     },
     "execution_count": 65,
     "metadata": {},
     "output_type": "execute_result"
    }
   ],
   "source": [
    "torch.mm(tensor_A,tensor_B.T)"
   ]
  },
  {
   "cell_type": "markdown",
   "id": "1e465b0b",
   "metadata": {},
   "source": [
    "### Random number within a range"
   ]
  },
  {
   "cell_type": "code",
   "execution_count": 39,
   "id": "aab976e5",
   "metadata": {},
   "outputs": [],
   "source": [
    "import logging\n",
    "\n",
    "def my_logger(function):\n",
    "    ''' logger module as a decorator'''\n",
    "    logging.basicConfig(filename=\n",
    "                       f\"{function.__name__}.log\",\n",
    "                       level=logging.INFO,\n",
    "                       format='%(asctime)s %(levelname)s %(message)s')\n",
    "    def wrapper(*args,**kwargs):\n",
    "        logging.info(f\"{function.__name__} ran with {args} and {kwargs}\")\n",
    "        result=function(*args,**kwargs)\n",
    "        return result\n",
    "    return wrapper\n",
    "\n",
    "@my_logger\n",
    "def random_gen(lower,upper,shape):\n",
    "    try:\n",
    "        tensor=(upper-lower)*torch.rand(shape)+lower\n",
    "        tensor=tensor.type(torch.int)\n",
    "    except Exception as e:\n",
    "        logging.warning(e)\n",
    "    else:\n",
    "        return tensor"
   ]
  },
  {
   "cell_type": "code",
   "execution_count": 40,
   "id": "2a671dd1",
   "metadata": {},
   "outputs": [],
   "source": [
    "random=random_gen(1,8,(3,6,6))"
   ]
  },
  {
   "cell_type": "code",
   "execution_count": 41,
   "id": "f6eb05f8",
   "metadata": {
    "scrolled": false
   },
   "outputs": [
    {
     "data": {
      "text/plain": [
       "tensor([[[4, 5, 1, 1, 2, 3],\n",
       "         [2, 7, 5, 7, 1, 4],\n",
       "         [7, 6, 2, 3, 1, 5],\n",
       "         [2, 1, 4, 5, 4, 4],\n",
       "         [3, 3, 7, 4, 2, 5],\n",
       "         [1, 1, 5, 1, 7, 3]],\n",
       "\n",
       "        [[2, 3, 4, 5, 7, 2],\n",
       "         [7, 6, 1, 5, 7, 7],\n",
       "         [3, 3, 3, 6, 5, 1],\n",
       "         [2, 7, 7, 4, 1, 7],\n",
       "         [5, 5, 3, 5, 1, 1],\n",
       "         [3, 5, 6, 1, 7, 1]],\n",
       "\n",
       "        [[5, 7, 2, 4, 6, 4],\n",
       "         [4, 7, 1, 4, 6, 7],\n",
       "         [6, 4, 2, 3, 6, 1],\n",
       "         [4, 5, 7, 1, 4, 4],\n",
       "         [4, 7, 7, 4, 3, 4],\n",
       "         [7, 6, 2, 4, 2, 4]]], dtype=torch.int32)"
      ]
     },
     "execution_count": 41,
     "metadata": {},
     "output_type": "execute_result"
    }
   ],
   "source": [
    "random"
   ]
  },
  {
   "cell_type": "markdown",
   "id": "08427b02",
   "metadata": {},
   "source": [
    "## finding the min max,mean,sum,etc() tensor aggregation"
   ]
  },
  {
   "cell_type": "code",
   "execution_count": 47,
   "id": "94383b65",
   "metadata": {},
   "outputs": [],
   "source": [
    "tensor=random_gen(1,10,shape=(5,5,3))"
   ]
  },
  {
   "cell_type": "code",
   "execution_count": 48,
   "id": "1e211fdf",
   "metadata": {},
   "outputs": [
    {
     "data": {
      "text/plain": [
       "tensor([[[1, 8, 7],\n",
       "         [5, 5, 2],\n",
       "         [5, 2, 5],\n",
       "         [1, 9, 7],\n",
       "         [9, 7, 6]],\n",
       "\n",
       "        [[8, 4, 7],\n",
       "         [6, 7, 2],\n",
       "         [4, 8, 9],\n",
       "         [2, 6, 3],\n",
       "         [4, 9, 3]],\n",
       "\n",
       "        [[9, 2, 5],\n",
       "         [2, 2, 8],\n",
       "         [3, 8, 1],\n",
       "         [5, 3, 1],\n",
       "         [8, 3, 6]],\n",
       "\n",
       "        [[9, 3, 3],\n",
       "         [4, 7, 6],\n",
       "         [6, 8, 8],\n",
       "         [2, 5, 8],\n",
       "         [8, 8, 2]],\n",
       "\n",
       "        [[1, 7, 2],\n",
       "         [4, 4, 4],\n",
       "         [7, 3, 3],\n",
       "         [1, 9, 8],\n",
       "         [5, 8, 8]]], dtype=torch.int32)"
      ]
     },
     "execution_count": 48,
     "metadata": {},
     "output_type": "execute_result"
    }
   ],
   "source": [
    "tensor"
   ]
  },
  {
   "cell_type": "code",
   "execution_count": 58,
   "id": "79d5b0aa",
   "metadata": {},
   "outputs": [
    {
     "data": {
      "text/plain": [
       "tensor([[21, 31, 27],\n",
       "        [24, 34, 24],\n",
       "        [27, 18, 21],\n",
       "        [29, 31, 27],\n",
       "        [18, 31, 25]])"
      ]
     },
     "execution_count": 58,
     "metadata": {},
     "output_type": "execute_result"
    }
   ],
   "source": [
    "tensor.sum(dim=1)"
   ]
  },
  {
   "cell_type": "code",
   "execution_count": 72,
   "id": "08a694bb",
   "metadata": {},
   "outputs": [
    {
     "data": {
      "text/plain": [
       "tensor(5.6667)"
      ]
     },
     "execution_count": 72,
     "metadata": {},
     "output_type": "execute_result"
    }
   ],
   "source": [
    "torch.mean(tensor.type(torch.float32))"
   ]
  },
  {
   "cell_type": "code",
   "execution_count": 73,
   "id": "f8d00c54",
   "metadata": {},
   "outputs": [
    {
     "data": {
      "text/plain": [
       "tensor([[ 9, 17, 16, 17, 19],\n",
       "        [15, 15, 17, 18, 21],\n",
       "        [21, 14, 18, 21, 17],\n",
       "        [22, 21, 18, 17,  7],\n",
       "        [19, 20, 12, 15, 19]])"
      ]
     },
     "execution_count": 73,
     "metadata": {},
     "output_type": "execute_result"
    }
   ],
   "source": [
    "tensor.sum(dim=0)"
   ]
  },
  {
   "cell_type": "markdown",
   "id": "d539e70b",
   "metadata": {},
   "source": [
    "#indexing"
   ]
  },
  {
   "cell_type": "code",
   "execution_count": 74,
   "id": "8a24ac47",
   "metadata": {
    "scrolled": true
   },
   "outputs": [
    {
     "data": {
      "text/plain": [
       "tensor([[1, 0, 2, 2, 2],\n",
       "        [0, 1, 0, 0, 2],\n",
       "        [2, 0, 0, 1, 2],\n",
       "        [2, 0, 0, 1, 0],\n",
       "        [0, 1, 0, 2, 1]])"
      ]
     },
     "execution_count": 74,
     "metadata": {},
     "output_type": "execute_result"
    }
   ],
   "source": [
    "tensor.argmin(dim=0)"
   ]
  },
  {
   "cell_type": "code",
   "execution_count": 75,
   "id": "f4bc1436",
   "metadata": {},
   "outputs": [
    {
     "data": {
      "text/plain": [
       "tensor([[[4, 4, 6, 6, 8],\n",
       "         [2, 6, 4, 5, 8],\n",
       "         [9, 1, 1, 9, 8],\n",
       "         [8, 6, 4, 7, 2],\n",
       "         [6, 7, 2, 6, 9]],\n",
       "\n",
       "        [[1, 4, 8, 8, 6],\n",
       "         [5, 4, 8, 6, 9],\n",
       "         [9, 9, 9, 3, 5],\n",
       "         [8, 7, 6, 1, 2],\n",
       "         [6, 5, 8, 5, 5]],\n",
       "\n",
       "        [[4, 9, 2, 3, 5],\n",
       "         [8, 5, 5, 7, 4],\n",
       "         [3, 4, 8, 9, 4],\n",
       "         [6, 8, 8, 9, 3],\n",
       "         [7, 8, 2, 4, 5]]], dtype=torch.int32)"
      ]
     },
     "execution_count": 75,
     "metadata": {},
     "output_type": "execute_result"
    }
   ],
   "source": [
    "tensor"
   ]
  },
  {
   "cell_type": "code",
   "execution_count": 76,
   "id": "5166cc2a",
   "metadata": {},
   "outputs": [
    {
     "data": {
      "text/plain": [
       "tensor([[0, 2, 1, 1, 0],\n",
       "        [2, 0, 1, 2, 1],\n",
       "        [0, 1, 1, 0, 0],\n",
       "        [0, 2, 2, 2, 2],\n",
       "        [2, 2, 1, 0, 0]])"
      ]
     },
     "execution_count": 76,
     "metadata": {},
     "output_type": "execute_result"
    }
   ],
   "source": [
    "tensor.argmax(dim=0)"
   ]
  },
  {
   "cell_type": "markdown",
   "id": "b706e324",
   "metadata": {},
   "source": [
    "## Reshaping, viewing, stacking, squeezing and unsqueezing"
   ]
  },
  {
   "cell_type": "code",
   "execution_count": 77,
   "id": "fb01322a",
   "metadata": {},
   "outputs": [],
   "source": [
    " x=random_gen(1,100,(3,4,4))"
   ]
  },
  {
   "cell_type": "code",
   "execution_count": 78,
   "id": "d10c31d2",
   "metadata": {},
   "outputs": [
    {
     "data": {
      "text/plain": [
       "(tensor([[[84, 86, 95,  5],\n",
       "          [80, 63, 36, 68],\n",
       "          [12, 72, 28,  4],\n",
       "          [87, 14, 45, 55]],\n",
       " \n",
       "         [[25, 80, 63, 45],\n",
       "          [17, 68, 74, 86],\n",
       "          [33, 84, 18, 78],\n",
       "          [ 8, 43, 13, 10]],\n",
       " \n",
       "         [[30, 97, 50, 41],\n",
       "          [77, 22,  8,  3],\n",
       "          [19, 40, 56, 98],\n",
       "          [44, 30, 33, 80]]], dtype=torch.int32),\n",
       " torch.Size([3, 4, 4]))"
      ]
     },
     "execution_count": 78,
     "metadata": {},
     "output_type": "execute_result"
    }
   ],
   "source": [
    "x,x.shape"
   ]
  },
  {
   "cell_type": "code",
   "execution_count": 79,
   "id": "15f61e18",
   "metadata": {},
   "outputs": [],
   "source": [
    "#reshape\n",
    "x_re=x.reshape(2,2,3,4)"
   ]
  },
  {
   "cell_type": "code",
   "execution_count": 80,
   "id": "afd87184",
   "metadata": {},
   "outputs": [
    {
     "data": {
      "text/plain": [
       "tensor([[[[84, 86, 95,  5],\n",
       "          [80, 63, 36, 68],\n",
       "          [12, 72, 28,  4]],\n",
       "\n",
       "         [[87, 14, 45, 55],\n",
       "          [25, 80, 63, 45],\n",
       "          [17, 68, 74, 86]]],\n",
       "\n",
       "\n",
       "        [[[33, 84, 18, 78],\n",
       "          [ 8, 43, 13, 10],\n",
       "          [30, 97, 50, 41]],\n",
       "\n",
       "         [[77, 22,  8,  3],\n",
       "          [19, 40, 56, 98],\n",
       "          [44, 30, 33, 80]]]], dtype=torch.int32)"
      ]
     },
     "execution_count": 80,
     "metadata": {},
     "output_type": "execute_result"
    }
   ],
   "source": [
    "x_re"
   ]
  },
  {
   "cell_type": "code",
   "execution_count": 81,
   "id": "3b8de8ff",
   "metadata": {},
   "outputs": [],
   "source": [
    "#change the view"
   ]
  },
  {
   "cell_type": "code",
   "execution_count": 82,
   "id": "5ae8ab95",
   "metadata": {},
   "outputs": [],
   "source": [
    "z=x.view(2,24)"
   ]
  },
  {
   "cell_type": "code",
   "execution_count": 83,
   "id": "3e62283d",
   "metadata": {},
   "outputs": [
    {
     "data": {
      "text/plain": [
       "tensor([[84, 86, 95,  5, 80, 63, 36, 68, 12, 72, 28,  4, 87, 14, 45, 55, 25, 80,\n",
       "         63, 45, 17, 68, 74, 86],\n",
       "        [33, 84, 18, 78,  8, 43, 13, 10, 30, 97, 50, 41, 77, 22,  8,  3, 19, 40,\n",
       "         56, 98, 44, 30, 33, 80]], dtype=torch.int32)"
      ]
     },
     "execution_count": 83,
     "metadata": {},
     "output_type": "execute_result"
    }
   ],
   "source": [
    "z"
   ]
  },
  {
   "cell_type": "code",
   "execution_count": 84,
   "id": "518c12be",
   "metadata": {},
   "outputs": [],
   "source": [
    "z[0][2]=2"
   ]
  },
  {
   "cell_type": "code",
   "execution_count": 85,
   "id": "a9c72c14",
   "metadata": {},
   "outputs": [
    {
     "data": {
      "text/plain": [
       "tensor([[84, 86,  2,  5, 80, 63, 36, 68, 12, 72, 28,  4, 87, 14, 45, 55, 25, 80,\n",
       "         63, 45, 17, 68, 74, 86],\n",
       "        [33, 84, 18, 78,  8, 43, 13, 10, 30, 97, 50, 41, 77, 22,  8,  3, 19, 40,\n",
       "         56, 98, 44, 30, 33, 80]], dtype=torch.int32)"
      ]
     },
     "execution_count": 85,
     "metadata": {},
     "output_type": "execute_result"
    }
   ],
   "source": [
    "z"
   ]
  },
  {
   "cell_type": "code",
   "execution_count": 86,
   "id": "a8836a0d",
   "metadata": {},
   "outputs": [
    {
     "data": {
      "text/plain": [
       "tensor([[[84, 86,  2,  5],\n",
       "         [80, 63, 36, 68],\n",
       "         [12, 72, 28,  4],\n",
       "         [87, 14, 45, 55]],\n",
       "\n",
       "        [[25, 80, 63, 45],\n",
       "         [17, 68, 74, 86],\n",
       "         [33, 84, 18, 78],\n",
       "         [ 8, 43, 13, 10]],\n",
       "\n",
       "        [[30, 97, 50, 41],\n",
       "         [77, 22,  8,  3],\n",
       "         [19, 40, 56, 98],\n",
       "         [44, 30, 33, 80]]], dtype=torch.int32)"
      ]
     },
     "execution_count": 86,
     "metadata": {},
     "output_type": "execute_result"
    }
   ],
   "source": [
    "x"
   ]
  },
  {
   "cell_type": "code",
   "execution_count": 87,
   "id": "2de3d992",
   "metadata": {},
   "outputs": [],
   "source": [
    "#stack tensor "
   ]
  },
  {
   "cell_type": "code",
   "execution_count": 88,
   "id": "d8ed34ae",
   "metadata": {},
   "outputs": [],
   "source": [
    "x=random_gen(1,15,shape=(4,4))"
   ]
  },
  {
   "cell_type": "code",
   "execution_count": 89,
   "id": "f1183308",
   "metadata": {},
   "outputs": [
    {
     "data": {
      "text/plain": [
       "tensor([[ 5,  7,  6,  4],\n",
       "        [12, 11,  5,  5],\n",
       "        [ 4,  5,  6,  1],\n",
       "        [11,  3,  2, 10]], dtype=torch.int32)"
      ]
     },
     "execution_count": 89,
     "metadata": {},
     "output_type": "execute_result"
    }
   ],
   "source": [
    "x"
   ]
  },
  {
   "cell_type": "code",
   "execution_count": 90,
   "id": "7dca897b",
   "metadata": {},
   "outputs": [],
   "source": [
    "y=random_gen(1,15,shape=(4,4))"
   ]
  },
  {
   "cell_type": "code",
   "execution_count": 91,
   "id": "f0b4f4f9",
   "metadata": {},
   "outputs": [
    {
     "data": {
      "text/plain": [
       "tensor([[ 3,  2,  9,  5],\n",
       "        [13,  8,  7,  7],\n",
       "        [ 5, 13, 10,  4],\n",
       "        [ 8, 11,  4,  9]], dtype=torch.int32)"
      ]
     },
     "execution_count": 91,
     "metadata": {},
     "output_type": "execute_result"
    }
   ],
   "source": [
    "y"
   ]
  },
  {
   "cell_type": "code",
   "execution_count": 92,
   "id": "f107c57f",
   "metadata": {},
   "outputs": [
    {
     "data": {
      "text/plain": [
       "tensor([[[ 5,  7,  6,  4],\n",
       "         [ 3,  2,  9,  5]],\n",
       "\n",
       "        [[12, 11,  5,  5],\n",
       "         [13,  8,  7,  7]],\n",
       "\n",
       "        [[ 4,  5,  6,  1],\n",
       "         [ 5, 13, 10,  4]],\n",
       "\n",
       "        [[11,  3,  2, 10],\n",
       "         [ 8, 11,  4,  9]]], dtype=torch.int32)"
      ]
     },
     "execution_count": 92,
     "metadata": {},
     "output_type": "execute_result"
    }
   ],
   "source": [
    "torch.stack((x,y),dim=1)"
   ]
  },
  {
   "cell_type": "code",
   "execution_count": 93,
   "id": "886f7dde",
   "metadata": {},
   "outputs": [
    {
     "data": {
      "text/plain": [
       "tensor(5, dtype=torch.int32)"
      ]
     },
     "execution_count": 93,
     "metadata": {},
     "output_type": "execute_result"
    }
   ],
   "source": [
    "torch.stack((x,y),dim=1)[1][0][2]"
   ]
  },
  {
   "cell_type": "markdown",
   "id": "118cb082",
   "metadata": {},
   "source": [
    "## sqeuzee\n"
   ]
  },
  {
   "cell_type": "code",
   "execution_count": 94,
   "id": "59ff01fa",
   "metadata": {},
   "outputs": [],
   "source": [
    "x=random_gen(1,44,(2,))"
   ]
  },
  {
   "cell_type": "code",
   "execution_count": 95,
   "id": "a66ed10b",
   "metadata": {},
   "outputs": [
    {
     "data": {
      "text/plain": [
       "(tensor([ 8, 12], dtype=torch.int32), torch.Size([2]))"
      ]
     },
     "execution_count": 95,
     "metadata": {},
     "output_type": "execute_result"
    }
   ],
   "source": [
    "x,x.shape"
   ]
  },
  {
   "cell_type": "code",
   "execution_count": 96,
   "id": "605dd028",
   "metadata": {},
   "outputs": [
    {
     "data": {
      "text/plain": [
       "(tensor([[ 8, 12]], dtype=torch.int32), torch.Size([1, 2]))"
      ]
     },
     "execution_count": 96,
     "metadata": {},
     "output_type": "execute_result"
    }
   ],
   "source": [
    "x.unsqueeze(dim=0),x.unsqueeze(dim=0).shape"
   ]
  },
  {
   "cell_type": "code",
   "execution_count": 97,
   "id": "cbdaa92c",
   "metadata": {},
   "outputs": [
    {
     "data": {
      "text/plain": [
       "tensor([ 8, 12], dtype=torch.int32)"
      ]
     },
     "execution_count": 97,
     "metadata": {},
     "output_type": "execute_result"
    }
   ],
   "source": [
    "x.squeeze(dim=0) \n",
    "#no reduction because x doesn't have the 1 dimension "
   ]
  },
  {
   "cell_type": "code",
   "execution_count": 98,
   "id": "7c242874",
   "metadata": {},
   "outputs": [],
   "source": [
    "#2D\n",
    "x=random_gen(1,44,(2,2))"
   ]
  },
  {
   "cell_type": "code",
   "execution_count": 99,
   "id": "0cbd645d",
   "metadata": {},
   "outputs": [
    {
     "data": {
      "text/plain": [
       "(tensor([[ 2, 12],\n",
       "         [26, 22]], dtype=torch.int32),\n",
       " torch.Size([2, 2]))"
      ]
     },
     "execution_count": 99,
     "metadata": {},
     "output_type": "execute_result"
    }
   ],
   "source": [
    "x,x.shape"
   ]
  },
  {
   "cell_type": "code",
   "execution_count": 100,
   "id": "62af0645",
   "metadata": {},
   "outputs": [
    {
     "data": {
      "text/plain": [
       "(tensor([[[ 2, 12],\n",
       "          [26, 22]]], dtype=torch.int32),\n",
       " torch.Size([1, 2, 2]))"
      ]
     },
     "execution_count": 100,
     "metadata": {},
     "output_type": "execute_result"
    }
   ],
   "source": [
    "x.unsqueeze(dim=0),x.unsqueeze(dim=0).shape"
   ]
  },
  {
   "cell_type": "code",
   "execution_count": 101,
   "id": "b803f807",
   "metadata": {},
   "outputs": [
    {
     "data": {
      "text/plain": [
       "(tensor([[[ 2, 12]],\n",
       " \n",
       "         [[26, 22]]], dtype=torch.int32),\n",
       " torch.Size([2, 1, 2]))"
      ]
     },
     "execution_count": 101,
     "metadata": {},
     "output_type": "execute_result"
    }
   ],
   "source": [
    "x.unsqueeze(dim=1),x.unsqueeze(dim=1).shape"
   ]
  },
  {
   "cell_type": "code",
   "execution_count": 102,
   "id": "a0cf8d5f",
   "metadata": {},
   "outputs": [
    {
     "data": {
      "text/plain": [
       "(tensor([[[ 2],\n",
       "          [12]],\n",
       " \n",
       "         [[26],\n",
       "          [22]]], dtype=torch.int32),\n",
       " torch.Size([2, 2, 1]))"
      ]
     },
     "execution_count": 102,
     "metadata": {},
     "output_type": "execute_result"
    }
   ],
   "source": [
    "x.unsqueeze(dim=2),x.unsqueeze(dim=2).shape"
   ]
  },
  {
   "cell_type": "code",
   "execution_count": 103,
   "id": "9689f973",
   "metadata": {},
   "outputs": [
    {
     "data": {
      "text/plain": [
       "tensor([[[[[ 1.2257,  0.6307,  0.4909,  1.1297]],\n",
       "\n",
       "          [[-0.9871,  0.7669,  0.2389, -1.0696]]]],\n",
       "\n",
       "\n",
       "\n",
       "        [[[[ 1.8798, -1.5875, -2.4449, -0.5858]],\n",
       "\n",
       "          [[ 0.9322,  1.1685, -0.5414, -1.3715]]]],\n",
       "\n",
       "\n",
       "\n",
       "        [[[[-0.0126,  0.3186, -0.9851, -1.2151]],\n",
       "\n",
       "          [[-1.3402,  2.6585, -1.3173, -2.1521]]]]])"
      ]
     },
     "execution_count": 103,
     "metadata": {},
     "output_type": "execute_result"
    }
   ],
   "source": [
    "input = torch.randn(3,1,2,1,4)\n",
    "input"
   ]
  },
  {
   "cell_type": "code",
   "execution_count": 109,
   "id": "8ebdf7cd",
   "metadata": {},
   "outputs": [],
   "source": [
    "output = torch.squeeze(input,dim=1)"
   ]
  },
  {
   "cell_type": "code",
   "execution_count": 110,
   "id": "322586d6",
   "metadata": {},
   "outputs": [
    {
     "data": {
      "text/plain": [
       "(tensor([[[[ 1.2257,  0.6307,  0.4909,  1.1297]],\n",
       " \n",
       "          [[-0.9871,  0.7669,  0.2389, -1.0696]]],\n",
       " \n",
       " \n",
       "         [[[ 1.8798, -1.5875, -2.4449, -0.5858]],\n",
       " \n",
       "          [[ 0.9322,  1.1685, -0.5414, -1.3715]]],\n",
       " \n",
       " \n",
       "         [[[-0.0126,  0.3186, -0.9851, -1.2151]],\n",
       " \n",
       "          [[-1.3402,  2.6585, -1.3173, -2.1521]]]]),\n",
       " torch.Size([3, 2, 1, 4]))"
      ]
     },
     "execution_count": 110,
     "metadata": {},
     "output_type": "execute_result"
    }
   ],
   "source": [
    "output,output.shape"
   ]
  },
  {
   "cell_type": "code",
   "execution_count": 111,
   "id": "298fe430",
   "metadata": {},
   "outputs": [],
   "source": [
    "x=torch.tensor([[1,2],[3,4]])"
   ]
  },
  {
   "cell_type": "code",
   "execution_count": 112,
   "id": "56090735",
   "metadata": {},
   "outputs": [
    {
     "data": {
      "text/plain": [
       "tensor([[1, 2],\n",
       "        [3, 4]])"
      ]
     },
     "execution_count": 112,
     "metadata": {},
     "output_type": "execute_result"
    }
   ],
   "source": [
    "x"
   ]
  },
  {
   "cell_type": "code",
   "execution_count": 113,
   "id": "23f72505",
   "metadata": {},
   "outputs": [
    {
     "data": {
      "text/plain": [
       "tensor([[1, 2],\n",
       "        [3, 4]])"
      ]
     },
     "execution_count": 113,
     "metadata": {},
     "output_type": "execute_result"
    }
   ],
   "source": [
    "x.squeeze()"
   ]
  },
  {
   "cell_type": "code",
   "execution_count": 114,
   "id": "a48b6bcb",
   "metadata": {},
   "outputs": [],
   "source": [
    "a=x.unsqueeze(dim=0)"
   ]
  },
  {
   "cell_type": "code",
   "execution_count": 115,
   "id": "dc3389fe",
   "metadata": {},
   "outputs": [
    {
     "data": {
      "text/plain": [
       "tensor([1, 2])"
      ]
     },
     "execution_count": 115,
     "metadata": {},
     "output_type": "execute_result"
    }
   ],
   "source": [
    "a[0][0]"
   ]
  },
  {
   "cell_type": "code",
   "execution_count": 116,
   "id": "c3dd34eb",
   "metadata": {},
   "outputs": [
    {
     "data": {
      "text/plain": [
       "torch.Size([1, 2, 2])"
      ]
     },
     "execution_count": 116,
     "metadata": {},
     "output_type": "execute_result"
    }
   ],
   "source": [
    "a.shape"
   ]
  },
  {
   "cell_type": "code",
   "execution_count": 117,
   "id": "f1e97b9a",
   "metadata": {},
   "outputs": [],
   "source": [
    "b=x.unsqueeze(dim=1)"
   ]
  },
  {
   "cell_type": "code",
   "execution_count": 118,
   "id": "675bdd6f",
   "metadata": {},
   "outputs": [
    {
     "data": {
      "text/plain": [
       "tensor([[[1, 2]],\n",
       "\n",
       "        [[3, 4]]])"
      ]
     },
     "execution_count": 118,
     "metadata": {},
     "output_type": "execute_result"
    }
   ],
   "source": [
    "b"
   ]
  },
  {
   "cell_type": "code",
   "execution_count": 119,
   "id": "9ea63974",
   "metadata": {},
   "outputs": [
    {
     "data": {
      "text/plain": [
       "torch.Size([2, 1, 2])"
      ]
     },
     "execution_count": 119,
     "metadata": {},
     "output_type": "execute_result"
    }
   ],
   "source": [
    "b.shape"
   ]
  },
  {
   "cell_type": "code",
   "execution_count": 120,
   "id": "569305fc",
   "metadata": {},
   "outputs": [],
   "source": [
    "c=x.unsqueeze(dim=2)"
   ]
  },
  {
   "cell_type": "code",
   "execution_count": 121,
   "id": "56fd54e6",
   "metadata": {},
   "outputs": [
    {
     "data": {
      "text/plain": [
       "torch.Size([2, 2, 1])"
      ]
     },
     "execution_count": 121,
     "metadata": {},
     "output_type": "execute_result"
    }
   ],
   "source": [
    "c.shape"
   ]
  },
  {
   "cell_type": "code",
   "execution_count": 122,
   "id": "a2a250bc",
   "metadata": {},
   "outputs": [
    {
     "data": {
      "text/plain": [
       "torch.Size([2, 2])"
      ]
     },
     "execution_count": 122,
     "metadata": {},
     "output_type": "execute_result"
    }
   ],
   "source": [
    "x.shape"
   ]
  },
  {
   "cell_type": "code",
   "execution_count": 123,
   "id": "dfee7fb0",
   "metadata": {},
   "outputs": [
    {
     "data": {
      "text/plain": [
       "tensor([[[1],\n",
       "         [2]],\n",
       "\n",
       "        [[3],\n",
       "         [4]]])"
      ]
     },
     "execution_count": 123,
     "metadata": {},
     "output_type": "execute_result"
    }
   ],
   "source": [
    "c"
   ]
  },
  {
   "cell_type": "code",
   "execution_count": 124,
   "id": "b6fe55b9",
   "metadata": {},
   "outputs": [
    {
     "data": {
      "text/plain": [
       "tensor(2)"
      ]
     },
     "execution_count": 124,
     "metadata": {},
     "output_type": "execute_result"
    }
   ],
   "source": [
    "c[0][1][0]"
   ]
  },
  {
   "cell_type": "code",
   "execution_count": 125,
   "id": "3eb452c8",
   "metadata": {},
   "outputs": [
    {
     "data": {
      "text/plain": [
       "tensor(3)"
      ]
     },
     "execution_count": 125,
     "metadata": {},
     "output_type": "execute_result"
    }
   ],
   "source": [
    "a[0][1][0]"
   ]
  },
  {
   "cell_type": "markdown",
   "id": "0d208391",
   "metadata": {},
   "source": [
    "### one look for the 3D array"
   ]
  },
  {
   "cell_type": "code",
   "execution_count": 126,
   "id": "652e7f76",
   "metadata": {},
   "outputs": [],
   "source": [
    "D=random_gen(1,10,shape=(3,6,6))"
   ]
  },
  {
   "cell_type": "code",
   "execution_count": 127,
   "id": "1874e64e",
   "metadata": {},
   "outputs": [
    {
     "data": {
      "text/plain": [
       "tensor([[[9, 1, 1, 3, 4, 2],\n",
       "         [1, 1, 8, 6, 5, 1],\n",
       "         [6, 3, 8, 6, 4, 7],\n",
       "         [3, 8, 7, 2, 9, 4],\n",
       "         [8, 8, 4, 8, 7, 6],\n",
       "         [8, 7, 4, 1, 9, 1]],\n",
       "\n",
       "        [[2, 9, 2, 8, 6, 4],\n",
       "         [2, 6, 4, 1, 2, 9],\n",
       "         [1, 8, 6, 5, 7, 9],\n",
       "         [8, 1, 2, 8, 2, 5],\n",
       "         [1, 8, 4, 6, 2, 1],\n",
       "         [6, 2, 9, 1, 7, 3]],\n",
       "\n",
       "        [[3, 4, 3, 3, 3, 2],\n",
       "         [4, 8, 1, 9, 7, 3],\n",
       "         [5, 7, 1, 3, 1, 2],\n",
       "         [7, 4, 9, 1, 7, 7],\n",
       "         [9, 3, 1, 9, 7, 2],\n",
       "         [8, 4, 3, 6, 1, 6]]], dtype=torch.int32)"
      ]
     },
     "execution_count": 127,
     "metadata": {},
     "output_type": "execute_result"
    }
   ],
   "source": [
    "D"
   ]
  },
  {
   "cell_type": "code",
   "execution_count": 128,
   "id": "32e952b0",
   "metadata": {},
   "outputs": [],
   "source": [
    "# squeeze dim=0 #nochange"
   ]
  },
  {
   "cell_type": "code",
   "execution_count": 129,
   "id": "436edacd",
   "metadata": {},
   "outputs": [
    {
     "data": {
      "text/plain": [
       "(tensor([[[9, 1, 1, 3, 4, 2],\n",
       "          [1, 1, 8, 6, 5, 1],\n",
       "          [6, 3, 8, 6, 4, 7],\n",
       "          [3, 8, 7, 2, 9, 4],\n",
       "          [8, 8, 4, 8, 7, 6],\n",
       "          [8, 7, 4, 1, 9, 1]],\n",
       " \n",
       "         [[2, 9, 2, 8, 6, 4],\n",
       "          [2, 6, 4, 1, 2, 9],\n",
       "          [1, 8, 6, 5, 7, 9],\n",
       "          [8, 1, 2, 8, 2, 5],\n",
       "          [1, 8, 4, 6, 2, 1],\n",
       "          [6, 2, 9, 1, 7, 3]],\n",
       " \n",
       "         [[3, 4, 3, 3, 3, 2],\n",
       "          [4, 8, 1, 9, 7, 3],\n",
       "          [5, 7, 1, 3, 1, 2],\n",
       "          [7, 4, 9, 1, 7, 7],\n",
       "          [9, 3, 1, 9, 7, 2],\n",
       "          [8, 4, 3, 6, 1, 6]]], dtype=torch.int32),\n",
       " torch.Size([3, 6, 6]))"
      ]
     },
     "execution_count": 129,
     "metadata": {},
     "output_type": "execute_result"
    }
   ],
   "source": [
    "D.squeeze(dim=2),D.squeeze(dim=2).shape"
   ]
  },
  {
   "cell_type": "code",
   "execution_count": 130,
   "id": "b7f1c37f",
   "metadata": {},
   "outputs": [],
   "source": [
    "#unsqueeze dim=0"
   ]
  },
  {
   "cell_type": "code",
   "execution_count": 131,
   "id": "5b85b733",
   "metadata": {},
   "outputs": [
    {
     "data": {
      "text/plain": [
       "(tensor([[[[9, 1, 1, 3, 4, 2],\n",
       "           [1, 1, 8, 6, 5, 1],\n",
       "           [6, 3, 8, 6, 4, 7],\n",
       "           [3, 8, 7, 2, 9, 4],\n",
       "           [8, 8, 4, 8, 7, 6],\n",
       "           [8, 7, 4, 1, 9, 1]],\n",
       " \n",
       "          [[2, 9, 2, 8, 6, 4],\n",
       "           [2, 6, 4, 1, 2, 9],\n",
       "           [1, 8, 6, 5, 7, 9],\n",
       "           [8, 1, 2, 8, 2, 5],\n",
       "           [1, 8, 4, 6, 2, 1],\n",
       "           [6, 2, 9, 1, 7, 3]],\n",
       " \n",
       "          [[3, 4, 3, 3, 3, 2],\n",
       "           [4, 8, 1, 9, 7, 3],\n",
       "           [5, 7, 1, 3, 1, 2],\n",
       "           [7, 4, 9, 1, 7, 7],\n",
       "           [9, 3, 1, 9, 7, 2],\n",
       "           [8, 4, 3, 6, 1, 6]]]], dtype=torch.int32),\n",
       " torch.Size([1, 3, 6, 6]))"
      ]
     },
     "execution_count": 131,
     "metadata": {},
     "output_type": "execute_result"
    }
   ],
   "source": [
    "a=D.unsqueeze(dim=0)\n",
    "a,D.unsqueeze(dim=0).shape"
   ]
  },
  {
   "cell_type": "code",
   "execution_count": 132,
   "id": "bfe4dda5",
   "metadata": {},
   "outputs": [
    {
     "data": {
      "text/plain": [
       "(tensor([[[[9, 1, 1, 3, 4, 2],\n",
       "           [1, 1, 8, 6, 5, 1],\n",
       "           [6, 3, 8, 6, 4, 7],\n",
       "           [3, 8, 7, 2, 9, 4],\n",
       "           [8, 8, 4, 8, 7, 6],\n",
       "           [8, 7, 4, 1, 9, 1]]],\n",
       " \n",
       " \n",
       "         [[[2, 9, 2, 8, 6, 4],\n",
       "           [2, 6, 4, 1, 2, 9],\n",
       "           [1, 8, 6, 5, 7, 9],\n",
       "           [8, 1, 2, 8, 2, 5],\n",
       "           [1, 8, 4, 6, 2, 1],\n",
       "           [6, 2, 9, 1, 7, 3]]],\n",
       " \n",
       " \n",
       "         [[[3, 4, 3, 3, 3, 2],\n",
       "           [4, 8, 1, 9, 7, 3],\n",
       "           [5, 7, 1, 3, 1, 2],\n",
       "           [7, 4, 9, 1, 7, 7],\n",
       "           [9, 3, 1, 9, 7, 2],\n",
       "           [8, 4, 3, 6, 1, 6]]]], dtype=torch.int32),\n",
       " torch.Size([3, 1, 6, 6]))"
      ]
     },
     "execution_count": 132,
     "metadata": {},
     "output_type": "execute_result"
    }
   ],
   "source": [
    "#unsqueeze dim=1\n",
    "b=D.unsqueeze(dim=1)\n",
    "b,D.unsqueeze(dim=1).shape"
   ]
  },
  {
   "cell_type": "code",
   "execution_count": 133,
   "id": "47ff00ba",
   "metadata": {},
   "outputs": [
    {
     "data": {
      "text/plain": [
       "tensor(9, dtype=torch.int32)"
      ]
     },
     "execution_count": 133,
     "metadata": {},
     "output_type": "execute_result"
    }
   ],
   "source": [
    "b[1][0][5][2]"
   ]
  },
  {
   "cell_type": "code",
   "execution_count": 134,
   "id": "9de86c32",
   "metadata": {},
   "outputs": [
    {
     "data": {
      "text/plain": [
       "(tensor([[[[9, 1, 1, 3, 4, 2]],\n",
       " \n",
       "          [[1, 1, 8, 6, 5, 1]],\n",
       " \n",
       "          [[6, 3, 8, 6, 4, 7]],\n",
       " \n",
       "          [[3, 8, 7, 2, 9, 4]],\n",
       " \n",
       "          [[8, 8, 4, 8, 7, 6]],\n",
       " \n",
       "          [[8, 7, 4, 1, 9, 1]]],\n",
       " \n",
       " \n",
       "         [[[2, 9, 2, 8, 6, 4]],\n",
       " \n",
       "          [[2, 6, 4, 1, 2, 9]],\n",
       " \n",
       "          [[1, 8, 6, 5, 7, 9]],\n",
       " \n",
       "          [[8, 1, 2, 8, 2, 5]],\n",
       " \n",
       "          [[1, 8, 4, 6, 2, 1]],\n",
       " \n",
       "          [[6, 2, 9, 1, 7, 3]]],\n",
       " \n",
       " \n",
       "         [[[3, 4, 3, 3, 3, 2]],\n",
       " \n",
       "          [[4, 8, 1, 9, 7, 3]],\n",
       " \n",
       "          [[5, 7, 1, 3, 1, 2]],\n",
       " \n",
       "          [[7, 4, 9, 1, 7, 7]],\n",
       " \n",
       "          [[9, 3, 1, 9, 7, 2]],\n",
       " \n",
       "          [[8, 4, 3, 6, 1, 6]]]], dtype=torch.int32),\n",
       " torch.Size([3, 6, 1, 6]))"
      ]
     },
     "execution_count": 134,
     "metadata": {},
     "output_type": "execute_result"
    }
   ],
   "source": [
    "#unsqueeze dim=2\n",
    "c=D.unsqueeze(dim=2)\n",
    "c,D.unsqueeze(dim=2).shape"
   ]
  },
  {
   "cell_type": "markdown",
   "id": "f1518475",
   "metadata": {},
   "source": [
    "## torch.permute"
   ]
  },
  {
   "cell_type": "code",
   "execution_count": 135,
   "id": "4490996a",
   "metadata": {},
   "outputs": [],
   "source": [
    "x_image=random_gen(1,44,shape=(6,6,3)) #(height, width, channel)"
   ]
  },
  {
   "cell_type": "code",
   "execution_count": 136,
   "id": "d90892ba",
   "metadata": {},
   "outputs": [],
   "source": [
    "#permute to rearrange the axis (or dim) order"
   ]
  },
  {
   "cell_type": "code",
   "execution_count": 137,
   "id": "64c98e1c",
   "metadata": {},
   "outputs": [],
   "source": [
    "x_permuted=x_image.permute((2,1,0))"
   ]
  },
  {
   "cell_type": "code",
   "execution_count": 138,
   "id": "62db521b",
   "metadata": {},
   "outputs": [
    {
     "data": {
      "text/plain": [
       "tensor([[[16, 42,  5,  5, 28, 35],\n",
       "         [ 7, 42, 19, 43, 36, 23],\n",
       "         [ 9, 32, 39, 38, 16, 26],\n",
       "         [21,  8, 22, 29, 25, 40],\n",
       "         [28, 37, 30, 40, 25, 16],\n",
       "         [26, 40, 17, 33, 17, 19]],\n",
       "\n",
       "        [[ 1, 20, 28,  1, 27, 11],\n",
       "         [10, 43, 23, 13,  8, 38],\n",
       "         [ 7, 11, 21,  2, 14, 24],\n",
       "         [ 9, 37, 42, 31, 38, 14],\n",
       "         [43, 42, 25, 19,  9, 11],\n",
       "         [31, 12, 42,  6, 27, 12]],\n",
       "\n",
       "        [[18, 22, 12,  5, 20, 11],\n",
       "         [14, 40, 12, 26, 24,  2],\n",
       "         [19,  9, 10, 35, 21, 38],\n",
       "         [29, 24, 12,  3, 38,  4],\n",
       "         [24,  2, 14, 14,  5,  9],\n",
       "         [31, 24, 37, 14, 40, 10]]], dtype=torch.int32)"
      ]
     },
     "execution_count": 138,
     "metadata": {},
     "output_type": "execute_result"
    }
   ],
   "source": [
    "x_permuted"
   ]
  },
  {
   "cell_type": "code",
   "execution_count": 139,
   "id": "2f7b69cd",
   "metadata": {},
   "outputs": [],
   "source": [
    "#indexing with tensor"
   ]
  },
  {
   "cell_type": "code",
   "execution_count": 141,
   "id": "c243a6f3",
   "metadata": {},
   "outputs": [
    {
     "data": {
      "text/plain": [
       "torch.Size([6, 6, 3])"
      ]
     },
     "execution_count": 141,
     "metadata": {},
     "output_type": "execute_result"
    }
   ],
   "source": [
    "x_image.shape"
   ]
  },
  {
   "cell_type": "code",
   "execution_count": 142,
   "id": "5878fefe",
   "metadata": {},
   "outputs": [
    {
     "data": {
      "text/plain": [
       "tensor([[[16,  1, 18],\n",
       "         [ 7, 10, 14],\n",
       "         [ 9,  7, 19],\n",
       "         [21,  9, 29],\n",
       "         [28, 43, 24],\n",
       "         [26, 31, 31]],\n",
       "\n",
       "        [[42, 20, 22],\n",
       "         [42, 43, 40],\n",
       "         [32, 11,  9],\n",
       "         [ 8, 37, 24],\n",
       "         [37, 42,  2],\n",
       "         [40, 12, 24]],\n",
       "\n",
       "        [[ 5, 28, 12],\n",
       "         [19, 23, 12],\n",
       "         [39, 21, 10],\n",
       "         [22, 42, 12],\n",
       "         [30, 25, 14],\n",
       "         [17, 42, 37]],\n",
       "\n",
       "        [[ 5,  1,  5],\n",
       "         [43, 13, 26],\n",
       "         [38,  2, 35],\n",
       "         [29, 31,  3],\n",
       "         [40, 19, 14],\n",
       "         [33,  6, 14]],\n",
       "\n",
       "        [[28, 27, 20],\n",
       "         [36,  8, 24],\n",
       "         [16, 14, 21],\n",
       "         [25, 38, 38],\n",
       "         [25,  9,  5],\n",
       "         [17, 27, 40]],\n",
       "\n",
       "        [[35, 11, 11],\n",
       "         [23, 38,  2],\n",
       "         [26, 24, 38],\n",
       "         [40, 14,  4],\n",
       "         [16, 11,  9],\n",
       "         [19, 12, 10]]], dtype=torch.int32)"
      ]
     },
     "execution_count": 142,
     "metadata": {},
     "output_type": "execute_result"
    }
   ],
   "source": [
    "x_image"
   ]
  },
  {
   "cell_type": "code",
   "execution_count": 146,
   "id": "dc3d17d9",
   "metadata": {},
   "outputs": [
    {
     "data": {
      "text/plain": [
       "tensor(10, dtype=torch.int32)"
      ]
     },
     "execution_count": 146,
     "metadata": {},
     "output_type": "execute_result"
    }
   ],
   "source": [
    "x_image[0][1][1]"
   ]
  },
  {
   "cell_type": "code",
   "execution_count": 152,
   "id": "948bf33a",
   "metadata": {},
   "outputs": [
    {
     "data": {
      "text/plain": [
       "tensor([[ 1, 10,  7,  9, 43, 31],\n",
       "        [20, 43, 11, 37, 42, 12],\n",
       "        [28, 23, 21, 42, 25, 42],\n",
       "        [ 1, 13,  2, 31, 19,  6],\n",
       "        [27,  8, 14, 38,  9, 27],\n",
       "        [11, 38, 24, 14, 11, 12]], dtype=torch.int32)"
      ]
     },
     "execution_count": 152,
     "metadata": {},
     "output_type": "execute_result"
    }
   ],
   "source": [
    "x_image[:,:,1]"
   ]
  },
  {
   "cell_type": "code",
   "execution_count": 153,
   "id": "ba3331a5",
   "metadata": {},
   "outputs": [
    {
     "data": {
      "text/plain": [
       "tensor([10, 43, 23, 13,  8, 38], dtype=torch.int32)"
      ]
     },
     "execution_count": 153,
     "metadata": {},
     "output_type": "execute_result"
    }
   ],
   "source": [
    "x_image[:,1,1]"
   ]
  },
  {
   "cell_type": "code",
   "execution_count": 154,
   "id": "2873cbd4",
   "metadata": {},
   "outputs": [],
   "source": [
    "x=torch.tensor([[[1,2,3],\n",
    "                [4,5,6],\n",
    "                [7,8,9]]])"
   ]
  },
  {
   "cell_type": "code",
   "execution_count": 156,
   "id": "61c4d125",
   "metadata": {},
   "outputs": [
    {
     "data": {
      "text/plain": [
       "tensor([[[1, 2, 3],\n",
       "         [4, 5, 6],\n",
       "         [7, 8, 9]]])"
      ]
     },
     "execution_count": 156,
     "metadata": {},
     "output_type": "execute_result"
    }
   ],
   "source": [
    "x"
   ]
  },
  {
   "cell_type": "code",
   "execution_count": 160,
   "id": "023a7c94",
   "metadata": {},
   "outputs": [
    {
     "data": {
      "text/plain": [
       "tensor(9)"
      ]
     },
     "execution_count": 160,
     "metadata": {},
     "output_type": "execute_result"
    }
   ],
   "source": [
    "x[0][2][2]"
   ]
  },
  {
   "cell_type": "code",
   "execution_count": 164,
   "id": "fc7d39f7",
   "metadata": {},
   "outputs": [
    {
     "data": {
      "text/plain": [
       "tensor([[3, 6, 9]])"
      ]
     },
     "execution_count": 164,
     "metadata": {},
     "output_type": "execute_result"
    }
   ],
   "source": [
    "x[:,:,2]"
   ]
  },
  {
   "cell_type": "markdown",
   "id": "2e1defa6",
   "metadata": {},
   "source": [
    "# pytorch and numpy"
   ]
  },
  {
   "cell_type": "code",
   "execution_count": 168,
   "id": "6e15c259",
   "metadata": {},
   "outputs": [],
   "source": [
    "#convert numpy to pytorch tensor\n",
    "# torch.from_numpy(ndarray)\n",
    "\n",
    "#from pytorch tensor to numpy\n",
    "# torch.Tensor.numpy()"
   ]
  },
  {
   "cell_type": "code",
   "execution_count": 169,
   "id": "919c99e6",
   "metadata": {},
   "outputs": [],
   "source": [
    "#numpy to tensor\n",
    "import torch\n",
    "import numpy as np\n"
   ]
  },
  {
   "cell_type": "code",
   "execution_count": 174,
   "id": "d8ef2856",
   "metadata": {},
   "outputs": [
    {
     "data": {
      "text/plain": [
       "(array([1, 2, 3, 4, 5, 6, 7, 8, 9]),\n",
       " tensor([1., 2., 3., 4., 5., 6., 7., 8., 9.]))"
      ]
     },
     "execution_count": 174,
     "metadata": {},
     "output_type": "execute_result"
    }
   ],
   "source": [
    "array=np.arange(1,10)\n",
    "tensor=torch.from_numpy(array).type(torch.float32)\n",
    "array,tensor"
   ]
  },
  {
   "cell_type": "code",
   "execution_count": 176,
   "id": "6436f687",
   "metadata": {},
   "outputs": [
    {
     "data": {
      "text/plain": [
       "(dtype('int32'), torch.float32)"
      ]
     },
     "execution_count": 176,
     "metadata": {},
     "output_type": "execute_result"
    }
   ],
   "source": [
    "array.dtype,tensor.dtype"
   ]
  },
  {
   "cell_type": "code",
   "execution_count": 180,
   "id": "389ddec2",
   "metadata": {},
   "outputs": [],
   "source": [
    "#from tensor to numpy\n",
    "arr=tensor.numpy()"
   ]
  },
  {
   "cell_type": "code",
   "execution_count": 181,
   "id": "f7ebadae",
   "metadata": {},
   "outputs": [
    {
     "data": {
      "text/plain": [
       "dtype('float32')"
      ]
     },
     "execution_count": 181,
     "metadata": {},
     "output_type": "execute_result"
    }
   ],
   "source": [
    "arr.dtype"
   ]
  },
  {
   "cell_type": "markdown",
   "id": "18ab2431",
   "metadata": {},
   "source": [
    "# Reproducbility ( trying to take random out of random\n",
    "\n",
    "In short how a neural network learns:\n",
    "'start with random numbers -> tensor operation -> update random number to try and make them better representation of the data -> again -> again...'\n",
    "\n",
    "\n",
    "To reduce the randomness in NN and pytorch is with ** random seed **"
   ]
  },
  {
   "cell_type": "code",
   "execution_count": 187,
   "id": "7aa4cfb8",
   "metadata": {},
   "outputs": [
    {
     "name": "stdout",
     "output_type": "stream",
     "text": [
      "tensor([[0.2038, 0.1017, 0.5091, 0.0471],\n",
      "        [0.9968, 0.8610, 0.4879, 0.9941],\n",
      "        [0.1411, 0.2828, 0.7974, 0.9625]]) tensor([[0.3950, 0.2486, 0.6612, 0.7344],\n",
      "        [0.1536, 0.3506, 0.4506, 0.6494],\n",
      "        [0.2072, 0.9523, 0.0996, 0.6275]])\n",
      "tensor([[False, False, False, False],\n",
      "        [False, False, False, False],\n",
      "        [False, False, False, False]])\n"
     ]
    }
   ],
   "source": [
    "import torch\n",
    "#create tensor\n",
    "A=torch.rand(3,4)\n",
    "B=torch.rand(3,4)\n",
    "print(A,B)\n",
    "print(A==B)"
   ]
  },
  {
   "cell_type": "code",
   "execution_count": 188,
   "id": "8c1ff336",
   "metadata": {},
   "outputs": [
    {
     "data": {
      "text/plain": [
       "<torch._C.Generator at 0x18735157710>"
      ]
     },
     "execution_count": 188,
     "metadata": {},
     "output_type": "execute_result"
    }
   ],
   "source": [
    "#use of random seed\n",
    "\n",
    "import torch\n",
    "#set the random seed\n",
    "random_seed=42\n",
    "torch.manual_seed(random_seed)"
   ]
  },
  {
   "cell_type": "code",
   "execution_count": 193,
   "id": "6b15e86e",
   "metadata": {},
   "outputs": [
    {
     "name": "stdout",
     "output_type": "stream",
     "text": [
      "tensor([[0.8823, 0.9150, 0.3829, 0.9593],\n",
      "        [0.3904, 0.6009, 0.2566, 0.7936],\n",
      "        [0.9408, 0.1332, 0.9346, 0.5936]]) tensor([[0.8823, 0.9150, 0.3829, 0.9593],\n",
      "        [0.3904, 0.6009, 0.2566, 0.7936],\n",
      "        [0.9408, 0.1332, 0.9346, 0.5936]])\n",
      "tensor([[True, True, True, True],\n",
      "        [True, True, True, True],\n",
      "        [True, True, True, True]])\n"
     ]
    }
   ],
   "source": [
    "import torch\n",
    "#create tensor\n",
    "torch.manual_seed(random_seed)\n",
    "C=torch.rand(3,4)\n",
    "torch.manual_seed(random_seed) \n",
    "D=torch.rand(3,4)\n",
    "print(C,D)\n",
    "print(C==D)"
   ]
  },
  {
   "cell_type": "markdown",
   "id": "fd1add28",
   "metadata": {},
   "source": [
    "# Accessing GPU"
   ]
  },
  {
   "cell_type": "code",
   "execution_count": 194,
   "id": "dd97a1f9",
   "metadata": {},
   "outputs": [],
   "source": [
    "#check for GPU access for pytorch"
   ]
  },
  {
   "cell_type": "code",
   "execution_count": 195,
   "id": "b2a56d65",
   "metadata": {},
   "outputs": [
    {
     "name": "stderr",
     "output_type": "stream",
     "text": [
      "'nvidia-smi' is not recognized as an internal or external command,\n",
      "operable program or batch file.\n"
     ]
    }
   ],
   "source": [
    "!nvidia-smi"
   ]
  },
  {
   "cell_type": "code",
   "execution_count": 197,
   "id": "7f96185c",
   "metadata": {},
   "outputs": [
    {
     "data": {
      "text/plain": [
       "False"
      ]
     },
     "execution_count": 197,
     "metadata": {},
     "output_type": "execute_result"
    }
   ],
   "source": [
    "torch.cuda.is_available()"
   ]
  },
  {
   "cell_type": "markdown",
   "id": "f0ab9730",
   "metadata": {},
   "source": [
    "## setup device agnostic code"
   ]
  },
  {
   "cell_type": "code",
   "execution_count": 201,
   "id": "c028657f",
   "metadata": {},
   "outputs": [],
   "source": [
    "device=\"cuda\" if torch.cuda.is_available() else \"cpu\""
   ]
  },
  {
   "cell_type": "code",
   "execution_count": 202,
   "id": "50b1b4ee",
   "metadata": {},
   "outputs": [
    {
     "data": {
      "text/plain": [
       "'cpu'"
      ]
     },
     "execution_count": 202,
     "metadata": {},
     "output_type": "execute_result"
    }
   ],
   "source": [
    "device"
   ]
  },
  {
   "cell_type": "code",
   "execution_count": 203,
   "id": "3f5e756e",
   "metadata": {},
   "outputs": [
    {
     "data": {
      "text/plain": [
       "0"
      ]
     },
     "execution_count": 203,
     "metadata": {},
     "output_type": "execute_result"
    }
   ],
   "source": [
    "#count number of devices\n",
    "torch.cuda.device_count()"
   ]
  },
  {
   "cell_type": "markdown",
   "id": "ce9df0e3",
   "metadata": {},
   "source": [
    "# running on GPU"
   ]
  },
  {
   "cell_type": "code",
   "execution_count": 205,
   "id": "7624d00e",
   "metadata": {},
   "outputs": [],
   "source": [
    "#create a tensor #not on GPU\n",
    "tensor=random_gen(1,100,(3,3))"
   ]
  },
  {
   "cell_type": "code",
   "execution_count": 206,
   "id": "fe649f85",
   "metadata": {},
   "outputs": [
    {
     "name": "stdout",
     "output_type": "stream",
     "text": [
      "tensor([[44, 30, 83],\n",
      "        [11, 27, 36],\n",
      "        [20, 55,  1]], dtype=torch.int32) cpu\n"
     ]
    }
   ],
   "source": [
    "print(tensor,tensor.device)"
   ]
  },
  {
   "cell_type": "code",
   "execution_count": 209,
   "id": "f68fea6b",
   "metadata": {},
   "outputs": [
    {
     "data": {
      "text/plain": [
       "tensor([[44, 30, 83],\n",
       "        [11, 27, 36],\n",
       "        [20, 55,  1]], dtype=torch.int32)"
      ]
     },
     "execution_count": 209,
     "metadata": {},
     "output_type": "execute_result"
    }
   ],
   "source": [
    "tensor.to(device)"
   ]
  },
  {
   "cell_type": "code",
   "execution_count": 210,
   "id": "6d6fdad8",
   "metadata": {},
   "outputs": [],
   "source": [
    "#move tensor to cpu"
   ]
  },
  {
   "cell_type": "code",
   "execution_count": 211,
   "id": "ded58950",
   "metadata": {},
   "outputs": [],
   "source": [
    "# if tensor is on GPU, can't transform to numpy"
   ]
  },
  {
   "cell_type": "code",
   "execution_count": 212,
   "id": "fd379b2f",
   "metadata": {},
   "outputs": [
    {
     "data": {
      "text/plain": [
       "tensor([[44, 30, 83],\n",
       "        [11, 27, 36],\n",
       "        [20, 55,  1]], dtype=torch.int32)"
      ]
     },
     "execution_count": 212,
     "metadata": {},
     "output_type": "execute_result"
    }
   ],
   "source": [
    "tensor.cpu()"
   ]
  },
  {
   "cell_type": "code",
   "execution_count": 213,
   "id": "f8e35196",
   "metadata": {},
   "outputs": [
    {
     "data": {
      "text/plain": [
       "array([[44, 30, 83],\n",
       "       [11, 27, 36],\n",
       "       [20, 55,  1]])"
      ]
     },
     "execution_count": 213,
     "metadata": {},
     "output_type": "execute_result"
    }
   ],
   "source": [
    "tensor.cpu().numpy()"
   ]
  },
  {
   "cell_type": "code",
   "execution_count": 1,
   "id": "bf58617b",
   "metadata": {},
   "outputs": [],
   "source": [
    "import torch"
   ]
  },
  {
   "cell_type": "code",
   "execution_count": 35,
   "id": "38c2307f",
   "metadata": {},
   "outputs": [],
   "source": [
    "a=torch.rand((3,4,4))"
   ]
  },
  {
   "cell_type": "code",
   "execution_count": 34,
   "id": "ff9723b1",
   "metadata": {},
   "outputs": [
    {
     "data": {
      "text/plain": [
       "tensor(2.3993)"
      ]
     },
     "execution_count": 34,
     "metadata": {},
     "output_type": "execute_result"
    }
   ],
   "source": [
    "a[0][0][0]+a[0][0][1]+a[0][0][2]"
   ]
  },
  {
   "cell_type": "code",
   "execution_count": 36,
   "id": "88b06978",
   "metadata": {},
   "outputs": [
    {
     "name": "stdout",
     "output_type": "stream",
     "text": [
      "tensor([[[0.1327, 0.7925, 0.2618, 0.0581],\n",
      "         [0.1079, 0.1121, 0.2307, 0.4326],\n",
      "         [0.8868, 0.1665, 0.2949, 0.3606],\n",
      "         [0.6654, 0.3995, 0.0417, 0.5283]],\n",
      "\n",
      "        [[0.6238, 0.6500, 0.0280, 0.4176],\n",
      "         [0.4585, 0.0740, 0.1685, 0.3500],\n",
      "         [0.4312, 0.8629, 0.2094, 0.5178],\n",
      "         [0.2855, 0.5570, 0.2079, 0.6160]],\n",
      "\n",
      "        [[0.3942, 0.4036, 0.3672, 0.5985],\n",
      "         [0.7657, 0.4916, 0.3846, 0.9911],\n",
      "         [0.1342, 0.1254, 0.0336, 0.7399],\n",
      "         [0.8426, 0.1480, 0.9893, 0.5915]]])\n"
     ]
    }
   ],
   "source": [
    "print(a)"
   ]
  },
  {
   "cell_type": "code",
   "execution_count": 37,
   "id": "ef4a755e",
   "metadata": {},
   "outputs": [],
   "source": [
    "b=torch.sum(a,2)"
   ]
  },
  {
   "cell_type": "code",
   "execution_count": 38,
   "id": "f795d5a5",
   "metadata": {},
   "outputs": [
    {
     "name": "stdout",
     "output_type": "stream",
     "text": [
      "tensor([[1.2450, 0.8834, 1.7087, 1.6349],\n",
      "        [1.7194, 1.0511, 2.0212, 1.6664],\n",
      "        [1.7636, 2.6330, 1.0330, 2.5713]])\n"
     ]
    }
   ],
   "source": [
    "print(b)"
   ]
  },
  {
   "cell_type": "code",
   "execution_count": 33,
   "id": "5cd15a06",
   "metadata": {},
   "outputs": [
    {
     "data": {
      "text/plain": [
       "torch.Size([4, 4])"
      ]
     },
     "execution_count": 33,
     "metadata": {},
     "output_type": "execute_result"
    }
   ],
   "source": [
    "b.shape"
   ]
  },
  {
   "cell_type": "code",
   "execution_count": 63,
   "id": "bc1456a9",
   "metadata": {},
   "outputs": [],
   "source": [
    "a=torch.rand(5)"
   ]
  },
  {
   "cell_type": "code",
   "execution_count": 64,
   "id": "0beb2e54",
   "metadata": {},
   "outputs": [
    {
     "data": {
      "text/plain": [
       "tensor([0.8243, 0.9642, 0.2005, 0.7480, 0.6620])"
      ]
     },
     "execution_count": 64,
     "metadata": {},
     "output_type": "execute_result"
    }
   ],
   "source": [
    "a"
   ]
  },
  {
   "cell_type": "code",
   "execution_count": 66,
   "id": "f2738989",
   "metadata": {},
   "outputs": [
    {
     "data": {
      "text/plain": [
       "tensor([ 3.3990+0.0000j,  0.5596+0.0344j, -0.1982-0.6983j, -0.1982+0.6983j,\n",
       "         0.5596-0.0344j])"
      ]
     },
     "execution_count": 66,
     "metadata": {},
     "output_type": "execute_result"
    }
   ],
   "source": [
    "torch.fft.fft(a)"
   ]
  },
  {
   "cell_type": "code",
   "execution_count": null,
   "id": "22a2bb5c",
   "metadata": {},
   "outputs": [],
   "source": []
  }
 ],
 "metadata": {
  "kernelspec": {
   "display_name": "Python 3 (ipykernel)",
   "language": "python",
   "name": "python3"
  },
  "language_info": {
   "codemirror_mode": {
    "name": "ipython",
    "version": 3
   },
   "file_extension": ".py",
   "mimetype": "text/x-python",
   "name": "python",
   "nbconvert_exporter": "python",
   "pygments_lexer": "ipython3",
   "version": "3.9.7"
  }
 },
 "nbformat": 4,
 "nbformat_minor": 5
}
